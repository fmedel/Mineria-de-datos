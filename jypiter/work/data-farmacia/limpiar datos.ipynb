{
 "cells": [
  {
   "cell_type": "code",
   "execution_count": 1,
   "metadata": {},
   "outputs": [],
   "source": [
    "Descargar https://www.kaggle.com/c/rossmann-store-sales/data \n", 
    "import pandas as pd"
   ]
  },
  {
   "cell_type": "code",
   "execution_count": 2,
   "metadata": {},
   "outputs": [],
   "source": [
    "f = open('./store.csv','r')\n",
    "store = pd.read_csv(f)"
   ]
  },
  {
   "cell_type": "code",
   "execution_count": 3,
   "metadata": {},
   "outputs": [],
   "source": [
    "def tipo(df,ty):\n",
    "    stack_a=[]\n",
    "    for dfs in df:\n",
    "        if dfs == ty:\n",
    "            stack_a.append(1)\n",
    "        else:\n",
    "            stack_a.append(0) \n",
    "    return stack_a"
   ]
  },
  {
   "cell_type": "code",
   "execution_count": 4,
   "metadata": {},
   "outputs": [],
   "source": [
    "store['tipo_store_a']=tipo(store.StoreType,'a')\n",
    "store['tipo_store_b']=tipo(store.StoreType,'b')\n",
    "store['tipo_store_c']=tipo(store.StoreType,'c')\n",
    "store['tipo_store_d']=tipo(store.StoreType,'d')\n",
    "store['tipo_assortment_a']=tipo(store.Assortment,'a')\n",
    "store['tipo_assortment_b']=tipo(store.Assortment,'b')\n",
    "store['tipo_assortment_c']=tipo(store.Assortment,'c')"
   ]
  },
  {
   "cell_type": "code",
   "execution_count": 5,
   "metadata": {},
   "outputs": [],
   "source": [
    "store.drop('StoreType', axis=1, inplace=True)\n",
    "store.drop('Assortment', axis=1, inplace=True)"
   ]
  },
  {
   "cell_type": "code",
   "execution_count": 6,
   "metadata": {},
   "outputs": [],
   "source": [
    "def pasar_int(df):\n",
    "    stack=[]\n",
    "    for dfs in df:\n",
    "        if pd.isnull(dfs):\n",
    "            stack.append(0)##none = 0\n",
    "        else:\n",
    "            stack.append(int(dfs)) \n",
    "    return stack"
   ]
  },
  {
   "cell_type": "code",
   "execution_count": 7,
   "metadata": {},
   "outputs": [],
   "source": [
    "store['CompetitionDistance_int']=pasar_int(store.CompetitionDistance)\n",
    "store['CompetitionOpenSinceMonth_int']=pasar_int(store.CompetitionOpenSinceMonth)\n",
    "store['CompetitionOpenSinceYear_int']=pasar_int(store.CompetitionOpenSinceYear)\n",
    "store['Promo2SinceYear_int']=pasar_int(store.Promo2SinceYear)\n",
    "store['Promo2SinceWeek_int']=pasar_int(store.Promo2SinceWeek)"
   ]
  },
  {
   "cell_type": "code",
   "execution_count": 8,
   "metadata": {},
   "outputs": [],
   "source": [
    "store.drop('CompetitionDistance', axis=1, inplace=True)\n",
    "store.drop('CompetitionOpenSinceMonth', axis=1, inplace=True)\n",
    "store.drop('CompetitionOpenSinceYear', axis=1, inplace=True)\n",
    "store.drop('Promo2SinceWeek', axis=1, inplace=True)\n",
    "store.drop('Promo2SinceYear', axis=1, inplace=True)"
   ]
  },
  {
   "cell_type": "code",
   "execution_count": 9,
   "metadata": {},
   "outputs": [],
   "source": [
    "store.replace({'PromoInterval': {\"Feb,May,Aug,Nov\": int(0), \"Jan,Apr,Jul,Oct\":int(1) ,\"Mar,Jun,Sept,Dec\":int(2)}},  inplace = True)"
   ]
  },
  {
   "cell_type": "code",
   "execution_count": 10,
   "metadata": {},
   "outputs": [],
   "source": [
    "store['PromoInterval_int']=pasar_int(store.PromoInterval)\n",
    "store.drop('PromoInterval', axis=1, inplace=True)"
   ]
  },
  {
   "cell_type": "code",
   "execution_count": 11,
   "metadata": {},
   "outputs": [
    {
     "name": "stderr",
     "output_type": "stream",
     "text": [
      "/opt/conda/lib/python3.6/site-packages/IPython/core/interactiveshell.py:2785: DtypeWarning: Columns (7) have mixed types. Specify dtype option on import or set low_memory=False.\n",
      "  interactivity=interactivity, compiler=compiler, result=result)\n"
     ]
    }
   ],
   "source": [
    "f = open('./train.csv','r')\n",
    "test = pd.read_csv(f)"
   ]
  },
  {
   "cell_type": "code",
   "execution_count": 12,
   "metadata": {},
   "outputs": [
    {
     "data": {
      "text/html": [
       "<div>\n",
       "<table border=\"1\" class=\"dataframe\">\n",
       "  <thead>\n",
       "    <tr style=\"text-align: right;\">\n",
       "      <th></th>\n",
       "      <th>Store</th>\n",
       "      <th>DayOfWeek</th>\n",
       "      <th>Date</th>\n",
       "      <th>Sales</th>\n",
       "      <th>Customers</th>\n",
       "      <th>Open</th>\n",
       "      <th>Promo</th>\n",
       "      <th>StateHoliday</th>\n",
       "      <th>SchoolHoliday</th>\n",
       "    </tr>\n",
       "  </thead>\n",
       "  <tbody>\n",
       "  </tbody>\n",
       "</table>\n",
       "</div>"
      ],
      "text/plain": [
       "Empty DataFrame\n",
       "Columns: [Store, DayOfWeek, Date, Sales, Customers, Open, Promo, StateHoliday, SchoolHoliday]\n",
       "Index: []"
      ]
     },
     "execution_count": 12,
     "metadata": {},
     "output_type": "execute_result"
    }
   ],
   "source": [
    "test[(test.Open==0)&(test.Sales>0)]"
   ]
  },
  {
   "cell_type": "code",
   "execution_count": 13,
   "metadata": {},
   "outputs": [],
   "source": [
    "test['Open_int']=pasar_int(test.Open)\n",
    "test.drop('Open', axis=1, inplace=True)"
   ]
  },
  {
   "cell_type": "code",
   "execution_count": 15,
   "metadata": {},
   "outputs": [],
   "source": [
    "test.replace({'StateHoliday': {\"0\": int(0),\"a\": int(1),\"b\": int(2),\"c\": int(3)}},  inplace = True)"
   ]
  },
  {
   "cell_type": "code",
   "execution_count": 16,
   "metadata": {},
   "outputs": [],
   "source": [
    "def pasar_holiday(df):\n",
    "    stack_ce=[]\n",
    "    stack_p=[]\n",
    "    stack_e=[]\n",
    "    stack_ch=[]\n",
    "    for holiday in df: \n",
    "        if int(holiday) == 0:\n",
    "            stack_ce.append(1)\n",
    "            stack_p.append(0)\n",
    "            stack_e.append(0)\n",
    "            stack_ch.append(0)\n",
    "            continue\n",
    "        if int(holiday) == 1:\n",
    "            stack_ce.append(0)\n",
    "            stack_p.append(1)\n",
    "            stack_e.append(0)\n",
    "            stack_ch.append(0)\n",
    "            continue\n",
    "        if int(holiday) == 2:\n",
    "            stack_ce.append(0)\n",
    "            stack_p.append(0)\n",
    "            stack_e.append(1)\n",
    "            stack_ch.append(0)\n",
    "            continue\n",
    "        if int(holiday) == 3:\n",
    "            stack_ce.append(0)\n",
    "            stack_p.append(0)\n",
    "            stack_e.append(0)\n",
    "            stack_ch.append(1)\n",
    "            continue\n",
    "        else:\n",
    "            stack_ce.append(1)\n",
    "            stack_p.append(0)\n",
    "            stack_e.append(0)\n",
    "            stack_ch.append(0)\n",
    "            continue\n",
    "    return stack_ce,stack_p,stack_e,stack_ch\n",
    "        "
   ]
  },
  {
   "cell_type": "code",
   "execution_count": 17,
   "metadata": {},
   "outputs": [],
   "source": [
    "test['StateHoliday_cerrado_int'],test['StateHoliday_public_int'], test['StateHoliday_Easter_int'],test['StateHoliday_Christmas_int']=pasar_holiday(test.StateHoliday)\n"
   ]
  },
  {
   "cell_type": "code",
   "execution_count": 18,
   "metadata": {},
   "outputs": [],
   "source": [
    "#tem=test[['StateHoliday','StateHoliday_cerrado_int','StateHoliday_public_int','StateHoliday_Easter_int','StateHoliday_Christmas_int']]\n",
    "#tem[tem.StateHoliday_Christmas_int==1]"
   ]
  },
  {
   "cell_type": "code",
   "execution_count": 19,
   "metadata": {},
   "outputs": [],
   "source": [
    "test.drop('StateHoliday', axis=1, inplace=True)"
   ]
  },
  {
   "cell_type": "code",
   "execution_count": 20,
   "metadata": {},
   "outputs": [],
   "source": [
    "from datetime import datetime\n",
    "def año(df):\n",
    "    stack_año=[]\n",
    "    for fechas in df: \n",
    "        if fechas == 0:\n",
    "            stack_año.append(0)\n",
    "        else:\n",
    "            fecha_año = fechas[:4]\n",
    "            stack_año.append(int(fecha_año))\n",
    "    return stack_año\n",
    "\n",
    "def mes(df):\n",
    "    stack_mes=[]\n",
    "    for fechas in df:\n",
    "        if fechas == 0:\n",
    "            stack_mes.append(0)\n",
    "        else:\n",
    "            fecha_mes = fechas[5:]\n",
    "            fecha_mes=fecha_mes[:2]\n",
    "            if(fecha_mes !=\"\"):\n",
    "                stack_mes.append(int(fecha_mes))\n",
    "            else:\n",
    "                stack_mes.append(0)\n",
    "    return stack_mes\n",
    "def dia(df):\n",
    "    stack_dia=[]\n",
    "    for fechas in df:\n",
    "        if fechas == 0:\n",
    "            stack_dia.append(0)\n",
    "        else:\n",
    "            fecha_dia = fechas[8:]\n",
    "            fecha_dia=fecha_dia[:2]\n",
    "            if(fecha_dia !=\"\"):\n",
    "                stack_dia.append(int(fecha_dia))\n",
    "            else:\n",
    "                stack_dia.append(0)\n",
    "    return stack_dia"
   ]
  },
  {
   "cell_type": "code",
   "execution_count": 21,
   "metadata": {},
   "outputs": [],
   "source": [
    "test['año']=año(test.Date)\n",
    "test['mes']=mes(test.Date)\n",
    "test['dia']=dia(test.Date)"
   ]
  },
  {
   "cell_type": "code",
   "execution_count": 22,
   "metadata": {},
   "outputs": [],
   "source": [
    "test.drop('Date', axis=1, inplace=True)"
   ]
  },
  {
   "cell_type": "code",
   "execution_count": 23,
   "metadata": {},
   "outputs": [],
   "source": [
    "final = store.merge(test, on='Store')"
   ]
  },
  {
   "cell_type": "code",
   "execution_count": 24,
   "metadata": {},
   "outputs": [],
   "source": [
    "final=final[(final.año==2013)|((final.año==2014))]"
   ]
  },
  {
   "cell_type": "code",
   "execution_count": 25,
   "metadata": {},
   "outputs": [],
   "source": [
    "final.to_csv('final.csv')"
   ]
  }
 ],
 "metadata": {
  "kernelspec": {
   "display_name": "Python 3",
   "language": "python",
   "name": "python3"
  },
  "language_info": {
   "codemirror_mode": {
    "name": "ipython",
    "version": 3
   },
   "file_extension": ".py",
   "mimetype": "text/x-python",
   "name": "python",
   "nbconvert_exporter": "python",
   "pygments_lexer": "ipython3",
   "version": "3.6.5"
  }
 },
 "nbformat": 4,
 "nbformat_minor": 2
}
