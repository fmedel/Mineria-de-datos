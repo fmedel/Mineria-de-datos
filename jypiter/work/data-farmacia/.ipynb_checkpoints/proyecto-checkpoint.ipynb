{
 "cells": [
  {
   "cell_type": "code",
   "execution_count": 1,
   "metadata": {},
   "outputs": [],
   "source": [
    "import pandas as pd"
   ]
  },
  {
   "cell_type": "code",
   "execution_count": 2,
   "metadata": {},
   "outputs": [],
   "source": [
    "f = open('./store.csv','r')\n",
    "store = pd.read_csv(f)"
   ]
  },
  {
   "cell_type": "code",
   "execution_count": 3,
   "metadata": {},
   "outputs": [],
   "source": [
    "def tipo(df,ty):\n",
    "    stack_a=[]\n",
    "    for dfs in df:\n",
    "        if dfs == ty:\n",
    "            stack_a.append(1)\n",
    "        else:\n",
    "            stack_a.append(0) \n",
    "    return stack_a"
   ]
  },
  {
   "cell_type": "code",
   "execution_count": 4,
   "metadata": {},
   "outputs": [],
   "source": [
    "store['tipo_store_a']=tipo(store.StoreType,'a')\n",
    "store['tipo_store_b']=tipo(store.StoreType,'b')\n",
    "store['tipo_store_c']=tipo(store.StoreType,'c')\n",
    "store['tipo_assortment_a']=tipo(store.Assortment,'a')\n",
    "store['tipo_assortment_b']=tipo(store.Assortment,'b')\n",
    "store['tipo_assortment_c']=tipo(store.Assortment,'c')"
   ]
  },
  {
   "cell_type": "code",
   "execution_count": 5,
   "metadata": {},
   "outputs": [],
   "source": [
    "store.drop('StoreType', axis=1, inplace=True)\n",
    "store.drop('Assortment', axis=1, inplace=True)"
   ]
  },
  {
   "cell_type": "code",
   "execution_count": 6,
   "metadata": {},
   "outputs": [],
   "source": [
    "def pasar_int(df):\n",
    "    stack=[]\n",
    "    for dfs in df:\n",
    "        if pd.isnull(dfs):\n",
    "            stack.append(0)##none = 0\n",
    "        else:\n",
    "            stack.append(int(dfs)) \n",
    "    return stack"
   ]
  },
  {
   "cell_type": "code",
   "execution_count": 7,
   "metadata": {},
   "outputs": [],
   "source": [
    "store['CompetitionDistance_int']=pasar_int(store.CompetitionDistance)\n",
    "store['CompetitionOpenSinceMonth_int']=pasar_int(store.CompetitionOpenSinceMonth)\n",
    "store['CompetitionOpenSinceYear_int']=pasar_int(store.CompetitionOpenSinceYear)\n",
    "store['Promo2SinceYear_int']=pasar_int(store.Promo2SinceYear)\n",
    "store['Promo2SinceWeek_int']=pasar_int(store.Promo2SinceWeek)"
   ]
  },
  {
   "cell_type": "code",
   "execution_count": 8,
   "metadata": {},
   "outputs": [],
   "source": [
    "store.drop('CompetitionDistance', axis=1, inplace=True)\n",
    "store.drop('CompetitionOpenSinceMonth', axis=1, inplace=True)\n",
    "store.drop('CompetitionOpenSinceYear', axis=1, inplace=True)\n",
    "store.drop('Promo2SinceWeek', axis=1, inplace=True)\n",
    "store.drop('Promo2SinceYear', axis=1, inplace=True)"
   ]
  },
  {
   "cell_type": "code",
   "execution_count": 10,
   "metadata": {},
   "outputs": [],
   "source": [
    "store.replace({'PromoInterval': {\"Feb,May,Aug,Nov\": int(0), \"Jan,Apr,Jul,Oct\":int(1) ,\"Mar,Jun,Sept,Dec\":int(2)}},  inplace = True)"
   ]
  },
  {
   "cell_type": "code",
   "execution_count": 11,
   "metadata": {},
   "outputs": [],
   "source": [
    "store['PromoInterval_int']=pasar_int(store.PromoInterval)\n",
    "store.drop('PromoInterval', axis=1, inplace=True)"
   ]
  },
  {
   "cell_type": "code",
   "execution_count": 39,
   "metadata": {},
   "outputs": [
    {
     "name": "stderr",
     "output_type": "stream",
     "text": [
      "/opt/conda/lib/python3.6/site-packages/IPython/core/interactiveshell.py:2785: DtypeWarning: Columns (7) have mixed types. Specify dtype option on import or set low_memory=False.\n",
      "  interactivity=interactivity, compiler=compiler, result=result)\n"
     ]
    }
   ],
   "source": [
    "f = open('./train.csv','r')\n",
    "test = pd.read_csv(f)"
   ]
  },
  {
   "cell_type": "code",
   "execution_count": 41,
   "metadata": {},
   "outputs": [],
   "source": [
    "test['Open_int']=pasar_int(test.Open)\n",
    "test.drop('Open', axis=1, inplace=True)"
   ]
  },
  {
   "cell_type": "code",
   "execution_count": 42,
   "metadata": {},
   "outputs": [],
   "source": [
    "test.replace({'StateHoliday': {\"a\": int(1)}},  inplace = True)"
   ]
  },
  {
   "cell_type": "code",
   "execution_count": null,
   "metadata": {},
   "outputs": [],
   "source": []
  },
  {
   "cell_type": "code",
   "execution_count": 45,
   "metadata": {},
   "outputs": [
    {
     "data": {
      "text/plain": [
       "StateHoliday\n",
       "0    131072\n",
       "1     20260\n",
       "0    855087\n",
       "b      6690\n",
       "c      4100\n",
       "Name: Store, dtype: int64"
      ]
     },
     "execution_count": 45,
     "metadata": {},
     "output_type": "execute_result"
    }
   ],
   "source": [
    "test.groupby('StateHoliday').Store.count()"
   ]
  },
  {
   "cell_type": "code",
   "execution_count": 43,
   "metadata": {},
   "outputs": [
    {
     "ename": "ValueError",
     "evalue": "invalid literal for int() with base 10: 'b'",
     "output_type": "error",
     "traceback": [
      "\u001b[0;31m---------------------------------------------------------------------------\u001b[0m",
      "\u001b[0;31mValueError\u001b[0m                                Traceback (most recent call last)",
      "\u001b[0;32m<ipython-input-43-1a0a6080b288>\u001b[0m in \u001b[0;36m<module>\u001b[0;34m()\u001b[0m\n\u001b[0;32m----> 1\u001b[0;31m \u001b[0mtest\u001b[0m\u001b[0;34m[\u001b[0m\u001b[0;34m'StateHoliday_int'\u001b[0m\u001b[0;34m]\u001b[0m\u001b[0;34m=\u001b[0m\u001b[0mpasar_int\u001b[0m\u001b[0;34m(\u001b[0m\u001b[0mtest\u001b[0m\u001b[0;34m.\u001b[0m\u001b[0mStateHoliday\u001b[0m\u001b[0;34m)\u001b[0m\u001b[0;34m\u001b[0m\u001b[0m\n\u001b[0m\u001b[1;32m      2\u001b[0m \u001b[0mtest\u001b[0m\u001b[0;34m.\u001b[0m\u001b[0mdrop\u001b[0m\u001b[0;34m(\u001b[0m\u001b[0;34m'StateHoliday'\u001b[0m\u001b[0;34m,\u001b[0m \u001b[0maxis\u001b[0m\u001b[0;34m=\u001b[0m\u001b[0;36m1\u001b[0m\u001b[0;34m,\u001b[0m \u001b[0minplace\u001b[0m\u001b[0;34m=\u001b[0m\u001b[0;32mTrue\u001b[0m\u001b[0;34m)\u001b[0m\u001b[0;34m\u001b[0m\u001b[0m\n",
      "\u001b[0;32m<ipython-input-6-7c6fe94cd598>\u001b[0m in \u001b[0;36mpasar_int\u001b[0;34m(df)\u001b[0m\n\u001b[1;32m      5\u001b[0m             \u001b[0mstack\u001b[0m\u001b[0;34m.\u001b[0m\u001b[0mappend\u001b[0m\u001b[0;34m(\u001b[0m\u001b[0;36m0\u001b[0m\u001b[0;34m)\u001b[0m\u001b[0;31m##none = 0\u001b[0m\u001b[0;34m\u001b[0m\u001b[0m\n\u001b[1;32m      6\u001b[0m         \u001b[0;32melse\u001b[0m\u001b[0;34m:\u001b[0m\u001b[0;34m\u001b[0m\u001b[0m\n\u001b[0;32m----> 7\u001b[0;31m             \u001b[0mstack\u001b[0m\u001b[0;34m.\u001b[0m\u001b[0mappend\u001b[0m\u001b[0;34m(\u001b[0m\u001b[0mint\u001b[0m\u001b[0;34m(\u001b[0m\u001b[0mdfs\u001b[0m\u001b[0;34m)\u001b[0m\u001b[0;34m)\u001b[0m\u001b[0;34m\u001b[0m\u001b[0m\n\u001b[0m\u001b[1;32m      8\u001b[0m     \u001b[0;32mreturn\u001b[0m \u001b[0mstack\u001b[0m\u001b[0;34m\u001b[0m\u001b[0m\n",
      "\u001b[0;31mValueError\u001b[0m: invalid literal for int() with base 10: 'b'"
     ]
    }
   ],
   "source": [
    "test['StateHoliday_int']=pasar_int(test.StateHoliday)\n",
    "test.drop('StateHoliday', axis=1, inplace=True)"
   ]
  },
  {
   "cell_type": "code",
   "execution_count": 40,
   "metadata": {},
   "outputs": [
    {
     "name": "stdout",
     "output_type": "stream",
     "text": [
      "<class 'pandas.core.frame.DataFrame'>\n",
      "RangeIndex: 1017209 entries, 0 to 1017208\n",
      "Data columns (total 9 columns):\n",
      "Store            1017209 non-null int64\n",
      "DayOfWeek        1017209 non-null int64\n",
      "Date             1017209 non-null object\n",
      "Sales            1017209 non-null int64\n",
      "Customers        1017209 non-null int64\n",
      "Open             1017209 non-null int64\n",
      "Promo            1017209 non-null int64\n",
      "StateHoliday     1017209 non-null object\n",
      "SchoolHoliday    1017209 non-null int64\n",
      "dtypes: int64(7), object(2)\n",
      "memory usage: 69.8+ MB\n"
     ]
    }
   ],
   "source": [
    "test.info()"
   ]
  },
  {
   "cell_type": "code",
   "execution_count": 35,
   "metadata": {},
   "outputs": [],
   "source": [
    "from datetime import datetime\n",
    "def año(df):\n",
    "    stack_año=[]\n",
    "    for fechas in df: \n",
    "        if fechas == 0:\n",
    "            stack_año.append(0)\n",
    "        else:\n",
    "            fecha_año = fechas[:4]\n",
    "            stack_año.append(fecha_año)\n",
    "    return stack_año\n",
    "\n",
    "def mes(df):\n",
    "    stack_mes=[]\n",
    "    for fechas in df:\n",
    "        if fechas == 0:\n",
    "            stack_mes.append(rango_fecha_mes(0))\n",
    "        else:\n",
    "            fecha_mes = fechas[5:]\n",
    "            fecha_mes=fecha_mes[:2]\n",
    "            if(fecha_mes !=\"\"):\n",
    "                stack_mes.append(int(fecha_mes))\n",
    "            else:\n",
    "                stack_mes.append(rango_fecha_mes(0))\n",
    "    return stack_mes"
   ]
  },
  {
   "cell_type": "code",
   "execution_count": 36,
   "metadata": {},
   "outputs": [],
   "source": [
    "test['año']=año(test.Date)"
   ]
  },
  {
   "cell_type": "code",
   "execution_count": null,
   "metadata": {},
   "outputs": [],
   "source": [
    "t"
   ]
  }
 ],
 "metadata": {
  "kernelspec": {
   "display_name": "Python 3",
   "language": "python",
   "name": "python3"
  },
  "language_info": {
   "codemirror_mode": {
    "name": "ipython",
    "version": 3
   },
   "file_extension": ".py",
   "mimetype": "text/x-python",
   "name": "python",
   "nbconvert_exporter": "python",
   "pygments_lexer": "ipython3",
   "version": "3.6.5"
  }
 },
 "nbformat": 4,
 "nbformat_minor": 2
}
