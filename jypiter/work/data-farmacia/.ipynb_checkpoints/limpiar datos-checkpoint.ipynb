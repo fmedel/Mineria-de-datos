{
 "cells": [
  {
   "cell_type": "code",
   "execution_count": 1,
   "metadata": {},
   "outputs": [],
   "source": [
    "import pandas as pd"
   ]
  },
  {
   "cell_type": "code",
   "execution_count": 2,
   "metadata": {},
   "outputs": [],
   "source": [
    "f = open('./store.csv','r')\n",
    "store = pd.read_csv(f)"
   ]
  },
  {
   "cell_type": "code",
   "execution_count": 3,
   "metadata": {},
   "outputs": [],
   "source": [
    "def tipo(df,ty):\n",
    "    stack_a=[]\n",
    "    for dfs in df:\n",
    "        if dfs == ty:\n",
    "            stack_a.append(1)\n",
    "        else:\n",
    "            stack_a.append(0) \n",
    "    return stack_a"
   ]
  },
  {
   "cell_type": "code",
   "execution_count": 4,
   "metadata": {},
   "outputs": [],
   "source": [
    "store['tipo_store_a']=tipo(store.StoreType,'a')\n",
    "store['tipo_store_b']=tipo(store.StoreType,'b')\n",
    "store['tipo_store_c']=tipo(store.StoreType,'c')\n",
    "store['tipo_store_d']=tipo(store.StoreType,'d')\n",
    "store['tipo_assortment_a']=tipo(store.Assortment,'a')\n",
    "store['tipo_assortment_b']=tipo(store.Assortment,'b')\n",
    "store['tipo_assortment_c']=tipo(store.Assortment,'c')"
   ]
  },
  {
   "cell_type": "code",
   "execution_count": 5,
   "metadata": {},
   "outputs": [],
   "source": [
    "store.drop('StoreType', axis=1, inplace=True)\n",
    "store.drop('Assortment', axis=1, inplace=True)"
   ]
  },
  {
   "cell_type": "code",
   "execution_count": 6,
   "metadata": {},
   "outputs": [],
   "source": [
    "def pasar_int(df):\n",
    "    stack=[]\n",
    "    for dfs in df:\n",
    "        if pd.isnull(dfs):\n",
    "            stack.append(0)##none = 0\n",
    "        else:\n",
    "            stack.append(int(dfs)) \n",
    "    return stack"
   ]
  },
  {
   "cell_type": "code",
   "execution_count": 7,
   "metadata": {},
   "outputs": [],
   "source": [
    "store['CompetitionDistance_int']=pasar_int(store.CompetitionDistance)\n",
    "store['CompetitionOpenSinceMonth_int']=pasar_int(store.CompetitionOpenSinceMonth)\n",
    "store['CompetitionOpenSinceYear_int']=pasar_int(store.CompetitionOpenSinceYear)\n",
    "store['Promo2SinceYear_int']=pasar_int(store.Promo2SinceYear)\n",
    "store['Promo2SinceWeek_int']=pasar_int(store.Promo2SinceWeek)"
   ]
  },
  {
   "cell_type": "code",
   "execution_count": 8,
   "metadata": {},
   "outputs": [],
   "source": [
    "store.drop('CompetitionDistance', axis=1, inplace=True)\n",
    "store.drop('CompetitionOpenSinceMonth', axis=1, inplace=True)\n",
    "store.drop('CompetitionOpenSinceYear', axis=1, inplace=True)\n",
    "store.drop('Promo2SinceWeek', axis=1, inplace=True)\n",
    "store.drop('Promo2SinceYear', axis=1, inplace=True)"
   ]
  },
  {
   "cell_type": "code",
   "execution_count": 9,
   "metadata": {},
   "outputs": [],
   "source": [
    "store.replace({'PromoInterval': {\"Feb,May,Aug,Nov\": int(0), \"Jan,Apr,Jul,Oct\":int(1) ,\"Mar,Jun,Sept,Dec\":int(2)}},  inplace = True)"
   ]
  },
  {
   "cell_type": "code",
   "execution_count": 10,
   "metadata": {},
   "outputs": [],
   "source": [
    "store['PromoInterval_int']=pasar_int(store.PromoInterval)\n",
    "store.drop('PromoInterval', axis=1, inplace=True)"
   ]
  },
  {
   "cell_type": "code",
   "execution_count": 11,
   "metadata": {},
   "outputs": [
    {
     "name": "stderr",
     "output_type": "stream",
     "text": [
      "/opt/conda/lib/python3.6/site-packages/IPython/core/interactiveshell.py:2785: DtypeWarning: Columns (7) have mixed types. Specify dtype option on import or set low_memory=False.\n",
      "  interactivity=interactivity, compiler=compiler, result=result)\n"
     ]
    }
   ],
   "source": [
    "f = open('./train.csv','r')\n",
    "test = pd.read_csv(f)"
   ]
  },
  {
   "cell_type": "code",
   "execution_count": 12,
   "metadata": {},
   "outputs": [],
   "source": [
    "test['Open_int']=pasar_int(test.Open)\n",
    "test.drop('Open', axis=1, inplace=True)"
   ]
  },
  {
   "cell_type": "code",
   "execution_count": 13,
   "metadata": {},
   "outputs": [],
   "source": [
    "test.replace({'StateHoliday': {\"0\": int(0),\"a\": int(1),\"b\": int(2),\"c\": int(3)}},  inplace = True)"
   ]
  },
  {
   "cell_type": "code",
   "execution_count": 14,
   "metadata": {},
   "outputs": [],
   "source": [
    "def pasar_holiday(df):\n",
    "    stack_ce=[]\n",
    "    stack_p=[]\n",
    "    stack_e=[]\n",
    "    stack_ch=[]\n",
    "    for holiday in df: \n",
    "        if int(holiday) == 0:\n",
    "            stack_ce.append(1)\n",
    "            stack_p.append(0)\n",
    "            stack_e.append(0)\n",
    "            stack_ch.append(0)\n",
    "            continue\n",
    "        if int(holiday) == 1:\n",
    "            stack_ce.append(0)\n",
    "            stack_p.append(1)\n",
    "            stack_e.append(0)\n",
    "            stack_ch.append(0)\n",
    "            continue\n",
    "        if int(holiday) == 2:\n",
    "            stack_ce.append(0)\n",
    "            stack_p.append(0)\n",
    "            stack_e.append(1)\n",
    "            stack_ch.append(0)\n",
    "            continue\n",
    "        if int(holiday) == 3:\n",
    "            stack_ce.append(0)\n",
    "            stack_p.append(0)\n",
    "            stack_e.append(0)\n",
    "            stack_ch.append(1)\n",
    "            continue\n",
    "        else:\n",
    "            stack_ce.append(1)\n",
    "            stack_p.append(0)\n",
    "            stack_e.append(0)\n",
    "            stack_ch.append(0)\n",
    "            continue\n",
    "    return stack_ce,stack_p,stack_e,stack_ch\n",
    "        "
   ]
  },
  {
   "cell_type": "code",
   "execution_count": 15,
   "metadata": {},
   "outputs": [],
   "source": [
    "test['StateHoliday_cerrado_int'],test['StateHoliday_public_int'], test['StateHoliday_Easter_int'],test['StateHoliday_Christmas_int']=pasar_holiday(test.StateHoliday)\n"
   ]
  },
  {
   "cell_type": "code",
   "execution_count": 16,
   "metadata": {},
   "outputs": [],
   "source": [
    "#tem=test[['StateHoliday','StateHoliday_cerrado_int','StateHoliday_public_int','StateHoliday_Easter_int','StateHoliday_Christmas_int']]\n",
    "#tem[tem.StateHoliday_Christmas_int==1]"
   ]
  },
  {
   "cell_type": "code",
   "execution_count": 17,
   "metadata": {},
   "outputs": [],
   "source": [
    "test.drop('StateHoliday', axis=1, inplace=True)"
   ]
  },
  {
   "cell_type": "code",
   "execution_count": 18,
   "metadata": {},
   "outputs": [],
   "source": [
    "from datetime import datetime\n",
    "def año(df):\n",
    "    stack_año=[]\n",
    "    for fechas in df: \n",
    "        if fechas == 0:\n",
    "            stack_año.append(0)\n",
    "        else:\n",
    "            fecha_año = fechas[:4]\n",
    "            stack_año.append(int(fecha_año))\n",
    "    return stack_año\n",
    "\n",
    "def mes(df):\n",
    "    stack_mes=[]\n",
    "    for fechas in df:\n",
    "        if fechas == 0:\n",
    "            stack_mes.append(0)\n",
    "        else:\n",
    "            fecha_mes = fechas[5:]\n",
    "            fecha_mes=fecha_mes[:2]\n",
    "            if(fecha_mes !=\"\"):\n",
    "                stack_mes.append(int(fecha_mes))\n",
    "            else:\n",
    "                stack_mes.append(0)\n",
    "    return stack_mes\n",
    "def dia(df):\n",
    "    stack_dia=[]\n",
    "    for fechas in df:\n",
    "        if fechas == 0:\n",
    "            stack_dia.append(0)\n",
    "        else:\n",
    "            fecha_dia = fechas[8:]\n",
    "            fecha_dia=fecha_dia[:2]\n",
    "            if(fecha_dia !=\"\"):\n",
    "                stack_dia.append(int(fecha_dia))\n",
    "            else:\n",
    "                stack_dia.append(0)\n",
    "    return stack_dia"
   ]
  },
  {
   "cell_type": "code",
   "execution_count": 19,
   "metadata": {},
   "outputs": [],
   "source": [
    "test['año']=año(test.Date)\n",
    "test['mes']=mes(test.Date)\n",
    "test['dia']=dia(test.Date)"
   ]
  },
  {
   "cell_type": "code",
   "execution_count": 20,
   "metadata": {},
   "outputs": [],
   "source": [
    "test.drop('Date', axis=1, inplace=True)"
   ]
  },
  {
   "cell_type": "code",
   "execution_count": 21,
   "metadata": {},
   "outputs": [],
   "source": [
    "final = store.merge(test, on='Store')"
   ]
  },
  {
   "cell_type": "code",
   "execution_count": 22,
   "metadata": {},
   "outputs": [],
   "source": [
    "#final.to_csv('final.csv')"
   ]
  },
  {
   "cell_type": "code",
   "execution_count": 23,
   "metadata": {},
   "outputs": [],
   "source": [
    "def stadistica(df):\n",
    "    stack=[]\n",
    "    N=df.count()\n",
    "    stack.append(int(N))\n",
    "    minimo=df.min()\n",
    "    stack.append(int(minimo))\n",
    "    maximo=df.max()\n",
    "    stack.append(int(maximo))\n",
    "    media = df.mean()\n",
    "    stack.append(float(media))\n",
    "    mediana = df.median()\n",
    "    stack.append(float(mediana))\n",
    "    moda = df.mode()\n",
    "    stack.append(float(moda))\n",
    "    #Usamos quantile y el porcentaje.\n",
    "    p90 = df.quantile(0.9)\n",
    "    stack.append(int(p90))\n",
    "    p80 = df.quantile(0.8)\n",
    "    stack.append(int(p80))\n",
    "    p75 = df.quantile(0.75)\n",
    "    stack.append(int(p75))\n",
    "    p70 = df.quantile(0.7)\n",
    "    stack.append(int(p70))\n",
    "    p60 = df.quantile(0.6)\n",
    "    stack.append(int(p60))\n",
    "    p50 = df.quantile(0.5)\n",
    "    stack.append(int(p50))\n",
    "    p40 = df.quantile(0.4)\n",
    "    stack.append(int(p40))\n",
    "    p30 = df.quantile(0.3)\n",
    "    stack.append(int(p30))\n",
    "    p25 = df.quantile(0.25)\n",
    "    stack.append(int(p25))\n",
    "    p20 = df.quantile(0.2)\n",
    "    stack.append(int(p20))\n",
    "    p10 = df.quantile(0.1)\n",
    "    stack.append(int(p10))\n",
    "    std = df.std(ddof=0)#desviación típica\n",
    "    stack.append(float(std))\n",
    "    var = df.var(ddof=0)#varianza\n",
    "    stack.append(int(var))\n",
    "    rango = maximo-minimo #rango es la diferencia entre el máximo y el mínimo \n",
    "    stack.append(int(rango))\n",
    "    iqr = p75-p25 #rango intercuartílico o IQR , diferencia entre el tercer y el primer cuartil\n",
    "    stack.append(int(iqr))\n",
    "    cv = std/media #coeficiente de variación\n",
    "    stack.append(float(cv))\n",
    "    stack.append(int(df.sum()))\n",
    "    return stack\n",
    "def stadistica_str():\n",
    "    stack=[]\n",
    "    stack.append('N')\n",
    "    stack.append('minimo')\n",
    "    stack.append('maximo')\n",
    "    stack.append('media')\n",
    "    stack.append('mediana')\n",
    "    stack.append('moda')\n",
    "    stack.append('p90')\n",
    "    stack.append('p80')\n",
    "    stack.append('p75')\n",
    "    stack.append('p70')\n",
    "    stack.append('p60')\n",
    "    stack.append('p50')\n",
    "    stack.append('p40')\n",
    "    stack.append('p30')\n",
    "    stack.append('p25')\n",
    "    stack.append('p20')\n",
    "    stack.append('p10')\n",
    "    stack.append('std')\n",
    "    stack.append('var')\n",
    "    stack.append('rango')\n",
    "    stack.append('iqr')\n",
    "    stack.append('cv')\n",
    "    stack.append('suma')\n",
    "    return stack"
   ]
  },
  {
   "cell_type": "code",
   "execution_count": 24,
   "metadata": {},
   "outputs": [],
   "source": [
    "resultado=pd.DataFrame()\n",
    "resultado['nombre'] = stadistica_str()"
   ]
  },
  {
   "cell_type": "code",
   "execution_count": 25,
   "metadata": {},
   "outputs": [],
   "source": [
    "key=['Promo2', 'tipo_store_a', 'tipo_store_b', 'tipo_store_c','tipo_store_d','tipo_assortment_a', 'tipo_assortment_b', 'tipo_assortment_c','CompetitionDistance_int','Sales', 'Customers','SchoolHoliday','StateHoliday_cerrado_int','StateHoliday_public_int','StateHoliday_Easter_int','StateHoliday_Christmas_int']\n",
    "for keys in key:\n",
    "    temporal= final[keys]\n",
    "    resultado[keys]=stadistica(temporal)"
   ]
  },
  {
   "cell_type": "code",
   "execution_count": 26,
   "metadata": {},
   "outputs": [],
   "source": [
    "pd.options.display.float_format = '{:.2f}'.format\n",
    "resultado.to_csv(\"resultados_estadisticos.cvs\")"
   ]
  },
  {
   "cell_type": "code",
   "execution_count": 27,
   "metadata": {
    "scrolled": false
   },
   "outputs": [
    {
     "data": {
      "text/html": [
       "<div>\n",
       "<table border=\"1\" class=\"dataframe\">\n",
       "  <thead>\n",
       "    <tr style=\"text-align: right;\">\n",
       "      <th></th>\n",
       "      <th>nombre</th>\n",
       "      <th>Promo2</th>\n",
       "      <th>tipo_store_a</th>\n",
       "      <th>tipo_store_b</th>\n",
       "      <th>tipo_store_c</th>\n",
       "      <th>tipo_store_d</th>\n",
       "      <th>tipo_assortment_a</th>\n",
       "      <th>tipo_assortment_b</th>\n",
       "      <th>tipo_assortment_c</th>\n",
       "      <th>CompetitionDistance_int</th>\n",
       "      <th>Sales</th>\n",
       "      <th>Customers</th>\n",
       "      <th>SchoolHoliday</th>\n",
       "      <th>StateHoliday_cerrado_int</th>\n",
       "      <th>StateHoliday_public_int</th>\n",
       "      <th>StateHoliday_Easter_int</th>\n",
       "      <th>StateHoliday_Christmas_int</th>\n",
       "    </tr>\n",
       "  </thead>\n",
       "  <tbody>\n",
       "    <tr>\n",
       "      <th>0</th>\n",
       "      <td>N</td>\n",
       "      <td>1017209.00</td>\n",
       "      <td>1017209.00</td>\n",
       "      <td>1017209.00</td>\n",
       "      <td>1017209.00</td>\n",
       "      <td>1017209.00</td>\n",
       "      <td>1017209.00</td>\n",
       "      <td>1017209.00</td>\n",
       "      <td>1017209.00</td>\n",
       "      <td>1017209.00</td>\n",
       "      <td>1017209.00</td>\n",
       "      <td>1017209.00</td>\n",
       "      <td>1017209.00</td>\n",
       "      <td>1017209.00</td>\n",
       "      <td>1017209.00</td>\n",
       "      <td>1017209.00</td>\n",
       "      <td>1017209.00</td>\n",
       "    </tr>\n",
       "    <tr>\n",
       "      <th>1</th>\n",
       "      <td>minimo</td>\n",
       "      <td>0.00</td>\n",
       "      <td>0.00</td>\n",
       "      <td>0.00</td>\n",
       "      <td>0.00</td>\n",
       "      <td>0.00</td>\n",
       "      <td>0.00</td>\n",
       "      <td>0.00</td>\n",
       "      <td>0.00</td>\n",
       "      <td>0.00</td>\n",
       "      <td>0.00</td>\n",
       "      <td>0.00</td>\n",
       "      <td>0.00</td>\n",
       "      <td>0.00</td>\n",
       "      <td>0.00</td>\n",
       "      <td>0.00</td>\n",
       "      <td>0.00</td>\n",
       "    </tr>\n",
       "    <tr>\n",
       "      <th>2</th>\n",
       "      <td>maximo</td>\n",
       "      <td>1.00</td>\n",
       "      <td>1.00</td>\n",
       "      <td>1.00</td>\n",
       "      <td>1.00</td>\n",
       "      <td>1.00</td>\n",
       "      <td>1.00</td>\n",
       "      <td>1.00</td>\n",
       "      <td>1.00</td>\n",
       "      <td>75860.00</td>\n",
       "      <td>41551.00</td>\n",
       "      <td>7388.00</td>\n",
       "      <td>1.00</td>\n",
       "      <td>1.00</td>\n",
       "      <td>1.00</td>\n",
       "      <td>1.00</td>\n",
       "      <td>1.00</td>\n",
       "    </tr>\n",
       "    <tr>\n",
       "      <th>3</th>\n",
       "      <td>media</td>\n",
       "      <td>0.50</td>\n",
       "      <td>0.54</td>\n",
       "      <td>0.02</td>\n",
       "      <td>0.13</td>\n",
       "      <td>0.31</td>\n",
       "      <td>0.53</td>\n",
       "      <td>0.01</td>\n",
       "      <td>0.46</td>\n",
       "      <td>5415.98</td>\n",
       "      <td>5773.82</td>\n",
       "      <td>633.15</td>\n",
       "      <td>0.18</td>\n",
       "      <td>0.97</td>\n",
       "      <td>0.02</td>\n",
       "      <td>0.01</td>\n",
       "      <td>0.00</td>\n",
       "    </tr>\n",
       "    <tr>\n",
       "      <th>4</th>\n",
       "      <td>mediana</td>\n",
       "      <td>1.00</td>\n",
       "      <td>1.00</td>\n",
       "      <td>0.00</td>\n",
       "      <td>0.00</td>\n",
       "      <td>0.00</td>\n",
       "      <td>1.00</td>\n",
       "      <td>0.00</td>\n",
       "      <td>0.00</td>\n",
       "      <td>2320.00</td>\n",
       "      <td>5744.00</td>\n",
       "      <td>609.00</td>\n",
       "      <td>0.00</td>\n",
       "      <td>1.00</td>\n",
       "      <td>0.00</td>\n",
       "      <td>0.00</td>\n",
       "      <td>0.00</td>\n",
       "    </tr>\n",
       "  </tbody>\n",
       "</table>\n",
       "</div>"
      ],
      "text/plain": [
       "    nombre     Promo2  tipo_store_a  tipo_store_b  tipo_store_c  tipo_store_d  \\\n",
       "0        N 1017209.00    1017209.00    1017209.00    1017209.00    1017209.00   \n",
       "1   minimo       0.00          0.00          0.00          0.00          0.00   \n",
       "2   maximo       1.00          1.00          1.00          1.00          1.00   \n",
       "3    media       0.50          0.54          0.02          0.13          0.31   \n",
       "4  mediana       1.00          1.00          0.00          0.00          0.00   \n",
       "\n",
       "   tipo_assortment_a  tipo_assortment_b  tipo_assortment_c  \\\n",
       "0         1017209.00         1017209.00         1017209.00   \n",
       "1               0.00               0.00               0.00   \n",
       "2               1.00               1.00               1.00   \n",
       "3               0.53               0.01               0.46   \n",
       "4               1.00               0.00               0.00   \n",
       "\n",
       "   CompetitionDistance_int      Sales  Customers  SchoolHoliday  \\\n",
       "0               1017209.00 1017209.00 1017209.00     1017209.00   \n",
       "1                     0.00       0.00       0.00           0.00   \n",
       "2                 75860.00   41551.00    7388.00           1.00   \n",
       "3                  5415.98    5773.82     633.15           0.18   \n",
       "4                  2320.00    5744.00     609.00           0.00   \n",
       "\n",
       "   StateHoliday_cerrado_int  StateHoliday_public_int  StateHoliday_Easter_int  \\\n",
       "0                1017209.00               1017209.00               1017209.00   \n",
       "1                      0.00                     0.00                     0.00   \n",
       "2                      1.00                     1.00                     1.00   \n",
       "3                      0.97                     0.02                     0.01   \n",
       "4                      1.00                     0.00                     0.00   \n",
       "\n",
       "   StateHoliday_Christmas_int  \n",
       "0                  1017209.00  \n",
       "1                        0.00  \n",
       "2                        1.00  \n",
       "3                        0.00  \n",
       "4                        0.00  "
      ]
     },
     "execution_count": 27,
     "metadata": {},
     "output_type": "execute_result"
    }
   ],
   "source": [
    "resultado[['nombre','CompetitionDistance_int','tipo_store_a', 'tipo_store_b', 'tipo_store_c','tipo_store_d']]\n",
    "resultado.head()"
   ]
  },
  {
   "cell_type": "code",
   "execution_count": 28,
   "metadata": {},
   "outputs": [],
   "source": [
    "import matplotlib.pyplot as plt"
   ]
  },
  {
   "cell_type": "markdown",
   "metadata": {},
   "source": [
    "<hr>\n",
    "<h1> comparación distancia vs tipo store</h1>\n",
    "<hr>"
   ]
  },
  {
   "cell_type": "code",
   "execution_count": 73,
   "metadata": {},
   "outputs": [],
   "source": [
    "d = {'tipo store': ['a', 'b','c','d'], \n",
    "     'max': [\n",
    "         final[final.tipo_store_a==1].CompetitionDistance_int.max(),\n",
    "         final[final.tipo_store_b==1].CompetitionDistance_int.max(),\n",
    "         final[final.tipo_store_c==1].CompetitionDistance_int.max(),\n",
    "         final[final.tipo_store_d==1].CompetitionDistance_int.max()\n",
    "     ],\n",
    "     'min': [\n",
    "         final[final.tipo_store_a==1].CompetitionDistance_int.min(),\n",
    "         final[final.tipo_store_b==1].CompetitionDistance_int.min(),\n",
    "         final[final.tipo_store_c==1].CompetitionDistance_int.min(),\n",
    "         final[final.tipo_store_d==1].CompetitionDistance_int.min()\n",
    "     ],\n",
    "     'promedio': [\n",
    "         final[final.tipo_store_a==1].CompetitionDistance_int.mean(),\n",
    "         final[final.tipo_store_b==1].CompetitionDistance_int.mean(),\n",
    "         final[final.tipo_store_c==1].CompetitionDistance_int.mean(),\n",
    "         final[final.tipo_store_d==1].CompetitionDistance_int.mean()\n",
    "     ]\n",
    "    }\n",
    "nuevo=pd.DataFrame(d)\n",
    "nuevo.set_index('tipo store', inplace=True)"
   ]
  },
  {
   "cell_type": "code",
   "execution_count": 74,
   "metadata": {},
   "outputs": [
    {
     "data": {
      "text/html": [
       "<div>\n",
       "<table border=\"1\" class=\"dataframe\">\n",
       "  <thead>\n",
       "    <tr style=\"text-align: right;\">\n",
       "      <th></th>\n",
       "      <th>max</th>\n",
       "      <th>min</th>\n",
       "      <th>promedio</th>\n",
       "    </tr>\n",
       "    <tr>\n",
       "      <th>tipo store</th>\n",
       "      <th></th>\n",
       "      <th></th>\n",
       "      <th></th>\n",
       "    </tr>\n",
       "  </thead>\n",
       "  <tbody>\n",
       "    <tr>\n",
       "      <th>a</th>\n",
       "      <td>75860</td>\n",
       "      <td>0</td>\n",
       "      <td>5157.63</td>\n",
       "    </tr>\n",
       "    <tr>\n",
       "      <th>b</th>\n",
       "      <td>3640</td>\n",
       "      <td>90</td>\n",
       "      <td>1066.06</td>\n",
       "    </tr>\n",
       "    <tr>\n",
       "      <th>c</th>\n",
       "      <td>45740</td>\n",
       "      <td>40</td>\n",
       "      <td>3516.70</td>\n",
       "    </tr>\n",
       "    <tr>\n",
       "      <th>d</th>\n",
       "      <td>48330</td>\n",
       "      <td>0</td>\n",
       "      <td>5157.63</td>\n",
       "    </tr>\n",
       "  </tbody>\n",
       "</table>\n",
       "</div>"
      ],
      "text/plain": [
       "              max  min  promedio\n",
       "tipo store                      \n",
       "a           75860    0   5157.63\n",
       "b            3640   90   1066.06\n",
       "c           45740   40   3516.70\n",
       "d           48330    0   5157.63"
      ]
     },
     "execution_count": 74,
     "metadata": {},
     "output_type": "execute_result"
    }
   ],
   "source": [
    "nuevo"
   ]
  },
  {
   "cell_type": "code",
   "execution_count": 75,
   "metadata": {},
   "outputs": [
    {
     "data": {
      "image/png": "[encoded data removed]",
      "text/plain": [
       "<Figure size 432x288 with 1 Axes>"
      ]
     },
     "metadata": {},
     "output_type": "display_data"
    }
   ],
   "source": [
    "plt.figure()\n",
    "plt.ylabel('CompetitionDistance') \n",
    "plt.xlabel('tipo store')  \n",
    "nuevo['max'].plot(kind='bar',legend=True)\n",
    "plt.savefig('Distance_tipo_s_max.png')"
   ]
  },
  {
   "cell_type": "code",
   "execution_count": 76,
   "metadata": {},
   "outputs": [
    {
     "data": {
      "image/png": "[encoded data removed]",
      "text/plain": [
       "<Figure size 432x288 with 1 Axes>"
      ]
     },
     "metadata": {},
     "output_type": "display_data"
    }
   ],
   "source": [
    "plt.figure()\n",
    "plt.ylabel('CompetitionDistance')  \n",
    "nuevo['min'].plot(kind='bar',legend=True)\n",
    "plt.savefig('Distance_tipo_s_min.png')"
   ]
  },
  {
   "cell_type": "code",
   "execution_count": 77,
   "metadata": {},
   "outputs": [
    {
     "data": {
      "image/png": "[encoded data removed]",
      "text/plain": [
       "<Figure size 432x288 with 1 Axes>"
      ]
     },
     "metadata": {},
     "output_type": "display_data"
    }
   ],
   "source": [
    "plt.figure()\n",
    "plt.ylabel('CompetitionDistance')  \n",
    "nuevo['promedio'].plot(kind='bar',legend=True)\n",
    "plt.savefig('Distance_tipo_s_promedio.png')"
   ]
  },
  {
   "cell_type": "markdown",
   "metadata": {},
   "source": [
    "<hr>\n",
    "<h1> comparación distancia vs tipo assortment</h1>\n",
    "<hr>"
   ]
  },
  {
   "cell_type": "code",
   "execution_count": 78,
   "metadata": {},
   "outputs": [],
   "source": [
    "d2 = {'tipo assortment': ['a', 'b','c'], \n",
    "     'max': [\n",
    "         final[final.tipo_assortment_a==1].CompetitionDistance_int.max(),\n",
    "         final[final.tipo_assortment_b==1].CompetitionDistance_int.max(),\n",
    "         final[final.tipo_assortment_c==1].CompetitionDistance_int.max()\n",
    "     ],\n",
    "     'min': [\n",
    "         final[final.tipo_assortment_a==1].CompetitionDistance_int.min(),\n",
    "         final[final.tipo_assortment_b==1].CompetitionDistance_int.min(),\n",
    "         final[final.tipo_assortment_c==1].CompetitionDistance_int.min()\n",
    "     ],\n",
    "     'promedio': [\n",
    "         final[final.tipo_assortment_a==1].CompetitionDistance_int.mean(),\n",
    "         final[final.tipo_assortment_b==1].CompetitionDistance_int.mean(),\n",
    "         final[final.tipo_assortment_c==1].CompetitionDistance_int.mean()\n",
    "     ]\n",
    "    }\n",
    "nuevo2=pd.DataFrame(d2)\n",
    "nuevo2.set_index('tipo assortment', inplace=True)"
   ]
  },
  {
   "cell_type": "code",
   "execution_count": 79,
   "metadata": {},
   "outputs": [
    {
     "data": {
      "text/html": [
       "<div>\n",
       "<table border=\"1\" class=\"dataframe\">\n",
       "  <thead>\n",
       "    <tr style=\"text-align: right;\">\n",
       "      <th></th>\n",
       "      <th>max</th>\n",
       "      <th>min</th>\n",
       "      <th>promedio</th>\n",
       "    </tr>\n",
       "    <tr>\n",
       "      <th>tipo assortment</th>\n",
       "      <th></th>\n",
       "      <th></th>\n",
       "      <th></th>\n",
       "    </tr>\n",
       "  </thead>\n",
       "  <tbody>\n",
       "    <tr>\n",
       "      <th>a</th>\n",
       "      <td>48330</td>\n",
       "      <td>0</td>\n",
       "      <td>4384.86</td>\n",
       "    </tr>\n",
       "    <tr>\n",
       "      <th>b</th>\n",
       "      <td>3640</td>\n",
       "      <td>210</td>\n",
       "      <td>1190.82</td>\n",
       "    </tr>\n",
       "    <tr>\n",
       "      <th>c</th>\n",
       "      <td>75860</td>\n",
       "      <td>0</td>\n",
       "      <td>6665.72</td>\n",
       "    </tr>\n",
       "  </tbody>\n",
       "</table>\n",
       "</div>"
      ],
      "text/plain": [
       "                   max  min  promedio\n",
       "tipo assortment                      \n",
       "a                48330    0   4384.86\n",
       "b                 3640  210   1190.82\n",
       "c                75860    0   6665.72"
      ]
     },
     "execution_count": 79,
     "metadata": {},
     "output_type": "execute_result"
    }
   ],
   "source": [
    "nuevo2"
   ]
  },
  {
   "cell_type": "code",
   "execution_count": 80,
   "metadata": {},
   "outputs": [
    {
     "data": {
      "image/png": "[encoded data removed]",
      "text/plain": [
       "<Figure size 432x288 with 1 Axes>"
      ]
     },
     "metadata": {},
     "output_type": "display_data"
    }
   ],
   "source": [
    "plt.figure()\n",
    "plt.ylabel('CompetitionDistance') \n",
    "plt.xlabel('tipo store')  \n",
    "nuevo2['max'].plot(kind='bar',legend=True)\n",
    "plt.savefig('Distance_tipo_a_max.png')"
   ]
  },
  {
   "cell_type": "code",
   "execution_count": 81,
   "metadata": {},
   "outputs": [
    {
     "data": {
      "image/png": "[encoded data removed]",
      "text/plain": [
       "<Figure size 432x288 with 1 Axes>"
      ]
     },
     "metadata": {},
     "output_type": "display_data"
    }
   ],
   "source": [
    "plt.figure()\n",
    "plt.ylabel('CompetitionDistance')  \n",
    "nuevo2['min'].plot(kind='bar',legend=True)\n",
    "plt.savefig('Distance_tipo_a_min.png')"
   ]
  },
  {
   "cell_type": "code",
   "execution_count": 82,
   "metadata": {
    "scrolled": true
   },
   "outputs": [
    {
     "data": {
      "image/png": "[encoded data removed]",
      "text/plain": [
       "<Figure size 432x288 with 1 Axes>"
      ]
     },
     "metadata": {},
     "output_type": "display_data"
    }
   ],
   "source": [
    "plt.figure()\n",
    "plt.ylabel('CompetitionDistance')  \n",
    "nuevo2['promedio'].plot(kind='bar',legend=True)\n",
    "plt.savefig('Distance_tipo_a_promedio.png')"
   ]
  },
  {
   "cell_type": "markdown",
   "metadata": {},
   "source": [
    "<hr>\n",
    "<h1> comparación Sales vs tipo store</h1>\n",
    "<hr>"
   ]
  },
  {
   "cell_type": "code",
   "execution_count": 83,
   "metadata": {},
   "outputs": [],
   "source": [
    "d3 = {'tipo store': ['a', 'b','c','d'], \n",
    "     'max': [\n",
    "         final[final.tipo_store_a==1].Sales.max(),\n",
    "         final[final.tipo_store_b==1].Sales.max(),\n",
    "         final[final.tipo_store_c==1].Sales.max(),\n",
    "         final[final.tipo_store_d==1].Sales.max()\n",
    "     ],\n",
    "     'min': [\n",
    "         final[final.tipo_store_a==1].Sales.min(),\n",
    "         final[final.tipo_store_b==1].Sales.min(),\n",
    "         final[final.tipo_store_c==1].Sales.min(), \n",
    "         final[final.tipo_store_d==1].Sales.min()\n",
    "     ],\n",
    "     'promedio': [\n",
    "         final[final.tipo_store_a==1].Sales.mean(),\n",
    "         final[final.tipo_store_b==1].Sales.mean(),\n",
    "         final[final.tipo_store_c==1].Sales.mean(),\n",
    "         final[final.tipo_store_d==1].Sales.mean()\n",
    "     ]\n",
    "    }\n",
    "nuevo3=pd.DataFrame(d3)\n",
    "nuevo3.set_index('tipo store', inplace=True)"
   ]
  },
  {
   "cell_type": "code",
   "execution_count": 84,
   "metadata": {},
   "outputs": [
    {
     "data": {
      "text/html": [
       "<div>\n",
       "<table border=\"1\" class=\"dataframe\">\n",
       "  <thead>\n",
       "    <tr style=\"text-align: right;\">\n",
       "      <th></th>\n",
       "      <th>max</th>\n",
       "      <th>min</th>\n",
       "      <th>promedio</th>\n",
       "    </tr>\n",
       "    <tr>\n",
       "      <th>tipo store</th>\n",
       "      <th></th>\n",
       "      <th></th>\n",
       "      <th></th>\n",
       "    </tr>\n",
       "  </thead>\n",
       "  <tbody>\n",
       "    <tr>\n",
       "      <th>a</th>\n",
       "      <td>41551</td>\n",
       "      <td>0</td>\n",
       "      <td>5738.18</td>\n",
       "    </tr>\n",
       "    <tr>\n",
       "      <th>b</th>\n",
       "      <td>38722</td>\n",
       "      <td>0</td>\n",
       "      <td>10058.84</td>\n",
       "    </tr>\n",
       "    <tr>\n",
       "      <th>c</th>\n",
       "      <td>31448</td>\n",
       "      <td>0</td>\n",
       "      <td>5723.63</td>\n",
       "    </tr>\n",
       "    <tr>\n",
       "      <th>d</th>\n",
       "      <td>38037</td>\n",
       "      <td>0</td>\n",
       "      <td>5738.18</td>\n",
       "    </tr>\n",
       "  </tbody>\n",
       "</table>\n",
       "</div>"
      ],
      "text/plain": [
       "              max  min  promedio\n",
       "tipo store                      \n",
       "a           41551    0   5738.18\n",
       "b           38722    0  10058.84\n",
       "c           31448    0   5723.63\n",
       "d           38037    0   5738.18"
      ]
     },
     "execution_count": 84,
     "metadata": {},
     "output_type": "execute_result"
    }
   ],
   "source": [
    "nuevo3"
   ]
  },
  {
   "cell_type": "code",
   "execution_count": 85,
   "metadata": {},
   "outputs": [
    {
     "data": {
      "image/png": "[encoded data removed]",
      "text/plain": [
       "<Figure size 432x288 with 1 Axes>"
      ]
     },
     "metadata": {},
     "output_type": "display_data"
    }
   ],
   "source": [
    "plt.figure()\n",
    "plt.ylabel('sales') \n",
    "plt.xlabel('tipo store')  \n",
    "nuevo3['max'].plot(kind='bar',legend=True)\n",
    "plt.savefig('sales_tipo_s_max.png')"
   ]
  },
  {
   "cell_type": "code",
   "execution_count": 86,
   "metadata": {},
   "outputs": [
    {
     "data": {
      "image/png": "[encoded data removed]",
      "text/plain": [
       "<Figure size 432x288 with 1 Axes>"
      ]
     },
     "metadata": {},
     "output_type": "display_data"
    }
   ],
   "source": [
    "plt.figure()\n",
    "plt.ylabel('sales')  \n",
    "nuevo3['min'].plot(kind='bar',legend=True)\n",
    "plt.savefig('sales_tipo_s_min.png')"
   ]
  },
  {
   "cell_type": "code",
   "execution_count": 87,
   "metadata": {},
   "outputs": [
    {
     "data": {
      "image/png": "[encoded data removed]",
      "text/plain": [
       "<Figure size 432x288 with 1 Axes>"
      ]
     },
     "metadata": {},
     "output_type": "display_data"
    }
   ],
   "source": [
    "plt.figure()\n",
    "plt.ylabel('sales')  \n",
    "nuevo3['promedio'].plot(kind='bar',legend=True)\n",
    "plt.savefig('sales_tipo_s_promedio.png')"
   ]
  },
  {
   "cell_type": "markdown",
   "metadata": {},
   "source": [
    "<hr>\n",
    "<h1> comparación sales vs tipo assortment</h1>\n",
    "<hr>"
   ]
  },
  {
   "cell_type": "code",
   "execution_count": 88,
   "metadata": {},
   "outputs": [],
   "source": [
    "d4 = {'tipo assortment': ['a', 'b','c'],\n",
    "     'max': [\n",
    "         final[final.tipo_assortment_a==1].Sales.max(),\n",
    "         final[final.tipo_assortment_b==1].Sales.max(),\n",
    "         final[final.tipo_assortment_c==1].Sales.max()\n",
    "     ],\n",
    "     'min': [\n",
    "         final[final.tipo_assortment_a==1].Sales.min(),\n",
    "         final[final.tipo_assortment_b==1].Sales.min(),\n",
    "         final[final.tipo_assortment_c==1].Sales.min()\n",
    "            ],\n",
    "     'promedio': [\n",
    "         final[final.tipo_assortment_a==1].Sales.mean(),\n",
    "         final[final.tipo_assortment_b==1].Sales.mean(),\n",
    "         final[final.tipo_assortment_c==1].Sales.mean()\n",
    "     ]\n",
    "    }\n",
    "nuevo4=pd.DataFrame(d4)\n",
    "nuevo4.set_index('tipo assortment', inplace=True)"
   ]
  },
  {
   "cell_type": "code",
   "execution_count": 89,
   "metadata": {},
   "outputs": [
    {
     "data": {
      "text/html": [
       "<div>\n",
       "<table border=\"1\" class=\"dataframe\">\n",
       "  <thead>\n",
       "    <tr style=\"text-align: right;\">\n",
       "      <th></th>\n",
       "      <th>max</th>\n",
       "      <th>min</th>\n",
       "      <th>promedio</th>\n",
       "    </tr>\n",
       "    <tr>\n",
       "      <th>tipo assortment</th>\n",
       "      <th></th>\n",
       "      <th></th>\n",
       "      <th></th>\n",
       "    </tr>\n",
       "  </thead>\n",
       "  <tbody>\n",
       "    <tr>\n",
       "      <th>a</th>\n",
       "      <td>38722</td>\n",
       "      <td>0</td>\n",
       "      <td>5481.03</td>\n",
       "    </tr>\n",
       "    <tr>\n",
       "      <th>b</th>\n",
       "      <td>22137</td>\n",
       "      <td>0</td>\n",
       "      <td>8553.93</td>\n",
       "    </tr>\n",
       "    <tr>\n",
       "      <th>c</th>\n",
       "      <td>41551</td>\n",
       "      <td>0</td>\n",
       "      <td>6058.68</td>\n",
       "    </tr>\n",
       "  </tbody>\n",
       "</table>\n",
       "</div>"
      ],
      "text/plain": [
       "                   max  min  promedio\n",
       "tipo assortment                      \n",
       "a                38722    0   5481.03\n",
       "b                22137    0   8553.93\n",
       "c                41551    0   6058.68"
      ]
     },
     "execution_count": 89,
     "metadata": {},
     "output_type": "execute_result"
    }
   ],
   "source": [
    "nuevo4"
   ]
  },
  {
   "cell_type": "code",
   "execution_count": 90,
   "metadata": {},
   "outputs": [
    {
     "data": {
      "image/png": "[encoded data removed]",
      "text/plain": [
       "<Figure size 432x288 with 1 Axes>"
      ]
     },
     "metadata": {},
     "output_type": "display_data"
    }
   ],
   "source": [
    "plt.figure()\n",
    "plt.ylabel('Sales') \n",
    "plt.xlabel('tipo store')  \n",
    "nuevo4['max'].plot(kind='bar',legend=True)\n",
    "plt.savefig('sales_tipo_a_max.png')"
   ]
  },
  {
   "cell_type": "code",
   "execution_count": 91,
   "metadata": {},
   "outputs": [
    {
     "data": {
      "image/png": "[encoded data removed]",
      "text/plain": [
       "<Figure size 432x288 with 1 Axes>"
      ]
     },
     "metadata": {},
     "output_type": "display_data"
    }
   ],
   "source": [
    "plt.figure()\n",
    "plt.ylabel('sale')  \n",
    "nuevo2['min'].plot(kind='bar',legend=True)\n",
    "plt.savefig('sale_tipo_a_min.png')"
   ]
  },
  {
   "cell_type": "code",
   "execution_count": 92,
   "metadata": {
    "scrolled": true
   },
   "outputs": [
    {
     "data": {
      "image/png": "[encoded data removed]",
      "text/plain": [
       "<Figure size 432x288 with 1 Axes>"
      ]
     },
     "metadata": {},
     "output_type": "display_data"
    }
   ],
   "source": [
    "plt.figure()\n",
    "plt.ylabel('sales')  \n",
    "nuevo2['promedio'].plot(kind='bar',legend=True)\n",
    "plt.savefig('sale_tipo_a_promedio.png')"
   ]
  },
  {
   "cell_type": "markdown",
   "metadata": {},
   "source": [
    "<hr>\n",
    "<h1> comparación Clientes vs tipo store</h1>\n",
    "<hr>"
   ]
  },
  {
   "cell_type": "code",
   "execution_count": 93,
   "metadata": {},
   "outputs": [],
   "source": [
    "d5 = {'tipo store': ['a', 'b','c','d'], \n",
    "     'max': [\n",
    "         final[final.tipo_store_a==1].Customers.max(),\n",
    "         final[final.tipo_store_b==1].Customers.max(),\n",
    "         final[final.tipo_store_c==1].Customers.max(),\n",
    "         final[final.tipo_store_d==1].Customers.max()\n",
    "     ],\n",
    "     'min': [\n",
    "         final[final.tipo_store_a==1].Customers.min(),\n",
    "         final[final.tipo_store_b==1].Customers.min(),\n",
    "         final[final.tipo_store_c==1].Customers.min(),\n",
    "         final[final.tipo_store_a==1].Customers.min()\n",
    "     ],\n",
    "     'promedio': [\n",
    "         final[final.tipo_store_a==1].Customers.mean(),\n",
    "         final[final.tipo_store_b==1].Customers.mean(),\n",
    "         final[final.tipo_store_c==1].Customers.mean(),\n",
    "         final[final.tipo_store_a==1].Customers.mean()\n",
    "     ]\n",
    "    }\n",
    "nuevo5=pd.DataFrame(d5)\n",
    "nuevo5.set_index('tipo store', inplace=True)"
   ]
  },
  {
   "cell_type": "code",
   "execution_count": 94,
   "metadata": {},
   "outputs": [
    {
     "data": {
      "text/html": [
       "<div>\n",
       "<table border=\"1\" class=\"dataframe\">\n",
       "  <thead>\n",
       "    <tr style=\"text-align: right;\">\n",
       "      <th></th>\n",
       "      <th>max</th>\n",
       "      <th>min</th>\n",
       "      <th>promedio</th>\n",
       "    </tr>\n",
       "    <tr>\n",
       "      <th>tipo store</th>\n",
       "      <th></th>\n",
       "      <th></th>\n",
       "      <th></th>\n",
       "    </tr>\n",
       "  </thead>\n",
       "  <tbody>\n",
       "    <tr>\n",
       "      <th>a</th>\n",
       "      <td>7388</td>\n",
       "      <td>0</td>\n",
       "      <td>659.03</td>\n",
       "    </tr>\n",
       "    <tr>\n",
       "      <th>b</th>\n",
       "      <td>5494</td>\n",
       "      <td>0</td>\n",
       "      <td>1987.72</td>\n",
       "    </tr>\n",
       "    <tr>\n",
       "      <th>c</th>\n",
       "      <td>3096</td>\n",
       "      <td>0</td>\n",
       "      <td>673.27</td>\n",
       "    </tr>\n",
       "    <tr>\n",
       "      <th>d</th>\n",
       "      <td>2239</td>\n",
       "      <td>0</td>\n",
       "      <td>659.03</td>\n",
       "    </tr>\n",
       "  </tbody>\n",
       "</table>\n",
       "</div>"
      ],
      "text/plain": [
       "             max  min  promedio\n",
       "tipo store                     \n",
       "a           7388    0    659.03\n",
       "b           5494    0   1987.72\n",
       "c           3096    0    673.27\n",
       "d           2239    0    659.03"
      ]
     },
     "execution_count": 94,
     "metadata": {},
     "output_type": "execute_result"
    }
   ],
   "source": [
    "nuevo5"
   ]
  },
  {
   "cell_type": "code",
   "execution_count": 95,
   "metadata": {},
   "outputs": [
    {
     "data": {
      "image/png": "[encoded data removed]",
      "text/plain": [
       "<Figure size 432x288 with 1 Axes>"
      ]
     },
     "metadata": {},
     "output_type": "display_data"
    }
   ],
   "source": [
    "plt.figure()\n",
    "plt.ylabel('Clientes') \n",
    "plt.xlabel('tipo store')  \n",
    "nuevo5['max'].plot(kind='bar',legend=True)\n",
    "plt.savefig('Clientes_tipo_s_max.png')"
   ]
  },
  {
   "cell_type": "code",
   "execution_count": 96,
   "metadata": {},
   "outputs": [
    {
     "data": {
      "image/png": "[encoded data removed]",
      "text/plain": [
       "<Figure size 432x288 with 1 Axes>"
      ]
     },
     "metadata": {},
     "output_type": "display_data"
    }
   ],
   "source": [
    "plt.figure()\n",
    "plt.ylabel('Clientes')  \n",
    "nuevo5['min'].plot(kind='bar',legend=True)\n",
    "plt.savefig('Clientes_tipo_s_min.png')"
   ]
  },
  {
   "cell_type": "code",
   "execution_count": 53,
   "metadata": {},
   "outputs": [
    {
     "data": {
      "image/png": "[encoded data removed]",
      "text/plain": [
       "<Figure size 432x288 with 1 Axes>"
      ]
     },
     "metadata": {},
     "output_type": "display_data"
    }
   ],
   "source": [
    "plt.figure()\n",
    "plt.ylabel('Clientes')  \n",
    "nuevo5['promedio'].plot(kind='bar',legend=True)\n",
    "plt.savefig('Clientes_tipo_s_promedio.png')"
   ]
  },
  {
   "cell_type": "markdown",
   "metadata": {},
   "source": [
    "<hr>\n",
    "<h1> comparación cliente vs tipo assortment</h1>\n",
    "<hr>"
   ]
  },
  {
   "cell_type": "code",
   "execution_count": 54,
   "metadata": {},
   "outputs": [],
   "source": [
    "d6 = {'tipo assortment': ['a', 'b','c'],\n",
    "     'max': [final[final.tipo_assortment_a==1].Customers.max(),final[final.tipo_assortment_b==1].Customers.max(),final[final.tipo_assortment_c==1].Customers.max()],\n",
    "     'min': [final[final.tipo_assortment_a==1].Customers.min(),final[final.tipo_assortment_b==1].Customers.min(),final[final.tipo_assortment_c==1].Customers.min()],\n",
    "     'promedio': [final[final.tipo_assortment_a==1].Customers.mean(),final[final.tipo_assortment_b==1].Customers.mean(),final[final.tipo_assortment_c==1].Customers.mean()]}\n",
    "nuevo6=pd.DataFrame(d6)\n",
    "nuevo6.set_index('tipo assortment', inplace=True)"
   ]
  },
  {
   "cell_type": "code",
   "execution_count": 55,
   "metadata": {},
   "outputs": [
    {
     "data": {
      "text/html": [
       "<div>\n",
       "<table border=\"1\" class=\"dataframe\">\n",
       "  <thead>\n",
       "    <tr style=\"text-align: right;\">\n",
       "      <th></th>\n",
       "      <th>max</th>\n",
       "      <th>min</th>\n",
       "      <th>promedio</th>\n",
       "    </tr>\n",
       "    <tr>\n",
       "      <th>tipo assortment</th>\n",
       "      <th></th>\n",
       "      <th></th>\n",
       "      <th></th>\n",
       "    </tr>\n",
       "  </thead>\n",
       "  <tbody>\n",
       "    <tr>\n",
       "      <th>a</th>\n",
       "      <td>7388</td>\n",
       "      <td>0</td>\n",
       "      <td>619.16</td>\n",
       "    </tr>\n",
       "    <tr>\n",
       "      <th>b</th>\n",
       "      <td>4645</td>\n",
       "      <td>0</td>\n",
       "      <td>2046.36</td>\n",
       "    </tr>\n",
       "    <tr>\n",
       "      <th>c</th>\n",
       "      <td>4911</td>\n",
       "      <td>0</td>\n",
       "      <td>624.22</td>\n",
       "    </tr>\n",
       "  </tbody>\n",
       "</table>\n",
       "</div>"
      ],
      "text/plain": [
       "                  max  min  promedio\n",
       "tipo assortment                     \n",
       "a                7388    0    619.16\n",
       "b                4645    0   2046.36\n",
       "c                4911    0    624.22"
      ]
     },
     "execution_count": 55,
     "metadata": {},
     "output_type": "execute_result"
    }
   ],
   "source": [
    "nuevo6"
   ]
  },
  {
   "cell_type": "code",
   "execution_count": 56,
   "metadata": {},
   "outputs": [
    {
     "data": {
      "image/png": "[encoded data removed]",
      "text/plain": [
       "<Figure size 432x288 with 1 Axes>"
      ]
     },
     "metadata": {},
     "output_type": "display_data"
    }
   ],
   "source": [
    "plt.figure()\n",
    "plt.ylabel('Cliente') \n",
    "plt.xlabel('tipo store')  \n",
    "nuevo6['max'].plot(kind='bar',legend=True)\n",
    "plt.savefig('cliente_tipo_a_max.png')"
   ]
  },
  {
   "cell_type": "code",
   "execution_count": 57,
   "metadata": {},
   "outputs": [
    {
     "data": {
      "image/png": "[encoded data removed]",
      "text/plain": [
       "<Figure size 432x288 with 1 Axes>"
      ]
     },
     "metadata": {},
     "output_type": "display_data"
    }
   ],
   "source": [
    "plt.figure()\n",
    "plt.ylabel('cliente')  \n",
    "nuevo6['min'].plot(kind='bar',legend=True)\n",
    "plt.savefig('cliente_tipo_a_min.png')"
   ]
  },
  {
   "cell_type": "code",
   "execution_count": 58,
   "metadata": {
    "scrolled": true
   },
   "outputs": [
    {
     "data": {
      "image/png": "[encoded data removed]",
      "text/plain": [
       "<Figure size 432x288 with 1 Axes>"
      ]
     },
     "metadata": {},
     "output_type": "display_data"
    }
   ],
   "source": [
    "plt.figure()\n",
    "plt.ylabel('Cliente')  \n",
    "nuevo6['promedio'].plot(kind='bar',legend=True)\n",
    "plt.savefig('cliente_tipo_a_promedio.png')"
   ]
  },
  {
   "cell_type": "code",
   "execution_count": 62,
   "metadata": {},
   "outputs": [
    {
     "data": {
      "text/plain": [
       "DayOfWeek\n",
       "1    144730\n",
       "2    145664\n",
       "3    145665\n",
       "4    145845\n",
       "5    145845\n",
       "6    144730\n",
       "7    144730\n",
       "Name: Store, dtype: int64"
      ]
     },
     "execution_count": 62,
     "metadata": {},
     "output_type": "execute_result"
    }
   ],
   "source": [
    "final.groupby('DayOfWeek').Store.count()"
   ]
  },
  {
   "cell_type": "code",
   "execution_count": 60,
   "metadata": {},
   "outputs": [
    {
     "ename": "SyntaxError",
     "evalue": "invalid syntax (<ipython-input-60-52bfdb4cdbc1>, line 1)",
     "output_type": "error",
     "traceback": [
      "\u001b[0;36m  File \u001b[0;32m\"<ipython-input-60-52bfdb4cdbc1>\"\u001b[0;36m, line \u001b[0;32m1\u001b[0m\n\u001b[0;31m    .erroreae\u001b[0m\n\u001b[0m    ^\u001b[0m\n\u001b[0;31mSyntaxError\u001b[0m\u001b[0;31m:\u001b[0m invalid syntax\n"
     ]
    }
   ],
   "source": [
    ".erroreae"
   ]
  },
  {
   "cell_type": "markdown",
   "metadata": {},
   "source": [
    "<hr>\n",
    "<h1> comparación Clientes vs dia</h1>\n",
    "<hr>"
   ]
  },
  {
   "cell_type": "code",
   "execution_count": 72,
   "metadata": {},
   "outputs": [],
   "source": [
    "d6 = {'Dia': ['Lu', 'Ma','Mi','Ju','Vi','Sa','Do'], \n",
    "     'max': [\n",
    "             final[final.DayOfWeek==1].Customers.max(),\n",
    "             final[final.DayOfWeek==2].Customers.max(),\n",
    "             final[final.DayOfWeek==3].Customers.max(),\n",
    "             final[final.DayOfWeek==4].Customers.max(),\n",
    "             final[final.DayOfWeek==5].Customers.max(),\n",
    "             final[final.DayOfWeek==6].Customers.max(),\n",
    "             final[final.DayOfWeek==7].Customers.max(),\n",
    "     ],\n",
    "     'min': [\n",
    "         final[final.tipo_store_a==1].Customers.min(),\n",
    "         final[final.tipo_store_b==1].Customers.min(),\n",
    "         final[final.tipo_store_c==1].Customers.min(), \n",
    "         final[final.tipo_store_a==1].Customers.max()\n",
    "     ],\n",
    "     #'promedio':[final[final.tipo_store_a==1].Customers.mean(),final[final.tipo_store_b==1].Customers.mean(),final[final.tipo_store_c==1].Customers.mean(),final[final.tipo_store_a==1].Customers.max()]\n",
    "    }\n",
    "nuevo6=pd.DataFrame(d6)\n",
    "nuevo6.set_index('Dia', inplace=True)"
   ]
  },
  {
   "cell_type": "code",
   "execution_count": 71,
   "metadata": {},
   "outputs": [
    {
     "data": {
      "text/html": [
       "<div>\n",
       "<table border=\"1\" class=\"dataframe\">\n",
       "  <thead>\n",
       "    <tr style=\"text-align: right;\">\n",
       "      <th></th>\n",
       "      <th>max</th>\n",
       "    </tr>\n",
       "    <tr>\n",
       "      <th>Dia</th>\n",
       "      <th></th>\n",
       "    </tr>\n",
       "  </thead>\n",
       "  <tbody>\n",
       "    <tr>\n",
       "      <th>Lu</th>\n",
       "      <td>7388</td>\n",
       "    </tr>\n",
       "    <tr>\n",
       "      <th>Ma</th>\n",
       "      <td>5494</td>\n",
       "    </tr>\n",
       "    <tr>\n",
       "      <th>Mi</th>\n",
       "      <td>3096</td>\n",
       "    </tr>\n",
       "    <tr>\n",
       "      <th>Ju</th>\n",
       "      <td>2239</td>\n",
       "    </tr>\n",
       "    <tr>\n",
       "      <th>Vi</th>\n",
       "      <td>7388</td>\n",
       "    </tr>\n",
       "    <tr>\n",
       "      <th>Sa</th>\n",
       "      <td>5494</td>\n",
       "    </tr>\n",
       "    <tr>\n",
       "      <th>Do</th>\n",
       "      <td>3096</td>\n",
       "    </tr>\n",
       "  </tbody>\n",
       "</table>\n",
       "</div>"
      ],
      "text/plain": [
       "      max\n",
       "Dia      \n",
       "Lu   7388\n",
       "Ma   5494\n",
       "Mi   3096\n",
       "Ju   2239\n",
       "Vi   7388\n",
       "Sa   5494\n",
       "Do   3096"
      ]
     },
     "execution_count": 71,
     "metadata": {},
     "output_type": "execute_result"
    }
   ],
   "source": [
    "nuevo6"
   ]
  },
  {
   "cell_type": "code",
   "execution_count": null,
   "metadata": {},
   "outputs": [],
   "source": [
    "plt.figure()\n",
    "plt.ylabel('Clientes') \n",
    "plt.xlabel('tipo store')  \n",
    "nuevo6['max'].plot(kind='bar',legend=True)\n",
    "plt.savefig('Clientes_tipo_s_max.png')"
   ]
  },
  {
   "cell_type": "code",
   "execution_count": null,
   "metadata": {},
   "outputs": [],
   "source": [
    "plt.figure()\n",
    "plt.ylabel('Clientes')  \n",
    "nuevo5['min'].plot(kind='bar',legend=True)\n",
    "plt.savefig('Clientes_tipo_s_min.png')"
   ]
  },
  {
   "cell_type": "code",
   "execution_count": null,
   "metadata": {},
   "outputs": [],
   "source": [
    "plt.figure()\n",
    "plt.ylabel('Clientes')  \n",
    "nuevo5['promedio'].plot(kind='bar',legend=True)\n",
    "plt.savefig('Clientes_tipo_s_promedio.png')"
   ]
  },
  {
   "cell_type": "markdown",
   "metadata": {},
   "source": [
    "<hr>\n",
    "<h1> comparación cliente vs tipo assortment</h1>\n",
    "<hr>"
   ]
  },
  {
   "cell_type": "code",
   "execution_count": null,
   "metadata": {},
   "outputs": [],
   "source": [
    "d6 = {'tipo assortment': ['a', 'b','c'],\n",
    "     'max': [final[final.tipo_assortment_a==1].Customers.max(),final[final.tipo_assortment_b==1].Customers.max(),final[final.tipo_assortment_c==1].Customers.max()],\n",
    "     'min': [final[final.tipo_assortment_a==1].Customers.min(),final[final.tipo_assortment_b==1].Customers.min(),final[final.tipo_assortment_c==1].Customers.min()],\n",
    "     'promedio': [final[final.tipo_assortment_a==1].Customers.mean(),final[final.tipo_assortment_b==1].Customers.mean(),final[final.tipo_assortment_c==1].Customers.mean()]}\n",
    "nuevo6=pd.DataFrame(d6)\n",
    "nuevo6.set_index('tipo assortment', inplace=True)"
   ]
  },
  {
   "cell_type": "code",
   "execution_count": null,
   "metadata": {},
   "outputs": [],
   "source": [
    "nuevo6"
   ]
  },
  {
   "cell_type": "code",
   "execution_count": null,
   "metadata": {},
   "outputs": [],
   "source": [
    "plt.figure()\n",
    "plt.ylabel('Cliente') \n",
    "plt.xlabel('tipo store')  \n",
    "nuevo6['max'].plot(kind='bar',legend=True)\n",
    "plt.savefig('cliente_tipo_a_max.png')"
   ]
  },
  {
   "cell_type": "code",
   "execution_count": null,
   "metadata": {},
   "outputs": [],
   "source": [
    "plt.figure()\n",
    "plt.ylabel('cliente')  \n",
    "nuevo6['min'].plot(kind='bar',legend=True)\n",
    "plt.savefig('cliente_tipo_a_min.png')"
   ]
  },
  {
   "cell_type": "code",
   "execution_count": null,
   "metadata": {
    "scrolled": true
   },
   "outputs": [],
   "source": [
    "plt.figure()\n",
    "plt.ylabel('Cliente')  \n",
    "nuevo6['promedio'].plot(kind='bar',legend=True)\n",
    "plt.savefig('cliente_tipo_a_promedio.png')"
   ]
  }
 ],
 "metadata": {
  "kernelspec": {
   "display_name": "Python 3",
   "language": "python",
   "name": "python3"
  },
  "language_info": {
   "codemirror_mode": {
    "name": "ipython",
    "version": 3
   },
   "file_extension": ".py",
   "mimetype": "text/x-python",
   "name": "python",
   "nbconvert_exporter": "python",
   "pygments_lexer": "ipython3",
   "version": "3.6.5"
  }
 },
 "nbformat": 4,
 "nbformat_minor": 2
}
