{
 "cells": [
  {
   "cell_type": "code",
   "execution_count": 1,
   "metadata": {},
   "outputs": [],
   "source": [
    "import pandas as pd"
   ]
  },
  {
   "cell_type": "code",
   "execution_count": 2,
   "metadata": {},
   "outputs": [],
   "source": [
    "import matplotlib.pyplot as plt"
   ]
  },
  {
   "cell_type": "code",
   "execution_count": 3,
   "metadata": {},
   "outputs": [],
   "source": [
    "f = open('./final.csv','r')\n",
    "final = pd.read_csv(f)"
   ]
  },
  {
   "cell_type": "code",
   "execution_count": 4,
   "metadata": {},
   "outputs": [],
   "source": [
    "def stadistica(df):\n",
    "    stack=[]\n",
    "    N=df.count()\n",
    "    stack.append(int(N))\n",
    "    minimo=df.min()\n",
    "    stack.append(int(minimo))\n",
    "    maximo=df.max()\n",
    "    stack.append(int(maximo))\n",
    "    media = df.mean()\n",
    "    stack.append(float(media))\n",
    "    mediana = df.median()\n",
    "    stack.append(float(mediana))\n",
    "    moda = df.mode()\n",
    "    stack.append(float(moda))\n",
    "    #Usamos quantile y el porcentaje.\n",
    "    p90 = df.quantile(0.9)\n",
    "    stack.append(int(p90))\n",
    "    p80 = df.quantile(0.8)\n",
    "    stack.append(int(p80))\n",
    "    p75 = df.quantile(0.75)\n",
    "    stack.append(int(p75))\n",
    "    p70 = df.quantile(0.7)\n",
    "    stack.append(int(p70))\n",
    "    p60 = df.quantile(0.6)\n",
    "    stack.append(int(p60))\n",
    "    p50 = df.quantile(0.5)\n",
    "    stack.append(int(p50))\n",
    "    p40 = df.quantile(0.4)\n",
    "    stack.append(int(p40))\n",
    "    p30 = df.quantile(0.3)\n",
    "    stack.append(int(p30))\n",
    "    p25 = df.quantile(0.25)\n",
    "    stack.append(int(p25))\n",
    "    p20 = df.quantile(0.2)\n",
    "    stack.append(int(p20))\n",
    "    p10 = df.quantile(0.1)\n",
    "    stack.append(int(p10))\n",
    "    std = df.std(ddof=0)#desviación típica\n",
    "    stack.append(float(std))\n",
    "    var = df.var(ddof=0)#varianza\n",
    "    stack.append(int(var))\n",
    "    rango = maximo-minimo #rango es la diferencia entre el máximo y el mínimo \n",
    "    stack.append(int(rango))\n",
    "    iqr = p75-p25 #rango intercuartílico o IQR , diferencia entre el tercer y el primer cuartil\n",
    "    stack.append(int(iqr))\n",
    "    cv = std/media #coeficiente de variación\n",
    "    stack.append(float(cv))\n",
    "    stack.append(int(df.sum()))\n",
    "    return stack\n",
    "def stadistica_str():\n",
    "    stack=[]\n",
    "    stack.append('N')\n",
    "    stack.append('minimo')\n",
    "    stack.append('maximo')\n",
    "    stack.append('media')\n",
    "    stack.append('mediana')\n",
    "    stack.append('moda')\n",
    "    stack.append('p90')\n",
    "    stack.append('p80')\n",
    "    stack.append('p75')\n",
    "    stack.append('p70')\n",
    "    stack.append('p60')\n",
    "    stack.append('p50')\n",
    "    stack.append('p40')\n",
    "    stack.append('p30')\n",
    "    stack.append('p25')\n",
    "    stack.append('p20')\n",
    "    stack.append('p10')\n",
    "    stack.append('std')\n",
    "    stack.append('var')\n",
    "    stack.append('rango')\n",
    "    stack.append('iqr')\n",
    "    stack.append('cv')\n",
    "    stack.append('suma')\n",
    "    return stack"
   ]
  },
  {
   "cell_type": "code",
   "execution_count": 5,
   "metadata": {},
   "outputs": [],
   "source": [
    "resultado=pd.DataFrame()\n",
    "resultado['nombre'] = stadistica_str()"
   ]
  },
  {
   "cell_type": "code",
   "execution_count": 6,
   "metadata": {},
   "outputs": [],
   "source": [
    "key=['Promo2', 'tipo_store_a', 'tipo_store_b', 'tipo_store_c','tipo_store_d','tipo_assortment_a', 'tipo_assortment_b', 'tipo_assortment_c','CompetitionDistance_int','Sales', 'Customers','SchoolHoliday','StateHoliday_cerrado_int','StateHoliday_public_int','StateHoliday_Easter_int','StateHoliday_Christmas_int']\n",
    "for keys in key:\n",
    "    temporal= final[keys]\n",
    "    resultado[keys]=stadistica(temporal)"
   ]
  },
  {
   "cell_type": "code",
   "execution_count": 7,
   "metadata": {},
   "outputs": [],
   "source": [
    "pd.options.display.float_format = '{:.2f}'.format\n",
    "resultado.to_csv(\"resultados_estadisticos.cvs\")"
   ]
  },
  {
   "cell_type": "code",
   "execution_count": 8,
   "metadata": {
    "scrolled": false
   },
   "outputs": [
    {
     "data": {
      "text/html": [
       "<div>\n",
       "<table border=\"1\" class=\"dataframe\">\n",
       "  <thead>\n",
       "    <tr style=\"text-align: right;\">\n",
       "      <th></th>\n",
       "      <th>nombre</th>\n",
       "      <th>Promo2</th>\n",
       "      <th>tipo_store_a</th>\n",
       "      <th>tipo_store_b</th>\n",
       "      <th>tipo_store_c</th>\n",
       "      <th>tipo_store_d</th>\n",
       "      <th>tipo_assortment_a</th>\n",
       "      <th>tipo_assortment_b</th>\n",
       "      <th>tipo_assortment_c</th>\n",
       "      <th>CompetitionDistance_int</th>\n",
       "      <th>Sales</th>\n",
       "      <th>Customers</th>\n",
       "      <th>SchoolHoliday</th>\n",
       "      <th>StateHoliday_cerrado_int</th>\n",
       "      <th>StateHoliday_public_int</th>\n",
       "      <th>StateHoliday_Easter_int</th>\n",
       "      <th>StateHoliday_Christmas_int</th>\n",
       "    </tr>\n",
       "  </thead>\n",
       "  <tbody>\n",
       "    <tr>\n",
       "      <th>0</th>\n",
       "      <td>N</td>\n",
       "      <td>1017209.00</td>\n",
       "      <td>1017209.00</td>\n",
       "      <td>1017209.00</td>\n",
       "      <td>1017209.00</td>\n",
       "      <td>1017209.00</td>\n",
       "      <td>1017209.00</td>\n",
       "      <td>1017209.00</td>\n",
       "      <td>1017209.00</td>\n",
       "      <td>1017209.00</td>\n",
       "      <td>1017209.00</td>\n",
       "      <td>1017209.00</td>\n",
       "      <td>1017209.00</td>\n",
       "      <td>1017209.00</td>\n",
       "      <td>1017209.00</td>\n",
       "      <td>1017209.00</td>\n",
       "      <td>1017209.00</td>\n",
       "    </tr>\n",
       "    <tr>\n",
       "      <th>1</th>\n",
       "      <td>minimo</td>\n",
       "      <td>0.00</td>\n",
       "      <td>0.00</td>\n",
       "      <td>0.00</td>\n",
       "      <td>0.00</td>\n",
       "      <td>0.00</td>\n",
       "      <td>0.00</td>\n",
       "      <td>0.00</td>\n",
       "      <td>0.00</td>\n",
       "      <td>0.00</td>\n",
       "      <td>0.00</td>\n",
       "      <td>0.00</td>\n",
       "      <td>0.00</td>\n",
       "      <td>0.00</td>\n",
       "      <td>0.00</td>\n",
       "      <td>0.00</td>\n",
       "      <td>0.00</td>\n",
       "    </tr>\n",
       "    <tr>\n",
       "      <th>2</th>\n",
       "      <td>maximo</td>\n",
       "      <td>1.00</td>\n",
       "      <td>1.00</td>\n",
       "      <td>1.00</td>\n",
       "      <td>1.00</td>\n",
       "      <td>1.00</td>\n",
       "      <td>1.00</td>\n",
       "      <td>1.00</td>\n",
       "      <td>1.00</td>\n",
       "      <td>75860.00</td>\n",
       "      <td>41551.00</td>\n",
       "      <td>7388.00</td>\n",
       "      <td>1.00</td>\n",
       "      <td>1.00</td>\n",
       "      <td>1.00</td>\n",
       "      <td>1.00</td>\n",
       "      <td>1.00</td>\n",
       "    </tr>\n",
       "    <tr>\n",
       "      <th>3</th>\n",
       "      <td>media</td>\n",
       "      <td>0.50</td>\n",
       "      <td>0.54</td>\n",
       "      <td>0.02</td>\n",
       "      <td>0.13</td>\n",
       "      <td>0.31</td>\n",
       "      <td>0.53</td>\n",
       "      <td>0.01</td>\n",
       "      <td>0.46</td>\n",
       "      <td>5415.98</td>\n",
       "      <td>5773.82</td>\n",
       "      <td>633.15</td>\n",
       "      <td>0.18</td>\n",
       "      <td>0.97</td>\n",
       "      <td>0.02</td>\n",
       "      <td>0.01</td>\n",
       "      <td>0.00</td>\n",
       "    </tr>\n",
       "    <tr>\n",
       "      <th>4</th>\n",
       "      <td>mediana</td>\n",
       "      <td>1.00</td>\n",
       "      <td>1.00</td>\n",
       "      <td>0.00</td>\n",
       "      <td>0.00</td>\n",
       "      <td>0.00</td>\n",
       "      <td>1.00</td>\n",
       "      <td>0.00</td>\n",
       "      <td>0.00</td>\n",
       "      <td>2320.00</td>\n",
       "      <td>5744.00</td>\n",
       "      <td>609.00</td>\n",
       "      <td>0.00</td>\n",
       "      <td>1.00</td>\n",
       "      <td>0.00</td>\n",
       "      <td>0.00</td>\n",
       "      <td>0.00</td>\n",
       "    </tr>\n",
       "  </tbody>\n",
       "</table>\n",
       "</div>"
      ],
      "text/plain": [
       "    nombre     Promo2  tipo_store_a  tipo_store_b  tipo_store_c  tipo_store_d  \\\n",
       "0        N 1017209.00    1017209.00    1017209.00    1017209.00    1017209.00   \n",
       "1   minimo       0.00          0.00          0.00          0.00          0.00   \n",
       "2   maximo       1.00          1.00          1.00          1.00          1.00   \n",
       "3    media       0.50          0.54          0.02          0.13          0.31   \n",
       "4  mediana       1.00          1.00          0.00          0.00          0.00   \n",
       "\n",
       "   tipo_assortment_a  tipo_assortment_b  tipo_assortment_c  \\\n",
       "0         1017209.00         1017209.00         1017209.00   \n",
       "1               0.00               0.00               0.00   \n",
       "2               1.00               1.00               1.00   \n",
       "3               0.53               0.01               0.46   \n",
       "4               1.00               0.00               0.00   \n",
       "\n",
       "   CompetitionDistance_int      Sales  Customers  SchoolHoliday  \\\n",
       "0               1017209.00 1017209.00 1017209.00     1017209.00   \n",
       "1                     0.00       0.00       0.00           0.00   \n",
       "2                 75860.00   41551.00    7388.00           1.00   \n",
       "3                  5415.98    5773.82     633.15           0.18   \n",
       "4                  2320.00    5744.00     609.00           0.00   \n",
       "\n",
       "   StateHoliday_cerrado_int  StateHoliday_public_int  StateHoliday_Easter_int  \\\n",
       "0                1017209.00               1017209.00               1017209.00   \n",
       "1                      0.00                     0.00                     0.00   \n",
       "2                      1.00                     1.00                     1.00   \n",
       "3                      0.97                     0.02                     0.01   \n",
       "4                      1.00                     0.00                     0.00   \n",
       "\n",
       "   StateHoliday_Christmas_int  \n",
       "0                  1017209.00  \n",
       "1                        0.00  \n",
       "2                        1.00  \n",
       "3                        0.00  \n",
       "4                        0.00  "
      ]
     },
     "execution_count": 8,
     "metadata": {},
     "output_type": "execute_result"
    }
   ],
   "source": [
    "resultado[['nombre','CompetitionDistance_int','tipo_store_a', 'tipo_store_b', 'tipo_store_c','tipo_store_d']]\n",
    "resultado.head()"
   ]
  },
  {
   "cell_type": "markdown",
   "metadata": {},
   "source": [
    "<hr>\n",
    "<h1 id='1'> comparación distancia vs tipo store</h1>\n",
    "<hr>"
   ]
  },
  {
   "cell_type": "code",
   "execution_count": 115,
   "metadata": {},
   "outputs": [],
   "source": [
    "d = {'tipo store': ['a', 'b','c','d'], \n",
    "     'max': [\n",
    "         final[final.tipo_store_a==1].CompetitionDistance_int.max(),\n",
    "         final[final.tipo_store_b==1].CompetitionDistance_int.max(),\n",
    "         final[final.tipo_store_c==1].CompetitionDistance_int.max(),\n",
    "         final[final.tipo_store_d==1].CompetitionDistance_int.max()\n",
    "     ],\n",
    "     'min': [\n",
    "         final[final.tipo_store_a==1].CompetitionDistance_int.min(),\n",
    "         final[final.tipo_store_b==1].CompetitionDistance_int.min(),\n",
    "         final[final.tipo_store_c==1].CompetitionDistance_int.min(),\n",
    "         final[final.tipo_store_d==1].CompetitionDistance_int.min()\n",
    "     ],\n",
    "     'promedio': [\n",
    "         final[final.tipo_store_a==1].CompetitionDistance_int.mean(),\n",
    "         final[final.tipo_store_b==1].CompetitionDistance_int.mean(),\n",
    "         final[final.tipo_store_c==1].CompetitionDistance_int.mean(),\n",
    "         final[final.tipo_store_d==1].CompetitionDistance_int.mean()\n",
    "     ],\n",
    "     'N': [\n",
    "         final[final.tipo_store_a==1].CompetitionDistance_int.count(),\n",
    "         final[final.tipo_store_b==1].CompetitionDistance_int.count(),\n",
    "         final[final.tipo_store_c==1].CompetitionDistance_int.count(),\n",
    "         final[final.tipo_store_d==1].CompetitionDistance_int.count()\n",
    "     ]\n",
    "    }\n",
    "nuevo=pd.DataFrame(d)\n",
    "nuevo.set_index('tipo store', inplace=True)"
   ]
  },
  {
   "cell_type": "code",
   "execution_count": 116,
   "metadata": {},
   "outputs": [
    {
     "data": {
      "text/html": [
       "<div>\n",
       "<table border=\"1\" class=\"dataframe\">\n",
       "  <thead>\n",
       "    <tr style=\"text-align: right;\">\n",
       "      <th></th>\n",
       "      <th>N</th>\n",
       "      <th>max</th>\n",
       "      <th>min</th>\n",
       "      <th>promedio</th>\n",
       "    </tr>\n",
       "    <tr>\n",
       "      <th>tipo store</th>\n",
       "      <th></th>\n",
       "      <th></th>\n",
       "      <th></th>\n",
       "      <th></th>\n",
       "    </tr>\n",
       "  </thead>\n",
       "  <tbody>\n",
       "    <tr>\n",
       "      <th>a</th>\n",
       "      <td>551627</td>\n",
       "      <td>75860</td>\n",
       "      <td>0</td>\n",
       "      <td>5157.63</td>\n",
       "    </tr>\n",
       "    <tr>\n",
       "      <th>b</th>\n",
       "      <td>15830</td>\n",
       "      <td>3640</td>\n",
       "      <td>90</td>\n",
       "      <td>1066.06</td>\n",
       "    </tr>\n",
       "    <tr>\n",
       "      <th>c</th>\n",
       "      <td>136840</td>\n",
       "      <td>45740</td>\n",
       "      <td>40</td>\n",
       "      <td>3516.70</td>\n",
       "    </tr>\n",
       "    <tr>\n",
       "      <th>d</th>\n",
       "      <td>312912</td>\n",
       "      <td>48330</td>\n",
       "      <td>0</td>\n",
       "      <td>6922.06</td>\n",
       "    </tr>\n",
       "  </tbody>\n",
       "</table>\n",
       "</div>"
      ],
      "text/plain": [
       "                 N    max  min  promedio\n",
       "tipo store                              \n",
       "a           551627  75860    0   5157.63\n",
       "b            15830   3640   90   1066.06\n",
       "c           136840  45740   40   3516.70\n",
       "d           312912  48330    0   6922.06"
      ]
     },
     "execution_count": 116,
     "metadata": {},
     "output_type": "execute_result"
    }
   ],
   "source": [
    "nuevo"
   ]
  },
  {
   "cell_type": "code",
   "execution_count": 117,
   "metadata": {},
   "outputs": [
    {
     "data": {
      "image/png": "[encoded data removed]",
      "text/plain": [
       "<Figure size 432x288 with 1 Axes>"
      ]
     },
     "metadata": {},
     "output_type": "display_data"
    }
   ],
   "source": [
    "plt.figure()\n",
    "plt.ylabel('CompetitionDistance') \n",
    "plt.xlabel('tipo store')  \n",
    "nuevo['max'].plot(kind='bar',legend=True)\n",
    "plt.savefig('Distance_tipo_s_max.png')"
   ]
  },
  {
   "cell_type": "code",
   "execution_count": 118,
   "metadata": {},
   "outputs": [
    {
     "data": {
      "image/png": "[encoded data removed]",
      "text/plain": [
       "<Figure size 432x288 with 1 Axes>"
      ]
     },
     "metadata": {},
     "output_type": "display_data"
    }
   ],
   "source": [
    "plt.figure()\n",
    "plt.ylabel('CompetitionDistance')  \n",
    "nuevo['min'].plot(kind='bar',legend=True)\n",
    "plt.savefig('Distance_tipo_s_min.png')"
   ]
  },
  {
   "cell_type": "code",
   "execution_count": 119,
   "metadata": {},
   "outputs": [
    {
     "data": {
      "image/png": "[encoded data removed]",
      "text/plain": [
       "<Figure size 432x288 with 1 Axes>"
      ]
     },
     "metadata": {},
     "output_type": "display_data"
    }
   ],
   "source": [
    "plt.figure()\n",
    "plt.ylabel('CompetitionDistance')  \n",
    "nuevo['promedio'].plot(kind='bar',legend=True)\n",
    "plt.savefig('Distance_tipo_s_promedio.png')"
   ]
  },
  {
   "cell_type": "code",
   "execution_count": 120,
   "metadata": {},
   "outputs": [
    {
     "data": {
      "image/png": "[encoded data removed]",
      "text/plain": [
       "<Figure size 432x288 with 1 Axes>"
      ]
     },
     "metadata": {},
     "output_type": "display_data"
    }
   ],
   "source": [
    "plt.figure()\n",
    "plt.ylabel('CompetitionDistance')  \n",
    "nuevo['N'].plot(kind='bar',legend=True)\n",
    "plt.savefig('Distance_tipo_s_N.png')"
   ]
  },
  {
   "cell_type": "markdown",
   "metadata": {},
   "source": [
    "<hr>\n",
    "<h1> comparación distancia vs tipo assortment</h1>\n",
    "<hr>"
   ]
  },
  {
   "cell_type": "code",
   "execution_count": 108,
   "metadata": {},
   "outputs": [],
   "source": [
    "d2 = {'tipo assortment': ['a', 'b','c'], \n",
    "     'max': [\n",
    "         final[final.tipo_assortment_a==1].CompetitionDistance_int.max(),\n",
    "         final[final.tipo_assortment_b==1].CompetitionDistance_int.max(),\n",
    "         final[final.tipo_assortment_c==1].CompetitionDistance_int.max()\n",
    "     ],\n",
    "     'min': [\n",
    "         final[final.tipo_assortment_a==1].CompetitionDistance_int.min(),\n",
    "         final[final.tipo_assortment_b==1].CompetitionDistance_int.min(),\n",
    "         final[final.tipo_assortment_c==1].CompetitionDistance_int.min()\n",
    "     ],\n",
    "     'promedio': [\n",
    "         final[final.tipo_assortment_a==1].CompetitionDistance_int.mean(),\n",
    "         final[final.tipo_assortment_b==1].CompetitionDistance_int.mean(),\n",
    "         final[final.tipo_assortment_c==1].CompetitionDistance_int.mean()\n",
    "     ],\n",
    "     'N': [\n",
    "         final[final.tipo_assortment_a==1].CompetitionDistance_int.count(),\n",
    "         final[final.tipo_assortment_b==1].CompetitionDistance_int.count(),\n",
    "         final[final.tipo_assortment_c==1].CompetitionDistance_int.count()\n",
    "     ]\n",
    "    }\n",
    "nuevo2=pd.DataFrame(d2)\n",
    "nuevo2.set_index('tipo assortment', inplace=True)"
   ]
  },
  {
   "cell_type": "code",
   "execution_count": 109,
   "metadata": {},
   "outputs": [
    {
     "data": {
      "text/html": [
       "<div>\n",
       "<table border=\"1\" class=\"dataframe\">\n",
       "  <thead>\n",
       "    <tr style=\"text-align: right;\">\n",
       "      <th></th>\n",
       "      <th>N</th>\n",
       "      <th>max</th>\n",
       "      <th>min</th>\n",
       "      <th>promedio</th>\n",
       "    </tr>\n",
       "    <tr>\n",
       "      <th>tipo assortment</th>\n",
       "      <th></th>\n",
       "      <th></th>\n",
       "      <th></th>\n",
       "      <th></th>\n",
       "    </tr>\n",
       "  </thead>\n",
       "  <tbody>\n",
       "    <tr>\n",
       "      <th>a</th>\n",
       "      <td>537445</td>\n",
       "      <td>48330</td>\n",
       "      <td>0</td>\n",
       "      <td>4384.86</td>\n",
       "    </tr>\n",
       "    <tr>\n",
       "      <th>b</th>\n",
       "      <td>8294</td>\n",
       "      <td>3640</td>\n",
       "      <td>210</td>\n",
       "      <td>1190.82</td>\n",
       "    </tr>\n",
       "    <tr>\n",
       "      <th>c</th>\n",
       "      <td>471470</td>\n",
       "      <td>75860</td>\n",
       "      <td>0</td>\n",
       "      <td>6665.72</td>\n",
       "    </tr>\n",
       "  </tbody>\n",
       "</table>\n",
       "</div>"
      ],
      "text/plain": [
       "                      N    max  min  promedio\n",
       "tipo assortment                              \n",
       "a                537445  48330    0   4384.86\n",
       "b                  8294   3640  210   1190.82\n",
       "c                471470  75860    0   6665.72"
      ]
     },
     "execution_count": 109,
     "metadata": {},
     "output_type": "execute_result"
    }
   ],
   "source": [
    "nuevo2"
   ]
  },
  {
   "cell_type": "code",
   "execution_count": 110,
   "metadata": {},
   "outputs": [
    {
     "data": {
      "image/png": "[encoded data removed]",
      "text/plain": [
       "<Figure size 432x288 with 1 Axes>"
      ]
     },
     "metadata": {},
     "output_type": "display_data"
    }
   ],
   "source": [
    "plt.figure()\n",
    "plt.ylabel('CompetitionDistance') \n",
    "plt.xlabel('tipo store')  \n",
    "nuevo2['max'].plot(kind='bar',legend=True)\n",
    "plt.savefig('Distance_tipo_a_max.png')"
   ]
  },
  {
   "cell_type": "code",
   "execution_count": 111,
   "metadata": {},
   "outputs": [
    {
     "data": {
      "image/png": "[encoded data removed]",
      "text/plain": [
       "<Figure size 432x288 with 1 Axes>"
      ]
     },
     "metadata": {},
     "output_type": "display_data"
    }
   ],
   "source": [
    "plt.figure()\n",
    "plt.ylabel('CompetitionDistance')  \n",
    "nuevo2['min'].plot(kind='bar',legend=True)\n",
    "plt.savefig('Distance_tipo_a_min.png')"
   ]
  },
  {
   "cell_type": "code",
   "execution_count": 112,
   "metadata": {
    "scrolled": true
   },
   "outputs": [
    {
     "data": {
      "image/png": "[encoded data removed]",
      "text/plain": [
       "<Figure size 432x288 with 1 Axes>"
      ]
     },
     "metadata": {},
     "output_type": "display_data"
    }
   ],
   "source": [
    "plt.figure()\n",
    "plt.ylabel('CompetitionDistance')  \n",
    "nuevo2['promedio'].plot(kind='bar',legend=True)\n",
    "plt.savefig('Distance_tipo_a_promedio.png')"
   ]
  },
  {
   "cell_type": "code",
   "execution_count": 114,
   "metadata": {
    "scrolled": true
   },
   "outputs": [
    {
     "data": {
      "image/png": "[encoded data removed]",
      "text/plain": [
       "<Figure size 432x288 with 1 Axes>"
      ]
     },
     "metadata": {},
     "output_type": "display_data"
    }
   ],
   "source": [
    "plt.figure()\n",
    "plt.ylabel('CompetitionDistance')  \n",
    "nuevo2['N'].plot(kind='bar',legend=True)\n",
    "plt.savefig('Distance_tipo_a_N.png')"
   ]
  },
  {
   "cell_type": "markdown",
   "metadata": {},
   "source": [
    "<hr>\n",
    "<h1> comparación Sales vs tipo store</h1>\n",
    "<hr>"
   ]
  },
  {
   "cell_type": "code",
   "execution_count": 102,
   "metadata": {},
   "outputs": [],
   "source": [
    "d3 = {'tipo store': ['a', 'b','c','d'], \n",
    "     'max': [\n",
    "         final[final.tipo_store_a==1].Sales.max(),\n",
    "         final[final.tipo_store_b==1].Sales.max(),\n",
    "         final[final.tipo_store_c==1].Sales.max(),\n",
    "         final[final.tipo_store_d==1].Sales.max()\n",
    "     ],\n",
    "     'min': [\n",
    "         final[final.tipo_store_a==1].Sales.min(),\n",
    "         final[final.tipo_store_b==1].Sales.min(),\n",
    "         final[final.tipo_store_c==1].Sales.min(), \n",
    "         final[final.tipo_store_d==1].Sales.min()\n",
    "     ],\n",
    "     'promedio': [\n",
    "         final[final.tipo_store_a==1].Sales.mean(),\n",
    "         final[final.tipo_store_b==1].Sales.mean(),\n",
    "         final[final.tipo_store_c==1].Sales.mean(),\n",
    "         final[final.tipo_store_d==1].Sales.mean()\n",
    "     ],\n",
    "     'N': [\n",
    "         final[final.tipo_store_a==1].Sales.count(),\n",
    "         final[final.tipo_store_b==1].Sales.count(),\n",
    "         final[final.tipo_store_c==1].Sales.count(),\n",
    "         final[final.tipo_store_d==1].Sales.count()\n",
    "     ]\n",
    "    }\n",
    "nuevo3=pd.DataFrame(d3)\n",
    "nuevo3.set_index('tipo store', inplace=True)"
   ]
  },
  {
   "cell_type": "code",
   "execution_count": 103,
   "metadata": {},
   "outputs": [
    {
     "data": {
      "text/html": [
       "<div>\n",
       "<table border=\"1\" class=\"dataframe\">\n",
       "  <thead>\n",
       "    <tr style=\"text-align: right;\">\n",
       "      <th></th>\n",
       "      <th>N</th>\n",
       "      <th>max</th>\n",
       "      <th>min</th>\n",
       "      <th>promedio</th>\n",
       "    </tr>\n",
       "    <tr>\n",
       "      <th>tipo store</th>\n",
       "      <th></th>\n",
       "      <th></th>\n",
       "      <th></th>\n",
       "      <th></th>\n",
       "    </tr>\n",
       "  </thead>\n",
       "  <tbody>\n",
       "    <tr>\n",
       "      <th>a</th>\n",
       "      <td>551627</td>\n",
       "      <td>41551</td>\n",
       "      <td>0</td>\n",
       "      <td>5738.18</td>\n",
       "    </tr>\n",
       "    <tr>\n",
       "      <th>b</th>\n",
       "      <td>15830</td>\n",
       "      <td>38722</td>\n",
       "      <td>0</td>\n",
       "      <td>10058.84</td>\n",
       "    </tr>\n",
       "    <tr>\n",
       "      <th>c</th>\n",
       "      <td>136840</td>\n",
       "      <td>31448</td>\n",
       "      <td>0</td>\n",
       "      <td>5723.63</td>\n",
       "    </tr>\n",
       "    <tr>\n",
       "      <th>d</th>\n",
       "      <td>312912</td>\n",
       "      <td>38037</td>\n",
       "      <td>0</td>\n",
       "      <td>5641.82</td>\n",
       "    </tr>\n",
       "  </tbody>\n",
       "</table>\n",
       "</div>"
      ],
      "text/plain": [
       "                 N    max  min  promedio\n",
       "tipo store                              \n",
       "a           551627  41551    0   5738.18\n",
       "b            15830  38722    0  10058.84\n",
       "c           136840  31448    0   5723.63\n",
       "d           312912  38037    0   5641.82"
      ]
     },
     "execution_count": 103,
     "metadata": {},
     "output_type": "execute_result"
    }
   ],
   "source": [
    "nuevo3"
   ]
  },
  {
   "cell_type": "code",
   "execution_count": 104,
   "metadata": {},
   "outputs": [
    {
     "data": {
      "image/png": "[encoded data removed]",
      "text/plain": [
       "<Figure size 432x288 with 1 Axes>"
      ]
     },
     "metadata": {},
     "output_type": "display_data"
    }
   ],
   "source": [
    "plt.figure()\n",
    "plt.ylabel('sales') \n",
    "plt.xlabel('tipo store')  \n",
    "nuevo3['max'].plot(kind='bar',legend=True)\n",
    "plt.savefig('sales_tipo_s_max.png')"
   ]
  },
  {
   "cell_type": "code",
   "execution_count": 105,
   "metadata": {},
   "outputs": [
    {
     "data": {
      "image/png": "[encoded data removed]",
      "text/plain": [
       "<Figure size 432x288 with 1 Axes>"
      ]
     },
     "metadata": {},
     "output_type": "display_data"
    }
   ],
   "source": [
    "plt.figure()\n",
    "plt.ylabel('sales')  \n",
    "nuevo3['min'].plot(kind='bar',legend=True)\n",
    "plt.savefig('sales_tipo_s_min.png')"
   ]
  },
  {
   "cell_type": "code",
   "execution_count": 106,
   "metadata": {},
   "outputs": [
    {
     "data": {
      "image/png": "[encoded data removed]",
      "text/plain": [
       "<Figure size 432x288 with 1 Axes>"
      ]
     },
     "metadata": {},
     "output_type": "display_data"
    }
   ],
   "source": [
    "plt.figure()\n",
    "plt.ylabel('sales')  \n",
    "nuevo3['promedio'].plot(kind='bar',legend=True)\n",
    "plt.savefig('sales_tipo_s_promedio.png')"
   ]
  },
  {
   "cell_type": "code",
   "execution_count": 107,
   "metadata": {},
   "outputs": [
    {
     "data": {
      "image/png": "[encoded data removed]",
      "text/plain": [
       "<Figure size 432x288 with 1 Axes>"
      ]
     },
     "metadata": {},
     "output_type": "display_data"
    }
   ],
   "source": [
    "plt.figure()\n",
    "plt.ylabel('sales')  \n",
    "nuevo3['N'].plot(kind='bar',legend=True)\n",
    "plt.savefig('sales_tipo_s_N.png')"
   ]
  },
  {
   "cell_type": "markdown",
   "metadata": {},
   "source": [
    "<hr>\n",
    "<h1> comparación sales vs tipo assortment</h1>\n",
    "<hr>"
   ]
  },
  {
   "cell_type": "code",
   "execution_count": 94,
   "metadata": {},
   "outputs": [],
   "source": [
    "d4 = {'tipo assortment': ['a', 'b','c'],\n",
    "     'max': [\n",
    "         final[final.tipo_assortment_a==1].Sales.max(),\n",
    "         final[final.tipo_assortment_b==1].Sales.max(),\n",
    "         final[final.tipo_assortment_c==1].Sales.max()\n",
    "     ],\n",
    "     'min': [\n",
    "         final[final.tipo_assortment_a==1].Sales.min(),\n",
    "         final[final.tipo_assortment_b==1].Sales.min(),\n",
    "         final[final.tipo_assortment_c==1].Sales.min()\n",
    "            ],\n",
    "     'promedio': [\n",
    "         final[final.tipo_assortment_a==1].Sales.mean(),\n",
    "         final[final.tipo_assortment_b==1].Sales.mean(),\n",
    "         final[final.tipo_assortment_c==1].Sales.mean()\n",
    "     ],\n",
    "     'N': [\n",
    "         final[final.tipo_assortment_a==1].Sales.count(),\n",
    "         final[final.tipo_assortment_b==1].Sales.count(),\n",
    "         final[final.tipo_assortment_c==1].Sales.count()\n",
    "     ]\n",
    "    }\n",
    "nuevo4=pd.DataFrame(d4)\n",
    "nuevo4.set_index('tipo assortment', inplace=True)"
   ]
  },
  {
   "cell_type": "code",
   "execution_count": 95,
   "metadata": {},
   "outputs": [
    {
     "data": {
      "text/html": [
       "<div>\n",
       "<table border=\"1\" class=\"dataframe\">\n",
       "  <thead>\n",
       "    <tr style=\"text-align: right;\">\n",
       "      <th></th>\n",
       "      <th>N</th>\n",
       "      <th>max</th>\n",
       "      <th>min</th>\n",
       "      <th>promedio</th>\n",
       "    </tr>\n",
       "    <tr>\n",
       "      <th>tipo assortment</th>\n",
       "      <th></th>\n",
       "      <th></th>\n",
       "      <th></th>\n",
       "      <th></th>\n",
       "    </tr>\n",
       "  </thead>\n",
       "  <tbody>\n",
       "    <tr>\n",
       "      <th>a</th>\n",
       "      <td>537445</td>\n",
       "      <td>38722</td>\n",
       "      <td>0</td>\n",
       "      <td>5481.03</td>\n",
       "    </tr>\n",
       "    <tr>\n",
       "      <th>b</th>\n",
       "      <td>8294</td>\n",
       "      <td>22137</td>\n",
       "      <td>0</td>\n",
       "      <td>8553.93</td>\n",
       "    </tr>\n",
       "    <tr>\n",
       "      <th>c</th>\n",
       "      <td>471470</td>\n",
       "      <td>41551</td>\n",
       "      <td>0</td>\n",
       "      <td>6058.68</td>\n",
       "    </tr>\n",
       "  </tbody>\n",
       "</table>\n",
       "</div>"
      ],
      "text/plain": [
       "                      N    max  min  promedio\n",
       "tipo assortment                              \n",
       "a                537445  38722    0   5481.03\n",
       "b                  8294  22137    0   8553.93\n",
       "c                471470  41551    0   6058.68"
      ]
     },
     "execution_count": 95,
     "metadata": {},
     "output_type": "execute_result"
    }
   ],
   "source": [
    "nuevo4"
   ]
  },
  {
   "cell_type": "code",
   "execution_count": 96,
   "metadata": {},
   "outputs": [
    {
     "data": {
      "image/png": "[encoded data removed]",
      "text/plain": [
       "<Figure size 432x288 with 1 Axes>"
      ]
     },
     "metadata": {},
     "output_type": "display_data"
    }
   ],
   "source": [
    "plt.figure()\n",
    "plt.ylabel('Sales') \n",
    "plt.xlabel('tipo store')  \n",
    "nuevo4['max'].plot(kind='bar',legend=True)\n",
    "plt.savefig('sales_tipo_a_max.png')"
   ]
  },
  {
   "cell_type": "code",
   "execution_count": 97,
   "metadata": {},
   "outputs": [
    {
     "data": {
      "image/png": "[encoded data removed]",
      "text/plain": [
       "<Figure size 432x288 with 1 Axes>"
      ]
     },
     "metadata": {},
     "output_type": "display_data"
    }
   ],
   "source": [
    "plt.figure()\n",
    "plt.ylabel('sale')  \n",
    "nuevo2['min'].plot(kind='bar',legend=True)\n",
    "plt.savefig('sale_tipo_a_min.png')"
   ]
  },
  {
   "cell_type": "code",
   "execution_count": 100,
   "metadata": {
    "scrolled": true
   },
   "outputs": [
    {
     "data": {
      "image/png": "[encoded data removed]",
      "text/plain": [
       "<Figure size 432x288 with 1 Axes>"
      ]
     },
     "metadata": {},
     "output_type": "display_data"
    }
   ],
   "source": [
    "plt.figure()\n",
    "plt.ylabel('sales')  \n",
    "nuevo4['promedio'].plot(kind='bar',legend=True)\n",
    "plt.savefig('sale_tipo_a_promedio.png')"
   ]
  },
  {
   "cell_type": "code",
   "execution_count": 101,
   "metadata": {
    "scrolled": true
   },
   "outputs": [
    {
     "data": {
      "image/png": "[encoded data removed]",
      "text/plain": [
       "<Figure size 432x288 with 1 Axes>"
      ]
     },
     "metadata": {},
     "output_type": "display_data"
    }
   ],
   "source": [
    "plt.figure()\n",
    "plt.ylabel('sales')  \n",
    "nuevo4['N'].plot(kind='bar',legend=True)\n",
    "plt.savefig('sale_tipo_a_N.png')"
   ]
  },
  {
   "cell_type": "markdown",
   "metadata": {},
   "source": [
    "<hr>\n",
    "<h1> comparación Clientes vs tipo store</h1>\n",
    "<hr>"
   ]
  },
  {
   "cell_type": "code",
   "execution_count": 88,
   "metadata": {},
   "outputs": [],
   "source": [
    "d5 = {'tipo store': ['a', 'b','c','d'], \n",
    "     'max': [\n",
    "         final[final.tipo_store_a==1].Customers.max(),\n",
    "         final[final.tipo_store_b==1].Customers.max(),\n",
    "         final[final.tipo_store_c==1].Customers.max(),\n",
    "         final[final.tipo_store_d==1].Customers.max()\n",
    "     ],\n",
    "     'min': [\n",
    "         final[final.tipo_store_a==1].Customers.min(),\n",
    "         final[final.tipo_store_b==1].Customers.min(),\n",
    "         final[final.tipo_store_c==1].Customers.min(),\n",
    "         final[final.tipo_store_d==1].Customers.min()\n",
    "     ],\n",
    "     'promedio': [\n",
    "         final[final.tipo_store_a==1].Customers.mean(),\n",
    "         final[final.tipo_store_b==1].Customers.mean(),\n",
    "         final[final.tipo_store_c==1].Customers.mean(),\n",
    "         final[final.tipo_store_d==1].Customers.mean()\n",
    "     ],\n",
    "     'N': [\n",
    "         final[final.tipo_store_a==1].Customers.count(),\n",
    "         final[final.tipo_store_b==1].Customers.count(),\n",
    "         final[final.tipo_store_c==1].Customers.count(),\n",
    "         final[final.tipo_store_d==1].Customers.count()\n",
    "     ]\n",
    "    }\n",
    "nuevo5=pd.DataFrame(d5)\n",
    "nuevo5.set_index('tipo store', inplace=True)"
   ]
  },
  {
   "cell_type": "code",
   "execution_count": 89,
   "metadata": {},
   "outputs": [
    {
     "data": {
      "text/html": [
       "<div>\n",
       "<table border=\"1\" class=\"dataframe\">\n",
       "  <thead>\n",
       "    <tr style=\"text-align: right;\">\n",
       "      <th></th>\n",
       "      <th>N</th>\n",
       "      <th>max</th>\n",
       "      <th>min</th>\n",
       "      <th>promedio</th>\n",
       "    </tr>\n",
       "    <tr>\n",
       "      <th>tipo store</th>\n",
       "      <th></th>\n",
       "      <th></th>\n",
       "      <th></th>\n",
       "      <th></th>\n",
       "    </tr>\n",
       "  </thead>\n",
       "  <tbody>\n",
       "    <tr>\n",
       "      <th>a</th>\n",
       "      <td>551627</td>\n",
       "      <td>7388</td>\n",
       "      <td>0</td>\n",
       "      <td>659.03</td>\n",
       "    </tr>\n",
       "    <tr>\n",
       "      <th>b</th>\n",
       "      <td>15830</td>\n",
       "      <td>5494</td>\n",
       "      <td>0</td>\n",
       "      <td>1987.72</td>\n",
       "    </tr>\n",
       "    <tr>\n",
       "      <th>c</th>\n",
       "      <td>136840</td>\n",
       "      <td>3096</td>\n",
       "      <td>0</td>\n",
       "      <td>673.27</td>\n",
       "    </tr>\n",
       "    <tr>\n",
       "      <th>d</th>\n",
       "      <td>312912</td>\n",
       "      <td>2239</td>\n",
       "      <td>0</td>\n",
       "      <td>501.43</td>\n",
       "    </tr>\n",
       "  </tbody>\n",
       "</table>\n",
       "</div>"
      ],
      "text/plain": [
       "                 N   max  min  promedio\n",
       "tipo store                             \n",
       "a           551627  7388    0    659.03\n",
       "b            15830  5494    0   1987.72\n",
       "c           136840  3096    0    673.27\n",
       "d           312912  2239    0    501.43"
      ]
     },
     "execution_count": 89,
     "metadata": {},
     "output_type": "execute_result"
    }
   ],
   "source": [
    "nuevo5"
   ]
  },
  {
   "cell_type": "code",
   "execution_count": 90,
   "metadata": {},
   "outputs": [
    {
     "data": {
      "image/png": "[encoded data removed]",
      "text/plain": [
       "<Figure size 432x288 with 1 Axes>"
      ]
     },
     "metadata": {},
     "output_type": "display_data"
    }
   ],
   "source": [
    "plt.figure()\n",
    "plt.ylabel('Clientes') \n",
    "plt.xlabel('tipo store')  \n",
    "nuevo5['max'].plot(kind='bar',legend=True)\n",
    "plt.savefig('Clientes_tipo_s_max.png')"
   ]
  },
  {
   "cell_type": "code",
   "execution_count": 91,
   "metadata": {},
   "outputs": [
    {
     "data": {
      "image/png": "[encoded data removed]",
      "text/plain": [
       "<Figure size 432x288 with 1 Axes>"
      ]
     },
     "metadata": {},
     "output_type": "display_data"
    }
   ],
   "source": [
    "plt.figure()\n",
    "plt.ylabel('Clientes')  \n",
    "nuevo5['min'].plot(kind='bar',legend=True)\n",
    "plt.savefig('Clientes_tipo_s_min.png')"
   ]
  },
  {
   "cell_type": "code",
   "execution_count": 92,
   "metadata": {},
   "outputs": [
    {
     "data": {
      "image/png": "[encoded data removed]",
      "text/plain": [
       "<Figure size 432x288 with 1 Axes>"
      ]
     },
     "metadata": {},
     "output_type": "display_data"
    }
   ],
   "source": [
    "plt.figure()\n",
    "plt.ylabel('Clientes')  \n",
    "nuevo5['promedio'].plot(kind='bar',legend=True)\n",
    "plt.savefig('Clientes_tipo_s_promedio.png')"
   ]
  },
  {
   "cell_type": "code",
   "execution_count": 93,
   "metadata": {},
   "outputs": [
    {
     "data": {
      "image/png": "[encoded data removed]",
      "text/plain": [
       "<Figure size 432x288 with 1 Axes>"
      ]
     },
     "metadata": {},
     "output_type": "display_data"
    }
   ],
   "source": [
    "plt.figure()\n",
    "plt.ylabel('Clientes')  \n",
    "nuevo5['N'].plot(kind='bar',legend=True)\n",
    "plt.savefig('Clientes_tipo_s_N.png')"
   ]
  },
  {
   "cell_type": "markdown",
   "metadata": {},
   "source": [
    "<hr>\n",
    "<h1> comparación cliente vs tipo assortment</h1>\n",
    "<hr>"
   ]
  },
  {
   "cell_type": "code",
   "execution_count": 82,
   "metadata": {},
   "outputs": [],
   "source": [
    "d6 = {'tipo assortment': ['a', 'b','c'],\n",
    "     'max': [\n",
    "         final[final.tipo_assortment_a==1].Customers.max(),\n",
    "         final[final.tipo_assortment_b==1].Customers.max(),\n",
    "         final[final.tipo_assortment_c==1].Customers.max()\n",
    "     ],\n",
    "     'min': [\n",
    "         final[final.tipo_assortment_a==1].Customers.min(),\n",
    "         final[final.tipo_assortment_b==1].Customers.min(),\n",
    "         final[final.tipo_assortment_c==1].Customers.min()\n",
    "     ],\n",
    "     'promedio': [\n",
    "         final[final.tipo_assortment_a==1].Customers.mean(),\n",
    "         final[final.tipo_assortment_b==1].Customers.mean(),\n",
    "         final[final.tipo_assortment_c==1].Customers.mean()\n",
    "     ],\n",
    "     'N': [\n",
    "         final[final.tipo_assortment_a==1].Customers.count(),\n",
    "         final[final.tipo_assortment_b==1].Customers.count(),\n",
    "         final[final.tipo_assortment_c==1].Customers.count()\n",
    "     ]\n",
    "    }\n",
    "nuevo6=pd.DataFrame(d6)\n",
    "nuevo6.set_index('tipo assortment', inplace=True)"
   ]
  },
  {
   "cell_type": "code",
   "execution_count": 83,
   "metadata": {},
   "outputs": [
    {
     "data": {
      "text/html": [
       "<div>\n",
       "<table border=\"1\" class=\"dataframe\">\n",
       "  <thead>\n",
       "    <tr style=\"text-align: right;\">\n",
       "      <th></th>\n",
       "      <th>N</th>\n",
       "      <th>max</th>\n",
       "      <th>min</th>\n",
       "      <th>promedio</th>\n",
       "    </tr>\n",
       "    <tr>\n",
       "      <th>tipo assortment</th>\n",
       "      <th></th>\n",
       "      <th></th>\n",
       "      <th></th>\n",
       "      <th></th>\n",
       "    </tr>\n",
       "  </thead>\n",
       "  <tbody>\n",
       "    <tr>\n",
       "      <th>a</th>\n",
       "      <td>537445</td>\n",
       "      <td>7388</td>\n",
       "      <td>0</td>\n",
       "      <td>619.16</td>\n",
       "    </tr>\n",
       "    <tr>\n",
       "      <th>b</th>\n",
       "      <td>8294</td>\n",
       "      <td>4645</td>\n",
       "      <td>0</td>\n",
       "      <td>2046.36</td>\n",
       "    </tr>\n",
       "    <tr>\n",
       "      <th>c</th>\n",
       "      <td>471470</td>\n",
       "      <td>4911</td>\n",
       "      <td>0</td>\n",
       "      <td>624.22</td>\n",
       "    </tr>\n",
       "  </tbody>\n",
       "</table>\n",
       "</div>"
      ],
      "text/plain": [
       "                      N   max  min  promedio\n",
       "tipo assortment                             \n",
       "a                537445  7388    0    619.16\n",
       "b                  8294  4645    0   2046.36\n",
       "c                471470  4911    0    624.22"
      ]
     },
     "execution_count": 83,
     "metadata": {},
     "output_type": "execute_result"
    }
   ],
   "source": [
    "nuevo6"
   ]
  },
  {
   "cell_type": "code",
   "execution_count": 48,
   "metadata": {},
   "outputs": [
    {
     "data": {
      "image/png": "[encoded data removed]",
      "text/plain": [
       "<Figure size 432x288 with 1 Axes>"
      ]
     },
     "metadata": {},
     "output_type": "display_data"
    }
   ],
   "source": [
    "plt.figure()\n",
    "plt.ylabel('Cliente') \n",
    "plt.xlabel('tipo store')  \n",
    "nuevo6['max'].plot(kind='bar',legend=True)\n",
    "plt.savefig('cliente_tipo_a_max.png')"
   ]
  },
  {
   "cell_type": "code",
   "execution_count": 49,
   "metadata": {},
   "outputs": [
    {
     "data": {
      "image/png": "[encoded data removed]",
      "text/plain": [
       "<Figure size 432x288 with 1 Axes>"
      ]
     },
     "metadata": {},
     "output_type": "display_data"
    }
   ],
   "source": [
    "plt.figure()\n",
    "plt.ylabel('cliente')  \n",
    "nuevo6['min'].plot(kind='bar',legend=True)\n",
    "plt.savefig('cliente_tipo_a_min.png')"
   ]
  },
  {
   "cell_type": "code",
   "execution_count": 50,
   "metadata": {
    "scrolled": true
   },
   "outputs": [
    {
     "data": {
      "image/png": "[encoded data removed]",
      "text/plain": [
       "<Figure size 432x288 with 1 Axes>"
      ]
     },
     "metadata": {},
     "output_type": "display_data"
    }
   ],
   "source": [
    "plt.figure()\n",
    "plt.ylabel('Cliente')  \n",
    "nuevo6['promedio'].plot(kind='bar',legend=True)\n",
    "plt.savefig('cliente_tipo_a_promedio.png')"
   ]
  },
  {
   "cell_type": "code",
   "execution_count": 86,
   "metadata": {
    "scrolled": true
   },
   "outputs": [
    {
     "data": {
      "image/png": "[encoded data removed]",
      "text/plain": [
       "<Figure size 432x288 with 1 Axes>"
      ]
     },
     "metadata": {},
     "output_type": "display_data"
    }
   ],
   "source": [
    "plt.figure()\n",
    "plt.ylabel('Tiendas')  \n",
    "nuevo6['N'].plot(kind='bar',legend=True)\n",
    "plt.savefig('cliente_tipo_a_N.png')"
   ]
  },
  {
   "cell_type": "markdown",
   "metadata": {},
   "source": [
    "<hr>\n",
    "<h1> comparación Clientes vs dia</h1>\n",
    "<hr>"
   ]
  },
  {
   "cell_type": "code",
   "execution_count": 76,
   "metadata": {},
   "outputs": [],
   "source": [
    "d6 = {'Dia': ['Lu', 'Ma','Mi','Ju','Vi','Sa','Do'], \n",
    "     'max': [\n",
    "             final[final.DayOfWeek==1].Customers.max(),\n",
    "             final[final.DayOfWeek==2].Customers.max(),\n",
    "             final[final.DayOfWeek==3].Customers.max(),\n",
    "             final[final.DayOfWeek==4].Customers.max(),\n",
    "             final[final.DayOfWeek==5].Customers.max(),\n",
    "             final[final.DayOfWeek==6].Customers.max(),\n",
    "             final[final.DayOfWeek==7].Customers.max(),\n",
    "     ],\n",
    "     'min': [\n",
    "         final[final.DayOfWeek==1].Customers.min(),\n",
    "         final[final.DayOfWeek==2].Customers.min(),\n",
    "         final[final.DayOfWeek==3].Customers.min(), \n",
    "         final[final.DayOfWeek==4].Customers.min(),\n",
    "         final[final.DayOfWeek==5].Customers.min(),\n",
    "         final[final.DayOfWeek==6].Customers.min(),\n",
    "         final[final.DayOfWeek==7].Customers.min(), \n",
    "     ],\n",
    "     'promedio':[\n",
    "         final[final.DayOfWeek==1].Customers.mean(),\n",
    "         final[final.DayOfWeek==2].Customers.mean(),\n",
    "         final[final.DayOfWeek==3].Customers.mean(),\n",
    "         final[final.DayOfWeek==4].Customers.mean(),\n",
    "         final[final.DayOfWeek==5].Customers.mean(),\n",
    "         final[final.DayOfWeek==6].Customers.mean(),\n",
    "         final[final.DayOfWeek==7].Customers.mean()\n",
    "     ],\n",
    "         'N':[\n",
    "         final[final.DayOfWeek==1].Customers.count(),\n",
    "         final[final.DayOfWeek==2].Customers.count(),\n",
    "         final[final.DayOfWeek==3].Customers.count(),\n",
    "         final[final.DayOfWeek==4].Customers.count(),\n",
    "         final[final.DayOfWeek==5].Customers.count(),\n",
    "         final[final.DayOfWeek==6].Customers.count(),\n",
    "         final[final.DayOfWeek==7].Customers.count()\n",
    "     ]\n",
    "    }\n",
    "nuevo6=pd.DataFrame(d6)\n",
    "nuevo6.set_index('Dia', inplace=True)"
   ]
  },
  {
   "cell_type": "code",
   "execution_count": 77,
   "metadata": {},
   "outputs": [
    {
     "data": {
      "text/html": [
       "<div>\n",
       "<table border=\"1\" class=\"dataframe\">\n",
       "  <thead>\n",
       "    <tr style=\"text-align: right;\">\n",
       "      <th></th>\n",
       "      <th>N</th>\n",
       "      <th>max</th>\n",
       "      <th>min</th>\n",
       "      <th>promedio</th>\n",
       "    </tr>\n",
       "    <tr>\n",
       "      <th>Dia</th>\n",
       "      <th></th>\n",
       "      <th></th>\n",
       "      <th></th>\n",
       "      <th></th>\n",
       "    </tr>\n",
       "  </thead>\n",
       "  <tbody>\n",
       "    <tr>\n",
       "      <th>Lu</th>\n",
       "      <td>144730</td>\n",
       "      <td>5387</td>\n",
       "      <td>0</td>\n",
       "      <td>813.07</td>\n",
       "    </tr>\n",
       "    <tr>\n",
       "      <th>Ma</th>\n",
       "      <td>145664</td>\n",
       "      <td>7388</td>\n",
       "      <td>0</td>\n",
       "      <td>760.98</td>\n",
       "    </tr>\n",
       "    <tr>\n",
       "      <th>Mi</th>\n",
       "      <td>145665</td>\n",
       "      <td>5106</td>\n",
       "      <td>0</td>\n",
       "      <td>721.64</td>\n",
       "    </tr>\n",
       "    <tr>\n",
       "      <th>Ju</th>\n",
       "      <td>145845</td>\n",
       "      <td>5297</td>\n",
       "      <td>0</td>\n",
       "      <td>697.54</td>\n",
       "    </tr>\n",
       "    <tr>\n",
       "      <th>Vi</th>\n",
       "      <td>145845</td>\n",
       "      <td>5494</td>\n",
       "      <td>0</td>\n",
       "      <td>743.15</td>\n",
       "    </tr>\n",
       "    <tr>\n",
       "      <th>Sa</th>\n",
       "      <td>144730</td>\n",
       "      <td>4762</td>\n",
       "      <td>0</td>\n",
       "      <td>657.11</td>\n",
       "    </tr>\n",
       "    <tr>\n",
       "      <th>Do</th>\n",
       "      <td>144730</td>\n",
       "      <td>5145</td>\n",
       "      <td>0</td>\n",
       "      <td>35.79</td>\n",
       "    </tr>\n",
       "  </tbody>\n",
       "</table>\n",
       "</div>"
      ],
      "text/plain": [
       "          N   max  min  promedio\n",
       "Dia                             \n",
       "Lu   144730  5387    0    813.07\n",
       "Ma   145664  7388    0    760.98\n",
       "Mi   145665  5106    0    721.64\n",
       "Ju   145845  5297    0    697.54\n",
       "Vi   145845  5494    0    743.15\n",
       "Sa   144730  4762    0    657.11\n",
       "Do   144730  5145    0     35.79"
      ]
     },
     "execution_count": 77,
     "metadata": {},
     "output_type": "execute_result"
    }
   ],
   "source": [
    "nuevo6"
   ]
  },
  {
   "cell_type": "code",
   "execution_count": 78,
   "metadata": {},
   "outputs": [
    {
     "data": {
      "image/png": "[encoded data removed]",
      "text/plain": [
       "<Figure size 432x288 with 1 Axes>"
      ]
     },
     "metadata": {},
     "output_type": "display_data"
    }
   ],
   "source": [
    "plt.figure()\n",
    "plt.ylabel('Clientes') \n",
    "nuevo6['max'].plot(kind='bar',legend=True)\n",
    "plt.savefig('Clientes_dia_max.png')"
   ]
  },
  {
   "cell_type": "code",
   "execution_count": 79,
   "metadata": {},
   "outputs": [
    {
     "data": {
      "image/png": "[encoded data removed]",
      "text/plain": [
       "<Figure size 432x288 with 1 Axes>"
      ]
     },
     "metadata": {},
     "output_type": "display_data"
    }
   ],
   "source": [
    "plt.figure()\n",
    "plt.ylabel('Clientes')  \n",
    "nuevo6['min'].plot(kind='bar',legend=True)\n",
    "plt.savefig('Clientes_dia_min.png')"
   ]
  },
  {
   "cell_type": "code",
   "execution_count": 80,
   "metadata": {},
   "outputs": [
    {
     "data": {
      "image/png": "[encoded data removed]",
      "text/plain": [
       "<Figure size 432x288 with 1 Axes>"
      ]
     },
     "metadata": {},
     "output_type": "display_data"
    }
   ],
   "source": [
    "plt.figure()\n",
    "plt.ylabel('Clientes')  \n",
    "nuevo6['promedio'].plot(kind='bar',legend=True)\n",
    "plt.savefig('Clientes_dia_promedio.png')"
   ]
  },
  {
   "cell_type": "code",
   "execution_count": 81,
   "metadata": {},
   "outputs": [
    {
     "data": {
      "image/png": "[encoded data removed]",
      "text/plain": [
       "<Figure size 432x288 with 1 Axes>"
      ]
     },
     "metadata": {},
     "output_type": "display_data"
    }
   ],
   "source": [
    "plt.figure()\n",
    "plt.ylabel('Clientes')  \n",
    "nuevo6['N'].plot(kind='bar',legend=True)\n",
    "plt.savefig('Clientes_dia_N.png')"
   ]
  },
  {
   "cell_type": "markdown",
   "metadata": {},
   "source": [
    "<hr>\n",
    "<h1> comparación Dia vs ventas</h1>\n",
    "<hr>"
   ]
  },
  {
   "cell_type": "code",
   "execution_count": 68,
   "metadata": {},
   "outputs": [],
   "source": [
    "d7 = {'Dia': ['Lu', 'Ma','Mi','Ju','Vi','Sa','Do'], \n",
    "     'max': [\n",
    "             final[final.DayOfWeek==1].Sales.max(),\n",
    "             final[final.DayOfWeek==2].Sales.max(),\n",
    "             final[final.DayOfWeek==3].Sales.max(),\n",
    "             final[final.DayOfWeek==4].Sales.max(),\n",
    "             final[final.DayOfWeek==5].Sales.max(),\n",
    "             final[final.DayOfWeek==6].Sales.max(),\n",
    "             final[final.DayOfWeek==7].Sales.max(),\n",
    "     ],\n",
    "     'min': [\n",
    "         final[final.DayOfWeek==1].Sales.min(),\n",
    "         final[final.DayOfWeek==2].Sales.min(),\n",
    "         final[final.DayOfWeek==3].Sales.min(), \n",
    "         final[final.DayOfWeek==4].Sales.min(),\n",
    "         final[final.DayOfWeek==5].Sales.min(),\n",
    "         final[final.DayOfWeek==6].Sales.min(),\n",
    "         final[final.DayOfWeek==7].Sales.min(), \n",
    "     ],\n",
    "     'promedio':[\n",
    "         final[final.DayOfWeek==1].Sales.mean(),\n",
    "         final[final.DayOfWeek==2].Sales.mean(),\n",
    "         final[final.DayOfWeek==3].Sales.mean(),\n",
    "         final[final.DayOfWeek==4].Sales.mean(),\n",
    "         final[final.DayOfWeek==5].Sales.mean(),\n",
    "         final[final.DayOfWeek==6].Sales.mean(),\n",
    "         final[final.DayOfWeek==7].Sales.mean()\n",
    "     ],\n",
    "      'N':[\n",
    "         final[final.DayOfWeek==1].Sales.count(),\n",
    "         final[final.DayOfWeek==2].Sales.count(),\n",
    "         final[final.DayOfWeek==3].Sales.count(),\n",
    "         final[final.DayOfWeek==4].Sales.count(),\n",
    "         final[final.DayOfWeek==5].Sales.count(),\n",
    "         final[final.DayOfWeek==6].Sales.count(),\n",
    "         final[final.DayOfWeek==7].Sales.count()\n",
    "      ]\n",
    "    }\n",
    "nuevo7=pd.DataFrame(d7)\n",
    "nuevo7.set_index('Dia', inplace=True)"
   ]
  },
  {
   "cell_type": "code",
   "execution_count": 69,
   "metadata": {},
   "outputs": [
    {
     "data": {
      "text/html": [
       "<div>\n",
       "<table border=\"1\" class=\"dataframe\">\n",
       "  <thead>\n",
       "    <tr style=\"text-align: right;\">\n",
       "      <th></th>\n",
       "      <th>N</th>\n",
       "      <th>max</th>\n",
       "      <th>min</th>\n",
       "      <th>promedio</th>\n",
       "    </tr>\n",
       "    <tr>\n",
       "      <th>Dia</th>\n",
       "      <th></th>\n",
       "      <th></th>\n",
       "      <th></th>\n",
       "      <th></th>\n",
       "    </tr>\n",
       "  </thead>\n",
       "  <tbody>\n",
       "    <tr>\n",
       "      <th>Lu</th>\n",
       "      <td>144730</td>\n",
       "      <td>41551</td>\n",
       "      <td>0</td>\n",
       "      <td>7809.04</td>\n",
       "    </tr>\n",
       "    <tr>\n",
       "      <th>Ma</th>\n",
       "      <td>145664</td>\n",
       "      <td>34692</td>\n",
       "      <td>0</td>\n",
       "      <td>7005.24</td>\n",
       "    </tr>\n",
       "    <tr>\n",
       "      <th>Mi</th>\n",
       "      <td>145665</td>\n",
       "      <td>33151</td>\n",
       "      <td>0</td>\n",
       "      <td>6555.88</td>\n",
       "    </tr>\n",
       "    <tr>\n",
       "      <th>Ju</th>\n",
       "      <td>145845</td>\n",
       "      <td>38367</td>\n",
       "      <td>0</td>\n",
       "      <td>6247.58</td>\n",
       "    </tr>\n",
       "    <tr>\n",
       "      <th>Vi</th>\n",
       "      <td>145845</td>\n",
       "      <td>38722</td>\n",
       "      <td>0</td>\n",
       "      <td>6723.27</td>\n",
       "    </tr>\n",
       "    <tr>\n",
       "      <th>Sa</th>\n",
       "      <td>144730</td>\n",
       "      <td>31683</td>\n",
       "      <td>0</td>\n",
       "      <td>5847.56</td>\n",
       "    </tr>\n",
       "    <tr>\n",
       "      <th>Do</th>\n",
       "      <td>144730</td>\n",
       "      <td>37376</td>\n",
       "      <td>0</td>\n",
       "      <td>204.18</td>\n",
       "    </tr>\n",
       "  </tbody>\n",
       "</table>\n",
       "</div>"
      ],
      "text/plain": [
       "          N    max  min  promedio\n",
       "Dia                              \n",
       "Lu   144730  41551    0   7809.04\n",
       "Ma   145664  34692    0   7005.24\n",
       "Mi   145665  33151    0   6555.88\n",
       "Ju   145845  38367    0   6247.58\n",
       "Vi   145845  38722    0   6723.27\n",
       "Sa   144730  31683    0   5847.56\n",
       "Do   144730  37376    0    204.18"
      ]
     },
     "execution_count": 69,
     "metadata": {},
     "output_type": "execute_result"
    }
   ],
   "source": [
    "nuevo7"
   ]
  },
  {
   "cell_type": "code",
   "execution_count": 71,
   "metadata": {},
   "outputs": [
    {
     "data": {
      "image/png": "[encoded data removed]",
      "text/plain": [
       "<Figure size 432x288 with 1 Axes>"
      ]
     },
     "metadata": {},
     "output_type": "display_data"
    }
   ],
   "source": [
    "plt.figure()\n",
    "plt.ylabel('Ventas') \n",
    "nuevo7['max'].plot(kind='bar',legend=True)\n",
    "plt.savefig('Ventas_dia_max.png')"
   ]
  },
  {
   "cell_type": "code",
   "execution_count": 72,
   "metadata": {},
   "outputs": [
    {
     "data": {
      "image/png": "[encoded data removed]",
      "text/plain": [
       "<Figure size 432x288 with 1 Axes>"
      ]
     },
     "metadata": {},
     "output_type": "display_data"
    }
   ],
   "source": [
    "plt.figure()\n",
    "plt.ylabel('Ventas')  \n",
    "nuevo7['min'].plot(kind='bar',legend=True)\n",
    "plt.savefig('Ventas_dia_min.png')"
   ]
  },
  {
   "cell_type": "code",
   "execution_count": 73,
   "metadata": {},
   "outputs": [
    {
     "data": {
      "image/png": "[encoded data removed]",
      "text/plain": [
       "<Figure size 432x288 with 1 Axes>"
      ]
     },
     "metadata": {},
     "output_type": "display_data"
    }
   ],
   "source": [
    "plt.figure()\n",
    "plt.ylabel('Ventas')  \n",
    "nuevo7['promedio'].plot(kind='bar',legend=True)\n",
    "plt.savefig('Ventas_dia_promedio.png')"
   ]
  },
  {
   "cell_type": "code",
   "execution_count": 87,
   "metadata": {},
   "outputs": [
    {
     "data": {
      "image/png": "[encoded data removed]",
      "text/plain": [
       "<Figure size 432x288 with 1 Axes>"
      ]
     },
     "metadata": {},
     "output_type": "display_data"
    }
   ],
   "source": [
    "plt.figure()\n",
    "plt.ylabel('Cliente')  \n",
    "nuevo7['N'].plot(kind='bar',legend=True)\n",
    "plt.savefig('Ventas_dia_N.png')"
   ]
  },
  {
   "cell_type": "code",
   "execution_count": null,
   "metadata": {},
   "outputs": [],
   "source": []
  }
 ],
 "metadata": {
  "kernelspec": {
   "display_name": "Python 3",
   "language": "python",
   "name": "python3"
  },
  "language_info": {
   "codemirror_mode": {
    "name": "ipython",
    "version": 3
   },
   "file_extension": ".py",
   "mimetype": "text/x-python",
   "name": "python",
   "nbconvert_exporter": "python",
   "pygments_lexer": "ipython3",
   "version": "3.6.5"
  }
 },
 "nbformat": 4,
 "nbformat_minor": 2
}
