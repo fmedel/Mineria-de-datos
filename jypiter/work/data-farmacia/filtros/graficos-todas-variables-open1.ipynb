{
 "cells": [
  {
   "cell_type": "code",
   "execution_count": 1,
   "metadata": {},
   "outputs": [],
   "source": [
    "import pandas as pd"
   ]
  },
  {
   "cell_type": "code",
   "execution_count": 2,
   "metadata": {},
   "outputs": [],
   "source": [
    "import matplotlib.pyplot as plt"
   ]
  },
  {
   "cell_type": "code",
   "execution_count": 3,
   "metadata": {},
   "outputs": [],
   "source": [
    "f = open('../final.csv','r')\n",
    "final = pd.read_csv(f)"
   ]
  },
  {
   "cell_type": "code",
   "execution_count": 4,
   "metadata": {},
   "outputs": [],
   "source": [
    "final.drop('Unnamed: 0', axis=1, inplace=True)"
   ]
  },
  {
   "cell_type": "code",
   "execution_count": 5,
   "metadata": {},
   "outputs": [],
   "source": [
    "final=final[(final.Open_int==1)&(final.Sales>0)]"
   ]
  },
  {
   "cell_type": "code",
   "execution_count": 6,
   "metadata": {},
   "outputs": [],
   "source": [
    "final.drop('Open_int', axis=1, inplace=True)"
   ]
  },
  {
   "cell_type": "code",
   "execution_count": 7,
   "metadata": {},
   "outputs": [],
   "source": [
    "def stadistica(df):\n",
    "    stack=[]\n",
    "    N=df.count()\n",
    "    stack.append(int(N))\n",
    "    minimo=df.min()\n",
    "    stack.append(int(minimo))\n",
    "    maximo=df.max()\n",
    "    stack.append(int(maximo))\n",
    "    media = df.mean()\n",
    "    stack.append(float(media))\n",
    "    mediana = df.median()\n",
    "    stack.append(float(mediana))\n",
    "    moda = df.mode()\n",
    "    stack.append(float(moda))\n",
    "    #Usamos quantile y el porcentaje.\n",
    "    p90 = df.quantile(0.9)\n",
    "    stack.append(int(p90))\n",
    "    p80 = df.quantile(0.8)\n",
    "    stack.append(int(p80))\n",
    "    p75 = df.quantile(0.75)\n",
    "    stack.append(int(p75))\n",
    "    p70 = df.quantile(0.7)\n",
    "    stack.append(int(p70))\n",
    "    p60 = df.quantile(0.6)\n",
    "    stack.append(int(p60))\n",
    "    p50 = df.quantile(0.5)\n",
    "    stack.append(int(p50))\n",
    "    p40 = df.quantile(0.4)\n",
    "    stack.append(int(p40))\n",
    "    p30 = df.quantile(0.3)\n",
    "    stack.append(int(p30))\n",
    "    p25 = df.quantile(0.25)\n",
    "    stack.append(int(p25))\n",
    "    p20 = df.quantile(0.2)\n",
    "    stack.append(int(p20))\n",
    "    p10 = df.quantile(0.1)\n",
    "    stack.append(int(p10))\n",
    "    std = df.std(ddof=0)#desviación típica\n",
    "    stack.append(float(std))\n",
    "    var = df.var(ddof=0)#varianza\n",
    "    stack.append(int(var))\n",
    "    rango = maximo-minimo #rango es la diferencia entre el máximo y el mínimo \n",
    "    stack.append(int(rango))\n",
    "    iqr = p75-p25 #rango intercuartílico o IQR , diferencia entre el tercer y el primer cuartil\n",
    "    stack.append(int(iqr))\n",
    "    cv = std/media #coeficiente de variación\n",
    "    stack.append(float(cv))\n",
    "    stack.append(int(df.sum()))\n",
    "    return stack\n",
    "def stadistica_str():\n",
    "    stack=[]\n",
    "    stack.append('N')\n",
    "    stack.append('minimo')\n",
    "    stack.append('maximo')\n",
    "    stack.append('media')\n",
    "    stack.append('mediana')\n",
    "    stack.append('moda')\n",
    "    stack.append('p90')\n",
    "    stack.append('p80')\n",
    "    stack.append('p75')\n",
    "    stack.append('p70')\n",
    "    stack.append('p60')\n",
    "    stack.append('p50')\n",
    "    stack.append('p40')\n",
    "    stack.append('p30')\n",
    "    stack.append('p25')\n",
    "    stack.append('p20')\n",
    "    stack.append('p10')\n",
    "    stack.append('std')\n",
    "    stack.append('var')\n",
    "    stack.append('rango')\n",
    "    stack.append('iqr')\n",
    "    stack.append('cv')\n",
    "    stack.append('suma')\n",
    "    return stack"
   ]
  },
  {
   "cell_type": "code",
   "execution_count": 8,
   "metadata": {},
   "outputs": [],
   "source": [
    "resultado=pd.DataFrame()\n",
    "resultado['nombre'] = stadistica_str()"
   ]
  },
  {
   "cell_type": "code",
   "execution_count": 9,
   "metadata": {},
   "outputs": [],
   "source": [
    "key=['Promo2', 'tipo_store_a', 'tipo_store_b', 'tipo_store_c','tipo_store_d','tipo_assortment_a', 'tipo_assortment_b', 'tipo_assortment_c','CompetitionDistance_int','Sales', 'Customers','SchoolHoliday','StateHoliday_cerrado_int','StateHoliday_public_int','StateHoliday_Easter_int','StateHoliday_Christmas_int']\n",
    "for keys in key:\n",
    "    temporal= final[keys]\n",
    "    resultado[keys]=stadistica(temporal)"
   ]
  },
  {
   "cell_type": "code",
   "execution_count": 10,
   "metadata": {},
   "outputs": [],
   "source": [
    "pd.options.display.float_format = '{:.2f}'.format\n",
    "resultado.to_csv(\"resultados_estadisticos.csv\")"
   ]
  },
  {
   "cell_type": "code",
   "execution_count": 11,
   "metadata": {
    "scrolled": false
   },
   "outputs": [
    {
     "data": {
      "text/html": [
       "<div>\n",
       "<table border=\"1\" class=\"dataframe\">\n",
       "  <thead>\n",
       "    <tr style=\"text-align: right;\">\n",
       "      <th></th>\n",
       "      <th>nombre</th>\n",
       "      <th>Promo2</th>\n",
       "      <th>tipo_store_a</th>\n",
       "      <th>tipo_store_b</th>\n",
       "      <th>tipo_store_c</th>\n",
       "      <th>tipo_store_d</th>\n",
       "      <th>tipo_assortment_a</th>\n",
       "      <th>tipo_assortment_b</th>\n",
       "      <th>tipo_assortment_c</th>\n",
       "      <th>CompetitionDistance_int</th>\n",
       "      <th>Sales</th>\n",
       "      <th>Customers</th>\n",
       "      <th>SchoolHoliday</th>\n",
       "      <th>StateHoliday_cerrado_int</th>\n",
       "      <th>StateHoliday_public_int</th>\n",
       "      <th>StateHoliday_Easter_int</th>\n",
       "      <th>StateHoliday_Christmas_int</th>\n",
       "    </tr>\n",
       "  </thead>\n",
       "  <tbody>\n",
       "    <tr>\n",
       "      <th>0</th>\n",
       "      <td>N</td>\n",
       "      <td>648309.00</td>\n",
       "      <td>648309.00</td>\n",
       "      <td>648309.00</td>\n",
       "      <td>648309.00</td>\n",
       "      <td>648309.00</td>\n",
       "      <td>648309.00</td>\n",
       "      <td>648309.00</td>\n",
       "      <td>648309.00</td>\n",
       "      <td>648309.00</td>\n",
       "      <td>648309.00</td>\n",
       "      <td>648309.00</td>\n",
       "      <td>648309.00</td>\n",
       "      <td>648309.00</td>\n",
       "      <td>648309.00</td>\n",
       "      <td>648309.00</td>\n",
       "      <td>648309.00</td>\n",
       "    </tr>\n",
       "    <tr>\n",
       "      <th>1</th>\n",
       "      <td>minimo</td>\n",
       "      <td>0.00</td>\n",
       "      <td>0.00</td>\n",
       "      <td>0.00</td>\n",
       "      <td>0.00</td>\n",
       "      <td>0.00</td>\n",
       "      <td>0.00</td>\n",
       "      <td>0.00</td>\n",
       "      <td>0.00</td>\n",
       "      <td>0.00</td>\n",
       "      <td>46.00</td>\n",
       "      <td>8.00</td>\n",
       "      <td>0.00</td>\n",
       "      <td>0.00</td>\n",
       "      <td>0.00</td>\n",
       "      <td>0.00</td>\n",
       "      <td>0.00</td>\n",
       "    </tr>\n",
       "    <tr>\n",
       "      <th>2</th>\n",
       "      <td>maximo</td>\n",
       "      <td>1.00</td>\n",
       "      <td>1.00</td>\n",
       "      <td>1.00</td>\n",
       "      <td>1.00</td>\n",
       "      <td>1.00</td>\n",
       "      <td>1.00</td>\n",
       "      <td>1.00</td>\n",
       "      <td>1.00</td>\n",
       "      <td>75860.00</td>\n",
       "      <td>38037.00</td>\n",
       "      <td>7388.00</td>\n",
       "      <td>1.00</td>\n",
       "      <td>1.00</td>\n",
       "      <td>1.00</td>\n",
       "      <td>1.00</td>\n",
       "      <td>1.00</td>\n",
       "    </tr>\n",
       "    <tr>\n",
       "      <th>3</th>\n",
       "      <td>media</td>\n",
       "      <td>0.50</td>\n",
       "      <td>0.54</td>\n",
       "      <td>0.02</td>\n",
       "      <td>0.13</td>\n",
       "      <td>0.31</td>\n",
       "      <td>0.53</td>\n",
       "      <td>0.01</td>\n",
       "      <td>0.46</td>\n",
       "      <td>5451.68</td>\n",
       "      <td>6915.96</td>\n",
       "      <td>765.83</td>\n",
       "      <td>0.20</td>\n",
       "      <td>1.00</td>\n",
       "      <td>0.00</td>\n",
       "      <td>0.00</td>\n",
       "      <td>0.00</td>\n",
       "    </tr>\n",
       "    <tr>\n",
       "      <th>4</th>\n",
       "      <td>mediana</td>\n",
       "      <td>0.00</td>\n",
       "      <td>1.00</td>\n",
       "      <td>0.00</td>\n",
       "      <td>0.00</td>\n",
       "      <td>0.00</td>\n",
       "      <td>1.00</td>\n",
       "      <td>0.00</td>\n",
       "      <td>0.00</td>\n",
       "      <td>2320.00</td>\n",
       "      <td>6318.00</td>\n",
       "      <td>678.00</td>\n",
       "      <td>0.00</td>\n",
       "      <td>1.00</td>\n",
       "      <td>0.00</td>\n",
       "      <td>0.00</td>\n",
       "      <td>0.00</td>\n",
       "    </tr>\n",
       "    <tr>\n",
       "      <th>5</th>\n",
       "      <td>moda</td>\n",
       "      <td>0.00</td>\n",
       "      <td>1.00</td>\n",
       "      <td>0.00</td>\n",
       "      <td>0.00</td>\n",
       "      <td>0.00</td>\n",
       "      <td>1.00</td>\n",
       "      <td>0.00</td>\n",
       "      <td>0.00</td>\n",
       "      <td>250.00</td>\n",
       "      <td>5483.00</td>\n",
       "      <td>560.00</td>\n",
       "      <td>0.00</td>\n",
       "      <td>1.00</td>\n",
       "      <td>0.00</td>\n",
       "      <td>0.00</td>\n",
       "      <td>0.00</td>\n",
       "    </tr>\n",
       "    <tr>\n",
       "      <th>6</th>\n",
       "      <td>p90</td>\n",
       "      <td>1.00</td>\n",
       "      <td>1.00</td>\n",
       "      <td>0.00</td>\n",
       "      <td>1.00</td>\n",
       "      <td>1.00</td>\n",
       "      <td>1.00</td>\n",
       "      <td>0.00</td>\n",
       "      <td>1.00</td>\n",
       "      <td>15720.00</td>\n",
       "      <td>10752.00</td>\n",
       "      <td>1188.00</td>\n",
       "      <td>1.00</td>\n",
       "      <td>1.00</td>\n",
       "      <td>0.00</td>\n",
       "      <td>0.00</td>\n",
       "      <td>0.00</td>\n",
       "    </tr>\n",
       "    <tr>\n",
       "      <th>7</th>\n",
       "      <td>p80</td>\n",
       "      <td>1.00</td>\n",
       "      <td>1.00</td>\n",
       "      <td>0.00</td>\n",
       "      <td>0.00</td>\n",
       "      <td>1.00</td>\n",
       "      <td>1.00</td>\n",
       "      <td>0.00</td>\n",
       "      <td>1.00</td>\n",
       "      <td>8740.00</td>\n",
       "      <td>8922.00</td>\n",
       "      <td>966.00</td>\n",
       "      <td>1.00</td>\n",
       "      <td>1.00</td>\n",
       "      <td>0.00</td>\n",
       "      <td>0.00</td>\n",
       "      <td>0.00</td>\n",
       "    </tr>\n",
       "    <tr>\n",
       "      <th>8</th>\n",
       "      <td>p75</td>\n",
       "      <td>1.00</td>\n",
       "      <td>1.00</td>\n",
       "      <td>0.00</td>\n",
       "      <td>0.00</td>\n",
       "      <td>1.00</td>\n",
       "      <td>1.00</td>\n",
       "      <td>0.00</td>\n",
       "      <td>1.00</td>\n",
       "      <td>6880.00</td>\n",
       "      <td>8320.00</td>\n",
       "      <td>898.00</td>\n",
       "      <td>0.00</td>\n",
       "      <td>1.00</td>\n",
       "      <td>0.00</td>\n",
       "      <td>0.00</td>\n",
       "      <td>0.00</td>\n",
       "    </tr>\n",
       "    <tr>\n",
       "      <th>9</th>\n",
       "      <td>p70</td>\n",
       "      <td>1.00</td>\n",
       "      <td>1.00</td>\n",
       "      <td>0.00</td>\n",
       "      <td>0.00</td>\n",
       "      <td>1.00</td>\n",
       "      <td>1.00</td>\n",
       "      <td>0.00</td>\n",
       "      <td>1.00</td>\n",
       "      <td>5290.00</td>\n",
       "      <td>7820.00</td>\n",
       "      <td>842.00</td>\n",
       "      <td>0.00</td>\n",
       "      <td>1.00</td>\n",
       "      <td>0.00</td>\n",
       "      <td>0.00</td>\n",
       "      <td>0.00</td>\n",
       "    </tr>\n",
       "    <tr>\n",
       "      <th>10</th>\n",
       "      <td>p60</td>\n",
       "      <td>1.00</td>\n",
       "      <td>1.00</td>\n",
       "      <td>0.00</td>\n",
       "      <td>0.00</td>\n",
       "      <td>0.00</td>\n",
       "      <td>1.00</td>\n",
       "      <td>0.00</td>\n",
       "      <td>1.00</td>\n",
       "      <td>3450.00</td>\n",
       "      <td>7007.00</td>\n",
       "      <td>752.00</td>\n",
       "      <td>0.00</td>\n",
       "      <td>1.00</td>\n",
       "      <td>0.00</td>\n",
       "      <td>0.00</td>\n",
       "      <td>0.00</td>\n",
       "    </tr>\n",
       "    <tr>\n",
       "      <th>11</th>\n",
       "      <td>p50</td>\n",
       "      <td>0.00</td>\n",
       "      <td>1.00</td>\n",
       "      <td>0.00</td>\n",
       "      <td>0.00</td>\n",
       "      <td>0.00</td>\n",
       "      <td>1.00</td>\n",
       "      <td>0.00</td>\n",
       "      <td>0.00</td>\n",
       "      <td>2320.00</td>\n",
       "      <td>6318.00</td>\n",
       "      <td>678.00</td>\n",
       "      <td>0.00</td>\n",
       "      <td>1.00</td>\n",
       "      <td>0.00</td>\n",
       "      <td>0.00</td>\n",
       "      <td>0.00</td>\n",
       "    </tr>\n",
       "    <tr>\n",
       "      <th>12</th>\n",
       "      <td>p40</td>\n",
       "      <td>0.00</td>\n",
       "      <td>0.00</td>\n",
       "      <td>0.00</td>\n",
       "      <td>0.00</td>\n",
       "      <td>0.00</td>\n",
       "      <td>0.00</td>\n",
       "      <td>0.00</td>\n",
       "      <td>0.00</td>\n",
       "      <td>1590.00</td>\n",
       "      <td>5704.00</td>\n",
       "      <td>612.00</td>\n",
       "      <td>0.00</td>\n",
       "      <td>1.00</td>\n",
       "      <td>0.00</td>\n",
       "      <td>0.00</td>\n",
       "      <td>0.00</td>\n",
       "    </tr>\n",
       "    <tr>\n",
       "      <th>13</th>\n",
       "      <td>p30</td>\n",
       "      <td>0.00</td>\n",
       "      <td>0.00</td>\n",
       "      <td>0.00</td>\n",
       "      <td>0.00</td>\n",
       "      <td>0.00</td>\n",
       "      <td>0.00</td>\n",
       "      <td>0.00</td>\n",
       "      <td>0.00</td>\n",
       "      <td>1000.00</td>\n",
       "      <td>5110.00</td>\n",
       "      <td>550.00</td>\n",
       "      <td>0.00</td>\n",
       "      <td>1.00</td>\n",
       "      <td>0.00</td>\n",
       "      <td>0.00</td>\n",
       "      <td>0.00</td>\n",
       "    </tr>\n",
       "    <tr>\n",
       "      <th>14</th>\n",
       "      <td>p25</td>\n",
       "      <td>0.00</td>\n",
       "      <td>0.00</td>\n",
       "      <td>0.00</td>\n",
       "      <td>0.00</td>\n",
       "      <td>0.00</td>\n",
       "      <td>0.00</td>\n",
       "      <td>0.00</td>\n",
       "      <td>0.00</td>\n",
       "      <td>700.00</td>\n",
       "      <td>4807.00</td>\n",
       "      <td>518.00</td>\n",
       "      <td>0.00</td>\n",
       "      <td>1.00</td>\n",
       "      <td>0.00</td>\n",
       "      <td>0.00</td>\n",
       "      <td>0.00</td>\n",
       "    </tr>\n",
       "    <tr>\n",
       "      <th>15</th>\n",
       "      <td>p20</td>\n",
       "      <td>0.00</td>\n",
       "      <td>0.00</td>\n",
       "      <td>0.00</td>\n",
       "      <td>0.00</td>\n",
       "      <td>0.00</td>\n",
       "      <td>0.00</td>\n",
       "      <td>0.00</td>\n",
       "      <td>0.00</td>\n",
       "      <td>490.00</td>\n",
       "      <td>4484.00</td>\n",
       "      <td>485.00</td>\n",
       "      <td>0.00</td>\n",
       "      <td>1.00</td>\n",
       "      <td>0.00</td>\n",
       "      <td>0.00</td>\n",
       "      <td>0.00</td>\n",
       "    </tr>\n",
       "    <tr>\n",
       "      <th>16</th>\n",
       "      <td>p10</td>\n",
       "      <td>0.00</td>\n",
       "      <td>0.00</td>\n",
       "      <td>0.00</td>\n",
       "      <td>0.00</td>\n",
       "      <td>0.00</td>\n",
       "      <td>0.00</td>\n",
       "      <td>0.00</td>\n",
       "      <td>0.00</td>\n",
       "      <td>240.00</td>\n",
       "      <td>3714.00</td>\n",
       "      <td>405.00</td>\n",
       "      <td>0.00</td>\n",
       "      <td>1.00</td>\n",
       "      <td>0.00</td>\n",
       "      <td>0.00</td>\n",
       "      <td>0.00</td>\n",
       "    </tr>\n",
       "    <tr>\n",
       "      <th>17</th>\n",
       "      <td>std</td>\n",
       "      <td>0.50</td>\n",
       "      <td>0.50</td>\n",
       "      <td>0.13</td>\n",
       "      <td>0.34</td>\n",
       "      <td>0.46</td>\n",
       "      <td>0.50</td>\n",
       "      <td>0.10</td>\n",
       "      <td>0.50</td>\n",
       "      <td>7821.47</td>\n",
       "      <td>3123.48</td>\n",
       "      <td>405.03</td>\n",
       "      <td>0.40</td>\n",
       "      <td>0.03</td>\n",
       "      <td>0.03</td>\n",
       "      <td>0.01</td>\n",
       "      <td>0.01</td>\n",
       "    </tr>\n",
       "    <tr>\n",
       "      <th>18</th>\n",
       "      <td>var</td>\n",
       "      <td>0.00</td>\n",
       "      <td>0.00</td>\n",
       "      <td>0.00</td>\n",
       "      <td>0.00</td>\n",
       "      <td>0.00</td>\n",
       "      <td>0.00</td>\n",
       "      <td>0.00</td>\n",
       "      <td>0.00</td>\n",
       "      <td>61175461.00</td>\n",
       "      <td>9756104.00</td>\n",
       "      <td>164048.00</td>\n",
       "      <td>0.00</td>\n",
       "      <td>0.00</td>\n",
       "      <td>0.00</td>\n",
       "      <td>0.00</td>\n",
       "      <td>0.00</td>\n",
       "    </tr>\n",
       "    <tr>\n",
       "      <th>19</th>\n",
       "      <td>rango</td>\n",
       "      <td>1.00</td>\n",
       "      <td>1.00</td>\n",
       "      <td>1.00</td>\n",
       "      <td>1.00</td>\n",
       "      <td>1.00</td>\n",
       "      <td>1.00</td>\n",
       "      <td>1.00</td>\n",
       "      <td>1.00</td>\n",
       "      <td>75860.00</td>\n",
       "      <td>37991.00</td>\n",
       "      <td>7380.00</td>\n",
       "      <td>1.00</td>\n",
       "      <td>1.00</td>\n",
       "      <td>1.00</td>\n",
       "      <td>1.00</td>\n",
       "      <td>1.00</td>\n",
       "    </tr>\n",
       "    <tr>\n",
       "      <th>20</th>\n",
       "      <td>iqr</td>\n",
       "      <td>1.00</td>\n",
       "      <td>1.00</td>\n",
       "      <td>0.00</td>\n",
       "      <td>0.00</td>\n",
       "      <td>1.00</td>\n",
       "      <td>1.00</td>\n",
       "      <td>0.00</td>\n",
       "      <td>1.00</td>\n",
       "      <td>6180.00</td>\n",
       "      <td>3513.00</td>\n",
       "      <td>380.00</td>\n",
       "      <td>0.00</td>\n",
       "      <td>0.00</td>\n",
       "      <td>0.00</td>\n",
       "      <td>0.00</td>\n",
       "      <td>0.00</td>\n",
       "    </tr>\n",
       "    <tr>\n",
       "      <th>21</th>\n",
       "      <td>cv</td>\n",
       "      <td>1.01</td>\n",
       "      <td>0.92</td>\n",
       "      <td>7.30</td>\n",
       "      <td>2.54</td>\n",
       "      <td>1.51</td>\n",
       "      <td>0.95</td>\n",
       "      <td>10.09</td>\n",
       "      <td>1.07</td>\n",
       "      <td>1.43</td>\n",
       "      <td>0.45</td>\n",
       "      <td>0.53</td>\n",
       "      <td>1.98</td>\n",
       "      <td>0.03</td>\n",
       "      <td>35.96</td>\n",
       "      <td>82.17</td>\n",
       "      <td>95.55</td>\n",
       "    </tr>\n",
       "    <tr>\n",
       "      <th>22</th>\n",
       "      <td>suma</td>\n",
       "      <td>321093.00</td>\n",
       "      <td>351443.00</td>\n",
       "      <td>11956.00</td>\n",
       "      <td>87070.00</td>\n",
       "      <td>197840.00</td>\n",
       "      <td>340937.00</td>\n",
       "      <td>6301.00</td>\n",
       "      <td>301071.00</td>\n",
       "      <td>3534372830.00</td>\n",
       "      <td>4483680980.00</td>\n",
       "      <td>496493388.00</td>\n",
       "      <td>131863.00</td>\n",
       "      <td>647641.00</td>\n",
       "      <td>501.00</td>\n",
       "      <td>96.00</td>\n",
       "      <td>71.00</td>\n",
       "    </tr>\n",
       "  </tbody>\n",
       "</table>\n",
       "</div>"
      ],
      "text/plain": [
       "     nombre    Promo2  tipo_store_a  tipo_store_b  tipo_store_c  tipo_store_d  \\\n",
       "0         N 648309.00     648309.00     648309.00     648309.00     648309.00   \n",
       "1    minimo      0.00          0.00          0.00          0.00          0.00   \n",
       "2    maximo      1.00          1.00          1.00          1.00          1.00   \n",
       "3     media      0.50          0.54          0.02          0.13          0.31   \n",
       "4   mediana      0.00          1.00          0.00          0.00          0.00   \n",
       "5      moda      0.00          1.00          0.00          0.00          0.00   \n",
       "6       p90      1.00          1.00          0.00          1.00          1.00   \n",
       "7       p80      1.00          1.00          0.00          0.00          1.00   \n",
       "8       p75      1.00          1.00          0.00          0.00          1.00   \n",
       "9       p70      1.00          1.00          0.00          0.00          1.00   \n",
       "10      p60      1.00          1.00          0.00          0.00          0.00   \n",
       "11      p50      0.00          1.00          0.00          0.00          0.00   \n",
       "12      p40      0.00          0.00          0.00          0.00          0.00   \n",
       "13      p30      0.00          0.00          0.00          0.00          0.00   \n",
       "14      p25      0.00          0.00          0.00          0.00          0.00   \n",
       "15      p20      0.00          0.00          0.00          0.00          0.00   \n",
       "16      p10      0.00          0.00          0.00          0.00          0.00   \n",
       "17      std      0.50          0.50          0.13          0.34          0.46   \n",
       "18      var      0.00          0.00          0.00          0.00          0.00   \n",
       "19    rango      1.00          1.00          1.00          1.00          1.00   \n",
       "20      iqr      1.00          1.00          0.00          0.00          1.00   \n",
       "21       cv      1.01          0.92          7.30          2.54          1.51   \n",
       "22     suma 321093.00     351443.00      11956.00      87070.00     197840.00   \n",
       "\n",
       "    tipo_assortment_a  tipo_assortment_b  tipo_assortment_c  \\\n",
       "0           648309.00          648309.00          648309.00   \n",
       "1                0.00               0.00               0.00   \n",
       "2                1.00               1.00               1.00   \n",
       "3                0.53               0.01               0.46   \n",
       "4                1.00               0.00               0.00   \n",
       "5                1.00               0.00               0.00   \n",
       "6                1.00               0.00               1.00   \n",
       "7                1.00               0.00               1.00   \n",
       "8                1.00               0.00               1.00   \n",
       "9                1.00               0.00               1.00   \n",
       "10               1.00               0.00               1.00   \n",
       "11               1.00               0.00               0.00   \n",
       "12               0.00               0.00               0.00   \n",
       "13               0.00               0.00               0.00   \n",
       "14               0.00               0.00               0.00   \n",
       "15               0.00               0.00               0.00   \n",
       "16               0.00               0.00               0.00   \n",
       "17               0.50               0.10               0.50   \n",
       "18               0.00               0.00               0.00   \n",
       "19               1.00               1.00               1.00   \n",
       "20               1.00               0.00               1.00   \n",
       "21               0.95              10.09               1.07   \n",
       "22          340937.00            6301.00          301071.00   \n",
       "\n",
       "    CompetitionDistance_int         Sales    Customers  SchoolHoliday  \\\n",
       "0                 648309.00     648309.00    648309.00      648309.00   \n",
       "1                      0.00         46.00         8.00           0.00   \n",
       "2                  75860.00      38037.00      7388.00           1.00   \n",
       "3                   5451.68       6915.96       765.83           0.20   \n",
       "4                   2320.00       6318.00       678.00           0.00   \n",
       "5                    250.00       5483.00       560.00           0.00   \n",
       "6                  15720.00      10752.00      1188.00           1.00   \n",
       "7                   8740.00       8922.00       966.00           1.00   \n",
       "8                   6880.00       8320.00       898.00           0.00   \n",
       "9                   5290.00       7820.00       842.00           0.00   \n",
       "10                  3450.00       7007.00       752.00           0.00   \n",
       "11                  2320.00       6318.00       678.00           0.00   \n",
       "12                  1590.00       5704.00       612.00           0.00   \n",
       "13                  1000.00       5110.00       550.00           0.00   \n",
       "14                   700.00       4807.00       518.00           0.00   \n",
       "15                   490.00       4484.00       485.00           0.00   \n",
       "16                   240.00       3714.00       405.00           0.00   \n",
       "17                  7821.47       3123.48       405.03           0.40   \n",
       "18              61175461.00    9756104.00    164048.00           0.00   \n",
       "19                 75860.00      37991.00      7380.00           1.00   \n",
       "20                  6180.00       3513.00       380.00           0.00   \n",
       "21                     1.43          0.45         0.53           1.98   \n",
       "22            3534372830.00 4483680980.00 496493388.00      131863.00   \n",
       "\n",
       "    StateHoliday_cerrado_int  StateHoliday_public_int  \\\n",
       "0                  648309.00                648309.00   \n",
       "1                       0.00                     0.00   \n",
       "2                       1.00                     1.00   \n",
       "3                       1.00                     0.00   \n",
       "4                       1.00                     0.00   \n",
       "5                       1.00                     0.00   \n",
       "6                       1.00                     0.00   \n",
       "7                       1.00                     0.00   \n",
       "8                       1.00                     0.00   \n",
       "9                       1.00                     0.00   \n",
       "10                      1.00                     0.00   \n",
       "11                      1.00                     0.00   \n",
       "12                      1.00                     0.00   \n",
       "13                      1.00                     0.00   \n",
       "14                      1.00                     0.00   \n",
       "15                      1.00                     0.00   \n",
       "16                      1.00                     0.00   \n",
       "17                      0.03                     0.03   \n",
       "18                      0.00                     0.00   \n",
       "19                      1.00                     1.00   \n",
       "20                      0.00                     0.00   \n",
       "21                      0.03                    35.96   \n",
       "22                 647641.00                   501.00   \n",
       "\n",
       "    StateHoliday_Easter_int  StateHoliday_Christmas_int  \n",
       "0                 648309.00                   648309.00  \n",
       "1                      0.00                        0.00  \n",
       "2                      1.00                        1.00  \n",
       "3                      0.00                        0.00  \n",
       "4                      0.00                        0.00  \n",
       "5                      0.00                        0.00  \n",
       "6                      0.00                        0.00  \n",
       "7                      0.00                        0.00  \n",
       "8                      0.00                        0.00  \n",
       "9                      0.00                        0.00  \n",
       "10                     0.00                        0.00  \n",
       "11                     0.00                        0.00  \n",
       "12                     0.00                        0.00  \n",
       "13                     0.00                        0.00  \n",
       "14                     0.00                        0.00  \n",
       "15                     0.00                        0.00  \n",
       "16                     0.00                        0.00  \n",
       "17                     0.01                        0.01  \n",
       "18                     0.00                        0.00  \n",
       "19                     1.00                        1.00  \n",
       "20                     0.00                        0.00  \n",
       "21                    82.17                       95.55  \n",
       "22                    96.00                       71.00  "
      ]
     },
     "execution_count": 11,
     "metadata": {},
     "output_type": "execute_result"
    }
   ],
   "source": [
    "resultado"
   ]
  },
  {
   "cell_type": "markdown",
   "metadata": {},
   "source": [
    "<hr>\n",
    "<h1 id='1'> comparación distancia vs tipo store</h1>\n",
    "<hr>"
   ]
  },
  {
   "cell_type": "code",
   "execution_count": 12,
   "metadata": {},
   "outputs": [],
   "source": [
    "d = {'tipo store': ['a', 'b','c','d'], \n",
    "     'max': [\n",
    "         final[final.tipo_store_a==1].CompetitionDistance_int.max(),\n",
    "         final[final.tipo_store_b==1].CompetitionDistance_int.max(),\n",
    "         final[final.tipo_store_c==1].CompetitionDistance_int.max(),\n",
    "         final[final.tipo_store_d==1].CompetitionDistance_int.max()\n",
    "     ],\n",
    "     'min': [\n",
    "         final[final.tipo_store_a==1].CompetitionDistance_int.min(),\n",
    "         final[final.tipo_store_b==1].CompetitionDistance_int.min(),\n",
    "         final[final.tipo_store_c==1].CompetitionDistance_int.min(),\n",
    "         final[final.tipo_store_d==1].CompetitionDistance_int.min()\n",
    "     ],\n",
    "     'promedio': [\n",
    "         final[final.tipo_store_a==1].CompetitionDistance_int.mean(),\n",
    "         final[final.tipo_store_b==1].CompetitionDistance_int.mean(),\n",
    "         final[final.tipo_store_c==1].CompetitionDistance_int.mean(),\n",
    "         final[final.tipo_store_d==1].CompetitionDistance_int.mean()\n",
    "     ],\n",
    "     'N': [\n",
    "         final[final.tipo_store_a==1].CompetitionDistance_int.count(),\n",
    "         final[final.tipo_store_b==1].CompetitionDistance_int.count(),\n",
    "         final[final.tipo_store_c==1].CompetitionDistance_int.count(),\n",
    "         final[final.tipo_store_d==1].CompetitionDistance_int.count()\n",
    "     ]\n",
    "    }\n",
    "nuevo=pd.DataFrame(d)\n",
    "nuevo.set_index('tipo store', inplace=True)"
   ]
  },
  {
   "cell_type": "code",
   "execution_count": 13,
   "metadata": {},
   "outputs": [
    {
     "data": {
      "text/html": [
       "<div>\n",
       "<table border=\"1\" class=\"dataframe\">\n",
       "  <thead>\n",
       "    <tr style=\"text-align: right;\">\n",
       "      <th></th>\n",
       "      <th>N</th>\n",
       "      <th>max</th>\n",
       "      <th>min</th>\n",
       "      <th>promedio</th>\n",
       "    </tr>\n",
       "    <tr>\n",
       "      <th>tipo store</th>\n",
       "      <th></th>\n",
       "      <th></th>\n",
       "      <th></th>\n",
       "      <th></th>\n",
       "    </tr>\n",
       "  </thead>\n",
       "  <tbody>\n",
       "    <tr>\n",
       "      <th>a</th>\n",
       "      <td>351443</td>\n",
       "      <td>75860</td>\n",
       "      <td>0</td>\n",
       "      <td>5230.93</td>\n",
       "    </tr>\n",
       "    <tr>\n",
       "      <th>b</th>\n",
       "      <td>11956</td>\n",
       "      <td>3640</td>\n",
       "      <td>90</td>\n",
       "      <td>1076.19</td>\n",
       "    </tr>\n",
       "    <tr>\n",
       "      <th>c</th>\n",
       "      <td>87070</td>\n",
       "      <td>45740</td>\n",
       "      <td>40</td>\n",
       "      <td>3510.94</td>\n",
       "    </tr>\n",
       "    <tr>\n",
       "      <th>d</th>\n",
       "      <td>197840</td>\n",
       "      <td>48330</td>\n",
       "      <td>0</td>\n",
       "      <td>6962.37</td>\n",
       "    </tr>\n",
       "  </tbody>\n",
       "</table>\n",
       "</div>"
      ],
      "text/plain": [
       "                 N    max  min  promedio\n",
       "tipo store                              \n",
       "a           351443  75860    0   5230.93\n",
       "b            11956   3640   90   1076.19\n",
       "c            87070  45740   40   3510.94\n",
       "d           197840  48330    0   6962.37"
      ]
     },
     "execution_count": 13,
     "metadata": {},
     "output_type": "execute_result"
    }
   ],
   "source": [
    "nuevo"
   ]
  },
  {
   "cell_type": "code",
   "execution_count": 14,
   "metadata": {},
   "outputs": [
    {
     "data": {
      "image/png": "[encoded data removed]",
      "text/plain": [
       "<Figure size 432x288 with 1 Axes>"
      ]
     },
     "metadata": {},
     "output_type": "display_data"
    }
   ],
   "source": [
    "plt.figure()\n",
    "plt.ylabel('CompetitionDistance') \n",
    "plt.xlabel('tipo store')  \n",
    "nuevo['max'].plot(kind='bar',legend=True)\n",
    "plt.savefig('Distance_tipo_s_max.png')"
   ]
  },
  {
   "cell_type": "code",
   "execution_count": 15,
   "metadata": {},
   "outputs": [
    {
     "data": {
      "image/png": "[encoded data removed]",
      "text/plain": [
       "<Figure size 432x288 with 1 Axes>"
      ]
     },
     "metadata": {},
     "output_type": "display_data"
    }
   ],
   "source": [
    "plt.figure()\n",
    "plt.ylabel('CompetitionDistance')  \n",
    "nuevo['min'].plot(kind='bar',legend=True)\n",
    "plt.savefig('Distance_tipo_s_min.png')"
   ]
  },
  {
   "cell_type": "code",
   "execution_count": 16,
   "metadata": {},
   "outputs": [
    {
     "data": {
      "image/png": "[encoded data removed]",
      "text/plain": [
       "<Figure size 432x288 with 1 Axes>"
      ]
     },
     "metadata": {},
     "output_type": "display_data"
    }
   ],
   "source": [
    "plt.figure()\n",
    "plt.ylabel('CompetitionDistance')  \n",
    "nuevo['promedio'].plot(kind='bar',legend=True)\n",
    "plt.savefig('Distance_tipo_s_promedio.png')"
   ]
  },
  {
   "cell_type": "code",
   "execution_count": 17,
   "metadata": {},
   "outputs": [
    {
     "data": {
      "image/png": "[encoded data removed]",
      "text/plain": [
       "<Figure size 432x288 with 1 Axes>"
      ]
     },
     "metadata": {},
     "output_type": "display_data"
    }
   ],
   "source": [
    "plt.figure()\n",
    "plt.ylabel('CompetitionDistance')  \n",
    "nuevo['N'].plot(kind='bar',legend=True)\n",
    "plt.savefig('Distance_tipo_s_N.png')"
   ]
  },
  {
   "cell_type": "markdown",
   "metadata": {},
   "source": [
    "<hr>\n",
    "<h1> comparación distancia vs tipo assortment</h1>\n",
    "<hr>"
   ]
  },
  {
   "cell_type": "code",
   "execution_count": 18,
   "metadata": {},
   "outputs": [],
   "source": [
    "d2 = {'tipo assortment': ['a', 'b','c'], \n",
    "     'max': [\n",
    "         final[final.tipo_assortment_a==1].CompetitionDistance_int.max(),\n",
    "         final[final.tipo_assortment_b==1].CompetitionDistance_int.max(),\n",
    "         final[final.tipo_assortment_c==1].CompetitionDistance_int.max()\n",
    "     ],\n",
    "     'min': [\n",
    "         final[final.tipo_assortment_a==1].CompetitionDistance_int.min(),\n",
    "         final[final.tipo_assortment_b==1].CompetitionDistance_int.min(),\n",
    "         final[final.tipo_assortment_c==1].CompetitionDistance_int.min()\n",
    "     ],\n",
    "     'promedio': [\n",
    "         final[final.tipo_assortment_a==1].CompetitionDistance_int.mean(),\n",
    "         final[final.tipo_assortment_b==1].CompetitionDistance_int.mean(),\n",
    "         final[final.tipo_assortment_c==1].CompetitionDistance_int.mean()\n",
    "     ],\n",
    "     'N': [\n",
    "         final[final.tipo_assortment_a==1].CompetitionDistance_int.count(),\n",
    "         final[final.tipo_assortment_b==1].CompetitionDistance_int.count(),\n",
    "         final[final.tipo_assortment_c==1].CompetitionDistance_int.count()\n",
    "     ]\n",
    "    }\n",
    "nuevo2=pd.DataFrame(d2)\n",
    "nuevo2.set_index('tipo assortment', inplace=True)"
   ]
  },
  {
   "cell_type": "code",
   "execution_count": 19,
   "metadata": {},
   "outputs": [
    {
     "data": {
      "text/html": [
       "<div>\n",
       "<table border=\"1\" class=\"dataframe\">\n",
       "  <thead>\n",
       "    <tr style=\"text-align: right;\">\n",
       "      <th></th>\n",
       "      <th>N</th>\n",
       "      <th>max</th>\n",
       "      <th>min</th>\n",
       "      <th>promedio</th>\n",
       "    </tr>\n",
       "    <tr>\n",
       "      <th>tipo assortment</th>\n",
       "      <th></th>\n",
       "      <th></th>\n",
       "      <th></th>\n",
       "      <th></th>\n",
       "    </tr>\n",
       "  </thead>\n",
       "  <tbody>\n",
       "    <tr>\n",
       "      <th>a</th>\n",
       "      <td>340937</td>\n",
       "      <td>48330</td>\n",
       "      <td>0</td>\n",
       "      <td>4378.11</td>\n",
       "    </tr>\n",
       "    <tr>\n",
       "      <th>b</th>\n",
       "      <td>6301</td>\n",
       "      <td>3640</td>\n",
       "      <td>210</td>\n",
       "      <td>1192.98</td>\n",
       "    </tr>\n",
       "    <tr>\n",
       "      <th>c</th>\n",
       "      <td>301071</td>\n",
       "      <td>75860</td>\n",
       "      <td>0</td>\n",
       "      <td>6756.54</td>\n",
       "    </tr>\n",
       "  </tbody>\n",
       "</table>\n",
       "</div>"
      ],
      "text/plain": [
       "                      N    max  min  promedio\n",
       "tipo assortment                              \n",
       "a                340937  48330    0   4378.11\n",
       "b                  6301   3640  210   1192.98\n",
       "c                301071  75860    0   6756.54"
      ]
     },
     "execution_count": 19,
     "metadata": {},
     "output_type": "execute_result"
    }
   ],
   "source": [
    "nuevo2"
   ]
  },
  {
   "cell_type": "code",
   "execution_count": 20,
   "metadata": {},
   "outputs": [
    {
     "data": {
      "image/png": "[encoded data removed]",
      "text/plain": [
       "<Figure size 432x288 with 1 Axes>"
      ]
     },
     "metadata": {},
     "output_type": "display_data"
    }
   ],
   "source": [
    "plt.figure()\n",
    "plt.ylabel('CompetitionDistance') \n",
    "plt.xlabel('tipo store')  \n",
    "nuevo2['max'].plot(kind='bar',legend=True)\n",
    "plt.savefig('Distance_tipo_a_max.png')"
   ]
  },
  {
   "cell_type": "code",
   "execution_count": 21,
   "metadata": {},
   "outputs": [
    {
     "data": {
      "image/png": "[encoded data removed]",
      "text/plain": [
       "<Figure size 432x288 with 1 Axes>"
      ]
     },
     "metadata": {},
     "output_type": "display_data"
    }
   ],
   "source": [
    "plt.figure()\n",
    "plt.ylabel('CompetitionDistance')  \n",
    "nuevo2['min'].plot(kind='bar',legend=True)\n",
    "plt.savefig('Distance_tipo_a_min.png')"
   ]
  },
  {
   "cell_type": "code",
   "execution_count": 22,
   "metadata": {
    "scrolled": true
   },
   "outputs": [
    {
     "data": {
      "image/png": "[encoded data removed]",
      "text/plain": [
       "<Figure size 432x288 with 1 Axes>"
      ]
     },
     "metadata": {},
     "output_type": "display_data"
    }
   ],
   "source": [
    "plt.figure()\n",
    "plt.ylabel('CompetitionDistance')  \n",
    "nuevo2['promedio'].plot(kind='bar',legend=True)\n",
    "plt.savefig('Distance_tipo_a_promedio.png')"
   ]
  },
  {
   "cell_type": "code",
   "execution_count": 23,
   "metadata": {
    "scrolled": true
   },
   "outputs": [
    {
     "data": {
      "image/png": "[encoded data removed]",
      "text/plain": [
       "<Figure size 432x288 with 1 Axes>"
      ]
     },
     "metadata": {},
     "output_type": "display_data"
    }
   ],
   "source": [
    "plt.figure()\n",
    "plt.ylabel('CompetitionDistance')  \n",
    "nuevo2['N'].plot(kind='bar',legend=True)\n",
    "plt.savefig('Distance_tipo_a_N.png')"
   ]
  },
  {
   "cell_type": "markdown",
   "metadata": {},
   "source": [
    "<hr>\n",
    "<h1> comparación Sales vs tipo store</h1>\n",
    "<hr>"
   ]
  },
  {
   "cell_type": "code",
   "execution_count": 24,
   "metadata": {},
   "outputs": [],
   "source": [
    "d3 = {'tipo store': ['a', 'b','c','d'], \n",
    "     'max': [\n",
    "         final[final.tipo_store_a==1].Sales.max(),\n",
    "         final[final.tipo_store_b==1].Sales.max(),\n",
    "         final[final.tipo_store_c==1].Sales.max(),\n",
    "         final[final.tipo_store_d==1].Sales.max()\n",
    "     ],\n",
    "     'min': [\n",
    "         final[final.tipo_store_a==1].Sales.min(),\n",
    "         final[final.tipo_store_b==1].Sales.min(),\n",
    "         final[final.tipo_store_c==1].Sales.min(), \n",
    "         final[final.tipo_store_d==1].Sales.min()\n",
    "     ],\n",
    "     'promedio': [\n",
    "         final[final.tipo_store_a==1].Sales.mean(),\n",
    "         final[final.tipo_store_b==1].Sales.mean(),\n",
    "         final[final.tipo_store_c==1].Sales.mean(),\n",
    "         final[final.tipo_store_d==1].Sales.mean()\n",
    "     ],\n",
    "     'N': [\n",
    "         final[final.tipo_store_a==1].Sales.count(),\n",
    "         final[final.tipo_store_b==1].Sales.count(),\n",
    "         final[final.tipo_store_c==1].Sales.count(),\n",
    "         final[final.tipo_store_d==1].Sales.count()\n",
    "     ]\n",
    "    }\n",
    "nuevo3=pd.DataFrame(d3)\n",
    "nuevo3.set_index('tipo store', inplace=True)"
   ]
  },
  {
   "cell_type": "code",
   "execution_count": 25,
   "metadata": {},
   "outputs": [
    {
     "data": {
      "text/html": [
       "<div>\n",
       "<table border=\"1\" class=\"dataframe\">\n",
       "  <thead>\n",
       "    <tr style=\"text-align: right;\">\n",
       "      <th></th>\n",
       "      <th>N</th>\n",
       "      <th>max</th>\n",
       "      <th>min</th>\n",
       "      <th>promedio</th>\n",
       "    </tr>\n",
       "    <tr>\n",
       "      <th>tipo store</th>\n",
       "      <th></th>\n",
       "      <th></th>\n",
       "      <th></th>\n",
       "      <th></th>\n",
       "    </tr>\n",
       "  </thead>\n",
       "  <tbody>\n",
       "    <tr>\n",
       "      <th>a</th>\n",
       "      <td>351443</td>\n",
       "      <td>38025</td>\n",
       "      <td>46</td>\n",
       "      <td>6908.10</td>\n",
       "    </tr>\n",
       "    <tr>\n",
       "      <th>b</th>\n",
       "      <td>11956</td>\n",
       "      <td>37403</td>\n",
       "      <td>1252</td>\n",
       "      <td>10085.46</td>\n",
       "    </tr>\n",
       "    <tr>\n",
       "      <th>c</th>\n",
       "      <td>87070</td>\n",
       "      <td>31448</td>\n",
       "      <td>133</td>\n",
       "      <td>6908.56</td>\n",
       "    </tr>\n",
       "    <tr>\n",
       "      <th>d</th>\n",
       "      <td>197840</td>\n",
       "      <td>38037</td>\n",
       "      <td>538</td>\n",
       "      <td>6741.64</td>\n",
       "    </tr>\n",
       "  </tbody>\n",
       "</table>\n",
       "</div>"
      ],
      "text/plain": [
       "                 N    max   min  promedio\n",
       "tipo store                               \n",
       "a           351443  38025    46   6908.10\n",
       "b            11956  37403  1252  10085.46\n",
       "c            87070  31448   133   6908.56\n",
       "d           197840  38037   538   6741.64"
      ]
     },
     "execution_count": 25,
     "metadata": {},
     "output_type": "execute_result"
    }
   ],
   "source": [
    "nuevo3"
   ]
  },
  {
   "cell_type": "code",
   "execution_count": 26,
   "metadata": {},
   "outputs": [
    {
     "data": {
      "image/png": "[encoded data removed]",
      "text/plain": [
       "<Figure size 432x288 with 1 Axes>"
      ]
     },
     "metadata": {},
     "output_type": "display_data"
    }
   ],
   "source": [
    "plt.figure()\n",
    "plt.ylabel('sales') \n",
    "plt.xlabel('tipo store')  \n",
    "nuevo3['max'].plot(kind='bar',legend=True)\n",
    "plt.savefig('sales_tipo_s_max.png')"
   ]
  },
  {
   "cell_type": "code",
   "execution_count": 27,
   "metadata": {},
   "outputs": [
    {
     "data": {
      "image/png": "[encoded data removed]",
      "text/plain": [
       "<Figure size 432x288 with 1 Axes>"
      ]
     },
     "metadata": {},
     "output_type": "display_data"
    }
   ],
   "source": [
    "plt.figure()\n",
    "plt.ylabel('sales')  \n",
    "nuevo3['min'].plot(kind='bar',legend=True)\n",
    "plt.savefig('sales_tipo_s_min.png')"
   ]
  },
  {
   "cell_type": "code",
   "execution_count": 28,
   "metadata": {},
   "outputs": [
    {
     "data": {
      "image/png": "[encoded data removed]",
      "text/plain": [
       "<Figure size 432x288 with 1 Axes>"
      ]
     },
     "metadata": {},
     "output_type": "display_data"
    }
   ],
   "source": [
    "plt.figure()\n",
    "plt.ylabel('sales')  \n",
    "nuevo3['promedio'].plot(kind='bar',legend=True)\n",
    "plt.savefig('sales_tipo_s_promedio.png')"
   ]
  },
  {
   "cell_type": "code",
   "execution_count": 29,
   "metadata": {},
   "outputs": [
    {
     "data": {
      "image/png": "[encoded data removed]",
      "text/plain": [
       "<Figure size 432x288 with 1 Axes>"
      ]
     },
     "metadata": {},
     "output_type": "display_data"
    }
   ],
   "source": [
    "plt.figure()\n",
    "plt.ylabel('sales')  \n",
    "nuevo3['N'].plot(kind='bar',legend=True)\n",
    "plt.savefig('sales_tipo_s_N.png')"
   ]
  },
  {
   "cell_type": "markdown",
   "metadata": {},
   "source": [
    "<hr>\n",
    "<h1> comparación sales vs tipo assortment</h1>\n",
    "<hr>"
   ]
  },
  {
   "cell_type": "code",
   "execution_count": 30,
   "metadata": {},
   "outputs": [],
   "source": [
    "d4 = {'tipo assortment': ['a', 'b','c'],\n",
    "     'max': [\n",
    "         final[final.tipo_assortment_a==1].Sales.max(),\n",
    "         final[final.tipo_assortment_b==1].Sales.max(),\n",
    "         final[final.tipo_assortment_c==1].Sales.max()\n",
    "     ],\n",
    "     'min': [\n",
    "         final[final.tipo_assortment_a==1].Sales.min(),\n",
    "         final[final.tipo_assortment_b==1].Sales.min(),\n",
    "         final[final.tipo_assortment_c==1].Sales.min()\n",
    "            ],\n",
    "     'promedio': [\n",
    "         final[final.tipo_assortment_a==1].Sales.mean(),\n",
    "         final[final.tipo_assortment_b==1].Sales.mean(),\n",
    "         final[final.tipo_assortment_c==1].Sales.mean()\n",
    "     ],\n",
    "     'N': [\n",
    "         final[final.tipo_assortment_a==1].Sales.count(),\n",
    "         final[final.tipo_assortment_b==1].Sales.count(),\n",
    "         final[final.tipo_assortment_c==1].Sales.count()\n",
    "     ]\n",
    "    }\n",
    "nuevo4=pd.DataFrame(d4)\n",
    "nuevo4.set_index('tipo assortment', inplace=True)"
   ]
  },
  {
   "cell_type": "code",
   "execution_count": 31,
   "metadata": {},
   "outputs": [
    {
     "data": {
      "text/html": [
       "<div>\n",
       "<table border=\"1\" class=\"dataframe\">\n",
       "  <thead>\n",
       "    <tr style=\"text-align: right;\">\n",
       "      <th></th>\n",
       "      <th>N</th>\n",
       "      <th>max</th>\n",
       "      <th>min</th>\n",
       "      <th>promedio</th>\n",
       "    </tr>\n",
       "    <tr>\n",
       "      <th>tipo assortment</th>\n",
       "      <th></th>\n",
       "      <th></th>\n",
       "      <th></th>\n",
       "      <th></th>\n",
       "    </tr>\n",
       "  </thead>\n",
       "  <tbody>\n",
       "    <tr>\n",
       "      <th>a</th>\n",
       "      <td>340937</td>\n",
       "      <td>38025</td>\n",
       "      <td>46</td>\n",
       "      <td>6612.76</td>\n",
       "    </tr>\n",
       "    <tr>\n",
       "      <th>b</th>\n",
       "      <td>6301</td>\n",
       "      <td>22137</td>\n",
       "      <td>1580</td>\n",
       "      <td>8364.17</td>\n",
       "    </tr>\n",
       "    <tr>\n",
       "      <th>c</th>\n",
       "      <td>301071</td>\n",
       "      <td>38037</td>\n",
       "      <td>133</td>\n",
       "      <td>7229.01</td>\n",
       "    </tr>\n",
       "  </tbody>\n",
       "</table>\n",
       "</div>"
      ],
      "text/plain": [
       "                      N    max   min  promedio\n",
       "tipo assortment                               \n",
       "a                340937  38025    46   6612.76\n",
       "b                  6301  22137  1580   8364.17\n",
       "c                301071  38037   133   7229.01"
      ]
     },
     "execution_count": 31,
     "metadata": {},
     "output_type": "execute_result"
    }
   ],
   "source": [
    "nuevo4"
   ]
  },
  {
   "cell_type": "code",
   "execution_count": 32,
   "metadata": {},
   "outputs": [
    {
     "data": {
      "image/png": "[encoded data removed]",
      "text/plain": [
       "<Figure size 432x288 with 1 Axes>"
      ]
     },
     "metadata": {},
     "output_type": "display_data"
    }
   ],
   "source": [
    "plt.figure()\n",
    "plt.ylabel('Sales') \n",
    "plt.xlabel('tipo store')  \n",
    "nuevo4['max'].plot(kind='bar',legend=True)\n",
    "plt.savefig('sales_tipo_a_max.png')"
   ]
  },
  {
   "cell_type": "code",
   "execution_count": 33,
   "metadata": {},
   "outputs": [
    {
     "data": {
      "image/png": "[encoded data removed]",
      "text/plain": [
       "<Figure size 432x288 with 1 Axes>"
      ]
     },
     "metadata": {},
     "output_type": "display_data"
    }
   ],
   "source": [
    "plt.figure()\n",
    "plt.ylabel('sale')  \n",
    "nuevo2['min'].plot(kind='bar',legend=True)\n",
    "plt.savefig('sale_tipo_a_min.png')"
   ]
  },
  {
   "cell_type": "code",
   "execution_count": 34,
   "metadata": {
    "scrolled": true
   },
   "outputs": [
    {
     "data": {
      "image/png": "[encoded data removed]",
      "text/plain": [
       "<Figure size 432x288 with 1 Axes>"
      ]
     },
     "metadata": {},
     "output_type": "display_data"
    }
   ],
   "source": [
    "plt.figure()\n",
    "plt.ylabel('sales')  \n",
    "nuevo4['promedio'].plot(kind='bar',legend=True)\n",
    "plt.savefig('sale_tipo_a_promedio.png')"
   ]
  },
  {
   "cell_type": "code",
   "execution_count": 35,
   "metadata": {
    "scrolled": true
   },
   "outputs": [
    {
     "data": {
      "image/png": "[encoded data removed]",
      "text/plain": [
       "<Figure size 432x288 with 1 Axes>"
      ]
     },
     "metadata": {},
     "output_type": "display_data"
    }
   ],
   "source": [
    "plt.figure()\n",
    "plt.ylabel('sales')  \n",
    "nuevo4['N'].plot(kind='bar',legend=True)\n",
    "plt.savefig('sale_tipo_a_N.png')"
   ]
  },
  {
   "cell_type": "markdown",
   "metadata": {},
   "source": [
    "<hr>\n",
    "<h1> comparación Clientes vs tipo store</h1>\n",
    "<hr>"
   ]
  },
  {
   "cell_type": "code",
   "execution_count": 36,
   "metadata": {},
   "outputs": [],
   "source": [
    "d5 = {'tipo store': ['a', 'b','c','d'], \n",
    "     'max': [\n",
    "         final[final.tipo_store_a==1].Customers.max(),\n",
    "         final[final.tipo_store_b==1].Customers.max(),\n",
    "         final[final.tipo_store_c==1].Customers.max(),\n",
    "         final[final.tipo_store_d==1].Customers.max()\n",
    "     ],\n",
    "     'min': [\n",
    "         final[final.tipo_store_a==1].Customers.min(),\n",
    "         final[final.tipo_store_b==1].Customers.min(),\n",
    "         final[final.tipo_store_c==1].Customers.min(),\n",
    "         final[final.tipo_store_d==1].Customers.min()\n",
    "     ],\n",
    "     'promedio': [\n",
    "         final[final.tipo_store_a==1].Customers.mean(),\n",
    "         final[final.tipo_store_b==1].Customers.mean(),\n",
    "         final[final.tipo_store_c==1].Customers.mean(),\n",
    "         final[final.tipo_store_d==1].Customers.mean()\n",
    "     ],\n",
    "     'N': [\n",
    "         final[final.tipo_store_a==1].Customers.count(),\n",
    "         final[final.tipo_store_b==1].Customers.count(),\n",
    "         final[final.tipo_store_c==1].Customers.count(),\n",
    "         final[final.tipo_store_d==1].Customers.count()\n",
    "     ]\n",
    "    }\n",
    "nuevo5=pd.DataFrame(d5)\n",
    "nuevo5.set_index('tipo store', inplace=True)"
   ]
  },
  {
   "cell_type": "code",
   "execution_count": 37,
   "metadata": {},
   "outputs": [
    {
     "data": {
      "text/html": [
       "<div>\n",
       "<table border=\"1\" class=\"dataframe\">\n",
       "  <thead>\n",
       "    <tr style=\"text-align: right;\">\n",
       "      <th></th>\n",
       "      <th>N</th>\n",
       "      <th>max</th>\n",
       "      <th>min</th>\n",
       "      <th>promedio</th>\n",
       "    </tr>\n",
       "    <tr>\n",
       "      <th>tipo store</th>\n",
       "      <th></th>\n",
       "      <th></th>\n",
       "      <th></th>\n",
       "      <th></th>\n",
       "    </tr>\n",
       "  </thead>\n",
       "  <tbody>\n",
       "    <tr>\n",
       "      <th>a</th>\n",
       "      <td>351443</td>\n",
       "      <td>7388</td>\n",
       "      <td>8</td>\n",
       "      <td>800.50</td>\n",
       "    </tr>\n",
       "    <tr>\n",
       "      <th>b</th>\n",
       "      <td>11956</td>\n",
       "      <td>5494</td>\n",
       "      <td>219</td>\n",
       "      <td>2007.06</td>\n",
       "    </tr>\n",
       "    <tr>\n",
       "      <th>c</th>\n",
       "      <td>87070</td>\n",
       "      <td>3096</td>\n",
       "      <td>18</td>\n",
       "      <td>819.91</td>\n",
       "    </tr>\n",
       "    <tr>\n",
       "      <th>d</th>\n",
       "      <td>197840</td>\n",
       "      <td>2239</td>\n",
       "      <td>64</td>\n",
       "      <td>605.43</td>\n",
       "    </tr>\n",
       "  </tbody>\n",
       "</table>\n",
       "</div>"
      ],
      "text/plain": [
       "                 N   max  min  promedio\n",
       "tipo store                             \n",
       "a           351443  7388    8    800.50\n",
       "b            11956  5494  219   2007.06\n",
       "c            87070  3096   18    819.91\n",
       "d           197840  2239   64    605.43"
      ]
     },
     "execution_count": 37,
     "metadata": {},
     "output_type": "execute_result"
    }
   ],
   "source": [
    "nuevo5"
   ]
  },
  {
   "cell_type": "code",
   "execution_count": 38,
   "metadata": {},
   "outputs": [
    {
     "data": {
      "image/png": "[encoded data removed]",
      "text/plain": [
       "<Figure size 432x288 with 1 Axes>"
      ]
     },
     "metadata": {},
     "output_type": "display_data"
    }
   ],
   "source": [
    "plt.figure()\n",
    "plt.ylabel('Clientes') \n",
    "plt.xlabel('tipo store')  \n",
    "nuevo5['max'].plot(kind='bar',legend=True)\n",
    "plt.savefig('Clientes_tipo_s_max.png')"
   ]
  },
  {
   "cell_type": "code",
   "execution_count": 39,
   "metadata": {},
   "outputs": [
    {
     "data": {
      "image/png": "[encoded data removed]",
      "text/plain": [
       "<Figure size 432x288 with 1 Axes>"
      ]
     },
     "metadata": {},
     "output_type": "display_data"
    }
   ],
   "source": [
    "plt.figure()\n",
    "plt.ylabel('Clientes')  \n",
    "nuevo5['min'].plot(kind='bar',legend=True)\n",
    "plt.savefig('Clientes_tipo_s_min.png')"
   ]
  },
  {
   "cell_type": "code",
   "execution_count": 40,
   "metadata": {},
   "outputs": [
    {
     "data": {
      "image/png": "[encoded data removed]",
      "text/plain": [
       "<Figure size 432x288 with 1 Axes>"
      ]
     },
     "metadata": {},
     "output_type": "display_data"
    }
   ],
   "source": [
    "plt.figure()\n",
    "plt.ylabel('Clientes')  \n",
    "nuevo5['promedio'].plot(kind='bar',legend=True)\n",
    "plt.savefig('Clientes_tipo_s_promedio.png')"
   ]
  },
  {
   "cell_type": "code",
   "execution_count": 41,
   "metadata": {},
   "outputs": [
    {
     "data": {
      "image/png": "[encoded data removed]",
      "text/plain": [
       "<Figure size 432x288 with 1 Axes>"
      ]
     },
     "metadata": {},
     "output_type": "display_data"
    }
   ],
   "source": [
    "plt.figure()\n",
    "plt.ylabel('Clientes')  \n",
    "nuevo5['N'].plot(kind='bar',legend=True)\n",
    "plt.savefig('Clientes_tipo_s_N.png')"
   ]
  },
  {
   "cell_type": "markdown",
   "metadata": {},
   "source": [
    "<hr>\n",
    "<h1> comparación cliente vs tipo assortment</h1>\n",
    "<hr>"
   ]
  },
  {
   "cell_type": "code",
   "execution_count": 42,
   "metadata": {},
   "outputs": [],
   "source": [
    "d6 = {'tipo assortment': ['a', 'b','c'],\n",
    "     'max': [\n",
    "         final[final.tipo_assortment_a==1].Customers.max(),\n",
    "         final[final.tipo_assortment_b==1].Customers.max(),\n",
    "         final[final.tipo_assortment_c==1].Customers.max()\n",
    "     ],\n",
    "     'min': [\n",
    "         final[final.tipo_assortment_a==1].Customers.min(),\n",
    "         final[final.tipo_assortment_b==1].Customers.min(),\n",
    "         final[final.tipo_assortment_c==1].Customers.min()\n",
    "     ],\n",
    "     'promedio': [\n",
    "         final[final.tipo_assortment_a==1].Customers.mean(),\n",
    "         final[final.tipo_assortment_b==1].Customers.mean(),\n",
    "         final[final.tipo_assortment_c==1].Customers.mean()\n",
    "     ],\n",
    "     'N': [\n",
    "         final[final.tipo_assortment_a==1].Customers.count(),\n",
    "         final[final.tipo_assortment_b==1].Customers.count(),\n",
    "         final[final.tipo_assortment_c==1].Customers.count()\n",
    "     ]\n",
    "    }\n",
    "nuevo6=pd.DataFrame(d6)\n",
    "nuevo6.set_index('tipo assortment', inplace=True)"
   ]
  },
  {
   "cell_type": "code",
   "execution_count": 43,
   "metadata": {},
   "outputs": [
    {
     "data": {
      "text/html": [
       "<div>\n",
       "<table border=\"1\" class=\"dataframe\">\n",
       "  <thead>\n",
       "    <tr style=\"text-align: right;\">\n",
       "      <th></th>\n",
       "      <th>N</th>\n",
       "      <th>max</th>\n",
       "      <th>min</th>\n",
       "      <th>promedio</th>\n",
       "    </tr>\n",
       "    <tr>\n",
       "      <th>tipo assortment</th>\n",
       "      <th></th>\n",
       "      <th></th>\n",
       "      <th></th>\n",
       "      <th></th>\n",
       "    </tr>\n",
       "  </thead>\n",
       "  <tbody>\n",
       "    <tr>\n",
       "      <th>a</th>\n",
       "      <td>340937</td>\n",
       "      <td>7388</td>\n",
       "      <td>8</td>\n",
       "      <td>753.90</td>\n",
       "    </tr>\n",
       "    <tr>\n",
       "      <th>b</th>\n",
       "      <td>6301</td>\n",
       "      <td>4645</td>\n",
       "      <td>480</td>\n",
       "      <td>2025.47</td>\n",
       "    </tr>\n",
       "    <tr>\n",
       "      <th>c</th>\n",
       "      <td>301071</td>\n",
       "      <td>4911</td>\n",
       "      <td>18</td>\n",
       "      <td>752.98</td>\n",
       "    </tr>\n",
       "  </tbody>\n",
       "</table>\n",
       "</div>"
      ],
      "text/plain": [
       "                      N   max  min  promedio\n",
       "tipo assortment                             \n",
       "a                340937  7388    8    753.90\n",
       "b                  6301  4645  480   2025.47\n",
       "c                301071  4911   18    752.98"
      ]
     },
     "execution_count": 43,
     "metadata": {},
     "output_type": "execute_result"
    }
   ],
   "source": [
    "nuevo6"
   ]
  },
  {
   "cell_type": "code",
   "execution_count": 44,
   "metadata": {},
   "outputs": [
    {
     "data": {
      "image/png": "[encoded data removed]",
      "text/plain": [
       "<Figure size 432x288 with 1 Axes>"
      ]
     },
     "metadata": {},
     "output_type": "display_data"
    }
   ],
   "source": [
    "plt.figure()\n",
    "plt.ylabel('Cliente') \n",
    "plt.xlabel('tipo store')  \n",
    "nuevo6['max'].plot(kind='bar',legend=True)\n",
    "plt.savefig('cliente_tipo_a_max.png')"
   ]
  },
  {
   "cell_type": "code",
   "execution_count": 45,
   "metadata": {},
   "outputs": [
    {
     "data": {
      "image/png": "[encoded data removed]",
      "text/plain": [
       "<Figure size 432x288 with 1 Axes>"
      ]
     },
     "metadata": {},
     "output_type": "display_data"
    }
   ],
   "source": [
    "plt.figure()\n",
    "plt.ylabel('cliente')  \n",
    "nuevo6['min'].plot(kind='bar',legend=True)\n",
    "plt.savefig('cliente_tipo_a_min.png')"
   ]
  },
  {
   "cell_type": "code",
   "execution_count": 46,
   "metadata": {
    "scrolled": true
   },
   "outputs": [
    {
     "data": {
      "image/png": "[encoded data removed]",
      "text/plain": [
       "<Figure size 432x288 with 1 Axes>"
      ]
     },
     "metadata": {},
     "output_type": "display_data"
    }
   ],
   "source": [
    "plt.figure()\n",
    "plt.ylabel('Cliente')  \n",
    "nuevo6['promedio'].plot(kind='bar',legend=True)\n",
    "plt.savefig('cliente_tipo_a_promedio.png')"
   ]
  },
  {
   "cell_type": "code",
   "execution_count": 47,
   "metadata": {
    "scrolled": true
   },
   "outputs": [
    {
     "data": {
      "image/png": "[encoded data removed]",
      "text/plain": [
       "<Figure size 432x288 with 1 Axes>"
      ]
     },
     "metadata": {},
     "output_type": "display_data"
    }
   ],
   "source": [
    "plt.figure()\n",
    "plt.ylabel('Tiendas')  \n",
    "nuevo6['N'].plot(kind='bar',legend=True)\n",
    "plt.savefig('cliente_tipo_a_N.png')"
   ]
  },
  {
   "cell_type": "markdown",
   "metadata": {},
   "source": [
    "<hr>\n",
    "<h1> comparación Clientes vs dia</h1>\n",
    "<hr>"
   ]
  },
  {
   "cell_type": "code",
   "execution_count": 48,
   "metadata": {},
   "outputs": [],
   "source": [
    "d6 = {'Dia': ['Lu', 'Ma','Mi','Ju','Vi','Sa','Do'], \n",
    "     'max': [\n",
    "             final[final.DayOfWeek==1].Customers.max(),\n",
    "             final[final.DayOfWeek==2].Customers.max(),\n",
    "             final[final.DayOfWeek==3].Customers.max(),\n",
    "             final[final.DayOfWeek==4].Customers.max(),\n",
    "             final[final.DayOfWeek==5].Customers.max(),\n",
    "             final[final.DayOfWeek==6].Customers.max(),\n",
    "             final[final.DayOfWeek==7].Customers.max(),\n",
    "     ],\n",
    "     'min': [\n",
    "         final[final.DayOfWeek==1].Customers.min(),\n",
    "         final[final.DayOfWeek==2].Customers.min(),\n",
    "         final[final.DayOfWeek==3].Customers.min(), \n",
    "         final[final.DayOfWeek==4].Customers.min(),\n",
    "         final[final.DayOfWeek==5].Customers.min(),\n",
    "         final[final.DayOfWeek==6].Customers.min(),\n",
    "         final[final.DayOfWeek==7].Customers.min(), \n",
    "     ],\n",
    "     'promedio':[\n",
    "         final[final.DayOfWeek==1].Customers.mean(),\n",
    "         final[final.DayOfWeek==2].Customers.mean(),\n",
    "         final[final.DayOfWeek==3].Customers.mean(),\n",
    "         final[final.DayOfWeek==4].Customers.mean(),\n",
    "         final[final.DayOfWeek==5].Customers.mean(),\n",
    "         final[final.DayOfWeek==6].Customers.mean(),\n",
    "         final[final.DayOfWeek==7].Customers.mean()\n",
    "     ],\n",
    "         'N':[\n",
    "         final[final.DayOfWeek==1].Customers.count(),\n",
    "         final[final.DayOfWeek==2].Customers.count(),\n",
    "         final[final.DayOfWeek==3].Customers.count(),\n",
    "         final[final.DayOfWeek==4].Customers.count(),\n",
    "         final[final.DayOfWeek==5].Customers.count(),\n",
    "         final[final.DayOfWeek==6].Customers.count(),\n",
    "         final[final.DayOfWeek==7].Customers.count()\n",
    "     ]\n",
    "    }\n",
    "nuevo6=pd.DataFrame(d6)\n",
    "nuevo6.set_index('Dia', inplace=True)"
   ]
  },
  {
   "cell_type": "code",
   "execution_count": 49,
   "metadata": {},
   "outputs": [
    {
     "data": {
      "text/html": [
       "<div>\n",
       "<table border=\"1\" class=\"dataframe\">\n",
       "  <thead>\n",
       "    <tr style=\"text-align: right;\">\n",
       "      <th></th>\n",
       "      <th>N</th>\n",
       "      <th>max</th>\n",
       "      <th>min</th>\n",
       "      <th>promedio</th>\n",
       "    </tr>\n",
       "    <tr>\n",
       "      <th>Dia</th>\n",
       "      <th></th>\n",
       "      <th></th>\n",
       "      <th></th>\n",
       "      <th></th>\n",
       "    </tr>\n",
       "  </thead>\n",
       "  <tbody>\n",
       "    <tr>\n",
       "      <th>Lu</th>\n",
       "      <td>106327</td>\n",
       "      <td>5387</td>\n",
       "      <td>18</td>\n",
       "      <td>861.21</td>\n",
       "    </tr>\n",
       "    <tr>\n",
       "      <th>Ma</th>\n",
       "      <td>110840</td>\n",
       "      <td>7388</td>\n",
       "      <td>101</td>\n",
       "      <td>771.92</td>\n",
       "    </tr>\n",
       "    <tr>\n",
       "      <th>Mi</th>\n",
       "      <td>108505</td>\n",
       "      <td>5106</td>\n",
       "      <td>97</td>\n",
       "      <td>741.08</td>\n",
       "    </tr>\n",
       "    <tr>\n",
       "      <th>Ju</th>\n",
       "      <td>102956</td>\n",
       "      <td>5297</td>\n",
       "      <td>85</td>\n",
       "      <td>758.58</td>\n",
       "    </tr>\n",
       "    <tr>\n",
       "      <th>Vi</th>\n",
       "      <td>106286</td>\n",
       "      <td>5494</td>\n",
       "      <td>68</td>\n",
       "      <td>787.17</td>\n",
       "    </tr>\n",
       "    <tr>\n",
       "      <th>Sa</th>\n",
       "      <td>110624</td>\n",
       "      <td>4762</td>\n",
       "      <td>8</td>\n",
       "      <td>661.93</td>\n",
       "    </tr>\n",
       "    <tr>\n",
       "      <th>Do</th>\n",
       "      <td>2771</td>\n",
       "      <td>5145</td>\n",
       "      <td>40</td>\n",
       "      <td>1430.19</td>\n",
       "    </tr>\n",
       "  </tbody>\n",
       "</table>\n",
       "</div>"
      ],
      "text/plain": [
       "          N   max  min  promedio\n",
       "Dia                             \n",
       "Lu   106327  5387   18    861.21\n",
       "Ma   110840  7388  101    771.92\n",
       "Mi   108505  5106   97    741.08\n",
       "Ju   102956  5297   85    758.58\n",
       "Vi   106286  5494   68    787.17\n",
       "Sa   110624  4762    8    661.93\n",
       "Do     2771  5145   40   1430.19"
      ]
     },
     "execution_count": 49,
     "metadata": {},
     "output_type": "execute_result"
    }
   ],
   "source": [
    "nuevo6"
   ]
  },
  {
   "cell_type": "code",
   "execution_count": 50,
   "metadata": {},
   "outputs": [
    {
     "data": {
      "image/png": "[encoded data removed]",
      "text/plain": [
       "<Figure size 432x288 with 1 Axes>"
      ]
     },
     "metadata": {},
     "output_type": "display_data"
    }
   ],
   "source": [
    "plt.figure()\n",
    "plt.ylabel('Clientes') \n",
    "nuevo6['max'].plot(kind='bar',legend=True)\n",
    "plt.savefig('Clientes_dia_max.png')"
   ]
  },
  {
   "cell_type": "code",
   "execution_count": 51,
   "metadata": {},
   "outputs": [
    {
     "data": {
      "image/png": "[encoded data removed]",
      "text/plain": [
       "<Figure size 432x288 with 1 Axes>"
      ]
     },
     "metadata": {},
     "output_type": "display_data"
    }
   ],
   "source": [
    "plt.figure()\n",
    "plt.ylabel('Clientes')  \n",
    "nuevo6['min'].plot(kind='bar',legend=True)\n",
    "plt.savefig('Clientes_dia_min.png')"
   ]
  },
  {
   "cell_type": "code",
   "execution_count": 52,
   "metadata": {},
   "outputs": [
    {
     "data": {
      "image/png": "[encoded data removed]",
      "text/plain": [
       "<Figure size 432x288 with 1 Axes>"
      ]
     },
     "metadata": {},
     "output_type": "display_data"
    }
   ],
   "source": [
    "plt.figure()\n",
    "plt.ylabel('Clientes')  \n",
    "nuevo6['promedio'].plot(kind='bar',legend=True)\n",
    "plt.savefig('Clientes_dia_promedio.png')"
   ]
  },
  {
   "cell_type": "code",
   "execution_count": 53,
   "metadata": {},
   "outputs": [
    {
     "data": {
      "image/png": "[encoded data removed]",
      "text/plain": [
       "<Figure size 432x288 with 1 Axes>"
      ]
     },
     "metadata": {},
     "output_type": "display_data"
    }
   ],
   "source": [
    "plt.figure()\n",
    "plt.ylabel('Clientes')  \n",
    "nuevo6['N'].plot(kind='bar',legend=True)\n",
    "plt.savefig('Clientes_dia_N.png')"
   ]
  },
  {
   "cell_type": "markdown",
   "metadata": {},
   "source": [
    "<hr>\n",
    "<h1> comparación Dia vs ventas</h1>\n",
    "<hr>"
   ]
  },
  {
   "cell_type": "code",
   "execution_count": 54,
   "metadata": {},
   "outputs": [],
   "source": [
    "d7 = {'Dia': ['Lu', 'Ma','Mi','Ju','Vi','Sa','Do'], \n",
    "     'max': [\n",
    "             final[final.DayOfWeek==1].Sales.max(),\n",
    "             final[final.DayOfWeek==2].Sales.max(),\n",
    "             final[final.DayOfWeek==3].Sales.max(),\n",
    "             final[final.DayOfWeek==4].Sales.max(),\n",
    "             final[final.DayOfWeek==5].Sales.max(),\n",
    "             final[final.DayOfWeek==6].Sales.max(),\n",
    "             final[final.DayOfWeek==7].Sales.max(),\n",
    "     ],\n",
    "     'min': [\n",
    "         final[final.DayOfWeek==1].Sales.min(),\n",
    "         final[final.DayOfWeek==2].Sales.min(),\n",
    "         final[final.DayOfWeek==3].Sales.min(), \n",
    "         final[final.DayOfWeek==4].Sales.min(),\n",
    "         final[final.DayOfWeek==5].Sales.min(),\n",
    "         final[final.DayOfWeek==6].Sales.min(),\n",
    "         final[final.DayOfWeek==7].Sales.min(), \n",
    "     ],\n",
    "     'promedio':[\n",
    "         final[final.DayOfWeek==1].Sales.mean(),\n",
    "         final[final.DayOfWeek==2].Sales.mean(),\n",
    "         final[final.DayOfWeek==3].Sales.mean(),\n",
    "         final[final.DayOfWeek==4].Sales.mean(),\n",
    "         final[final.DayOfWeek==5].Sales.mean(),\n",
    "         final[final.DayOfWeek==6].Sales.mean(),\n",
    "         final[final.DayOfWeek==7].Sales.mean()\n",
    "     ],\n",
    "      'N':[\n",
    "         final[final.DayOfWeek==1].Sales.count(),\n",
    "         final[final.DayOfWeek==2].Sales.count(),\n",
    "         final[final.DayOfWeek==3].Sales.count(),\n",
    "         final[final.DayOfWeek==4].Sales.count(),\n",
    "         final[final.DayOfWeek==5].Sales.count(),\n",
    "         final[final.DayOfWeek==6].Sales.count(),\n",
    "         final[final.DayOfWeek==7].Sales.count()\n",
    "      ]\n",
    "    }\n",
    "nuevo7=pd.DataFrame(d7)\n",
    "nuevo7.set_index('Dia', inplace=True)"
   ]
  },
  {
   "cell_type": "code",
   "execution_count": 55,
   "metadata": {},
   "outputs": [
    {
     "data": {
      "text/html": [
       "<div>\n",
       "<table border=\"1\" class=\"dataframe\">\n",
       "  <thead>\n",
       "    <tr style=\"text-align: right;\">\n",
       "      <th></th>\n",
       "      <th>N</th>\n",
       "      <th>max</th>\n",
       "      <th>min</th>\n",
       "      <th>promedio</th>\n",
       "    </tr>\n",
       "    <tr>\n",
       "      <th>Dia</th>\n",
       "      <th></th>\n",
       "      <th></th>\n",
       "      <th></th>\n",
       "      <th></th>\n",
       "    </tr>\n",
       "  </thead>\n",
       "  <tbody>\n",
       "    <tr>\n",
       "      <th>Lu</th>\n",
       "      <td>106327</td>\n",
       "      <td>38037</td>\n",
       "      <td>133</td>\n",
       "      <td>8188.96</td>\n",
       "    </tr>\n",
       "    <tr>\n",
       "      <th>Ma</th>\n",
       "      <td>110840</td>\n",
       "      <td>34692</td>\n",
       "      <td>866</td>\n",
       "      <td>7034.51</td>\n",
       "    </tr>\n",
       "    <tr>\n",
       "      <th>Mi</th>\n",
       "      <td>108505</td>\n",
       "      <td>33151</td>\n",
       "      <td>760</td>\n",
       "      <td>6666.58</td>\n",
       "    </tr>\n",
       "    <tr>\n",
       "      <th>Ju</th>\n",
       "      <td>102956</td>\n",
       "      <td>37403</td>\n",
       "      <td>520</td>\n",
       "      <td>6724.69</td>\n",
       "    </tr>\n",
       "    <tr>\n",
       "      <th>Vi</th>\n",
       "      <td>106286</td>\n",
       "      <td>36227</td>\n",
       "      <td>775</td>\n",
       "      <td>7061.34</td>\n",
       "    </tr>\n",
       "    <tr>\n",
       "      <th>Sa</th>\n",
       "      <td>110624</td>\n",
       "      <td>31448</td>\n",
       "      <td>46</td>\n",
       "      <td>5827.30</td>\n",
       "    </tr>\n",
       "    <tr>\n",
       "      <th>Do</th>\n",
       "      <td>2771</td>\n",
       "      <td>37376</td>\n",
       "      <td>286</td>\n",
       "      <td>8084.93</td>\n",
       "    </tr>\n",
       "  </tbody>\n",
       "</table>\n",
       "</div>"
      ],
      "text/plain": [
       "          N    max  min  promedio\n",
       "Dia                              \n",
       "Lu   106327  38037  133   8188.96\n",
       "Ma   110840  34692  866   7034.51\n",
       "Mi   108505  33151  760   6666.58\n",
       "Ju   102956  37403  520   6724.69\n",
       "Vi   106286  36227  775   7061.34\n",
       "Sa   110624  31448   46   5827.30\n",
       "Do     2771  37376  286   8084.93"
      ]
     },
     "execution_count": 55,
     "metadata": {},
     "output_type": "execute_result"
    }
   ],
   "source": [
    "nuevo7"
   ]
  },
  {
   "cell_type": "code",
   "execution_count": 56,
   "metadata": {},
   "outputs": [
    {
     "data": {
      "image/png": "[encoded data removed]",
      "text/plain": [
       "<Figure size 432x288 with 1 Axes>"
      ]
     },
     "metadata": {},
     "output_type": "display_data"
    }
   ],
   "source": [
    "plt.figure()\n",
    "plt.ylabel('Ventas') \n",
    "nuevo7['max'].plot(kind='bar',legend=True)\n",
    "plt.savefig('Ventas_dia_max.png')"
   ]
  },
  {
   "cell_type": "code",
   "execution_count": 57,
   "metadata": {},
   "outputs": [
    {
     "data": {
      "image/png": "[encoded data removed]",
      "text/plain": [
       "<Figure size 432x288 with 1 Axes>"
      ]
     },
     "metadata": {},
     "output_type": "display_data"
    }
   ],
   "source": [
    "plt.figure()\n",
    "plt.ylabel('Ventas')  \n",
    "nuevo7['min'].plot(kind='bar',legend=True)\n",
    "plt.savefig('Ventas_dia_min.png')"
   ]
  },
  {
   "cell_type": "code",
   "execution_count": 58,
   "metadata": {},
   "outputs": [
    {
     "data": {
      "image/png": "[encoded data removed]",
      "text/plain": [
       "<Figure size 432x288 with 1 Axes>"
      ]
     },
     "metadata": {},
     "output_type": "display_data"
    }
   ],
   "source": [
    "plt.figure()\n",
    "plt.ylabel('Ventas')  \n",
    "nuevo7['promedio'].plot(kind='bar',legend=True)\n",
    "plt.savefig('Ventas_dia_promedio.png')"
   ]
  },
  {
   "cell_type": "code",
   "execution_count": 59,
   "metadata": {},
   "outputs": [
    {
     "data": {
      "image/png": "[encoded data removed]",
      "text/plain": [
       "<Figure size 432x288 with 1 Axes>"
      ]
     },
     "metadata": {},
     "output_type": "display_data"
    }
   ],
   "source": [
    "plt.figure()\n",
    "plt.ylabel('Cliente')  \n",
    "nuevo7['N'].plot(kind='bar',legend=True)\n",
    "plt.savefig('Ventas_dia_N.png')"
   ]
  },
  {
   "cell_type": "markdown",
   "metadata": {},
   "source": [
    "<hr>\n",
    "<h1> competencia vs ventas</h1>\n",
    "<hr>"
   ]
  },
  {
   "cell_type": "code",
   "execution_count": 60,
   "metadata": {},
   "outputs": [],
   "source": [
    "d8 = {'Competencia': ['Si', 'No'], \n",
    "     'max': [\n",
    "             final[final.CompetitionDistance_int>0].Sales.max(),\n",
    "             final[final.CompetitionDistance_int==0].Sales.max(),\n",
    "     ],\n",
    "     'min': [\n",
    "         final[final.CompetitionDistance_int>0].Sales.min(),\n",
    "         final[final.CompetitionDistance_int==0].Sales.min(),\n",
    "     ],\n",
    "     'promedio':[\n",
    "         final[final.CompetitionDistance_int>0].Sales.mean(),\n",
    "         final[final.CompetitionDistance_int==0].Sales.mean(),\n",
    "     ],\n",
    "      'N':[\n",
    "         final[final.CompetitionDistance_int>0].Sales.count(),\n",
    "         final[final.CompetitionDistance_int==0].Sales.count(),\n",
    "      ]\n",
    "    }\n",
    "nuevo8=pd.DataFrame(d8)\n",
    "nuevo8.set_index('Competencia', inplace=True)"
   ]
  },
  {
   "cell_type": "code",
   "execution_count": 61,
   "metadata": {},
   "outputs": [
    {
     "data": {
      "text/html": [
       "<div>\n",
       "<table border=\"1\" class=\"dataframe\">\n",
       "  <thead>\n",
       "    <tr style=\"text-align: right;\">\n",
       "      <th></th>\n",
       "      <th>N</th>\n",
       "      <th>max</th>\n",
       "      <th>min</th>\n",
       "      <th>promedio</th>\n",
       "    </tr>\n",
       "    <tr>\n",
       "      <th>Competencia</th>\n",
       "      <th></th>\n",
       "      <th></th>\n",
       "      <th></th>\n",
       "      <th></th>\n",
       "    </tr>\n",
       "  </thead>\n",
       "  <tbody>\n",
       "    <tr>\n",
       "      <th>Si</th>\n",
       "      <td>646649</td>\n",
       "      <td>38037</td>\n",
       "      <td>46</td>\n",
       "      <td>6919.58</td>\n",
       "    </tr>\n",
       "    <tr>\n",
       "      <th>No</th>\n",
       "      <td>1660</td>\n",
       "      <td>21872</td>\n",
       "      <td>1366</td>\n",
       "      <td>5506.69</td>\n",
       "    </tr>\n",
       "  </tbody>\n",
       "</table>\n",
       "</div>"
      ],
      "text/plain": [
       "                  N    max   min  promedio\n",
       "Competencia                               \n",
       "Si           646649  38037    46   6919.58\n",
       "No             1660  21872  1366   5506.69"
      ]
     },
     "execution_count": 61,
     "metadata": {},
     "output_type": "execute_result"
    }
   ],
   "source": [
    "nuevo8"
   ]
  },
  {
   "cell_type": "code",
   "execution_count": 62,
   "metadata": {},
   "outputs": [
    {
     "data": {
      "image/png": "[encoded data removed]",
      "text/plain": [
       "<Figure size 432x288 with 1 Axes>"
      ]
     },
     "metadata": {},
     "output_type": "display_data"
    }
   ],
   "source": [
    "plt.figure()\n",
    "plt.ylabel('Ventas') \n",
    "nuevo8['max'].plot(kind='bar',legend=True)\n",
    "plt.savefig('Ventas_Competencia_max.png')"
   ]
  },
  {
   "cell_type": "code",
   "execution_count": 63,
   "metadata": {},
   "outputs": [
    {
     "data": {
      "image/png": "[encoded data removed]",
      "text/plain": [
       "<Figure size 432x288 with 1 Axes>"
      ]
     },
     "metadata": {},
     "output_type": "display_data"
    }
   ],
   "source": [
    "plt.figure()\n",
    "plt.ylabel('Ventas')  \n",
    "nuevo8['min'].plot(kind='bar',legend=True)\n",
    "plt.savefig('Ventas_Competencia_min.png')"
   ]
  },
  {
   "cell_type": "code",
   "execution_count": 64,
   "metadata": {},
   "outputs": [
    {
     "data": {
      "image/png": "[encoded data removed]",
      "text/plain": [
       "<Figure size 432x288 with 1 Axes>"
      ]
     },
     "metadata": {},
     "output_type": "display_data"
    }
   ],
   "source": [
    "plt.figure()\n",
    "plt.ylabel('Ventas')  \n",
    "nuevo8['promedio'].plot(kind='bar',legend=True)\n",
    "plt.savefig('Ventas_Competencia_promedio.png')"
   ]
  },
  {
   "cell_type": "code",
   "execution_count": 65,
   "metadata": {},
   "outputs": [
    {
     "data": {
      "image/png": "[encoded data removed]",
      "text/plain": [
       "<Figure size 432x288 with 1 Axes>"
      ]
     },
     "metadata": {},
     "output_type": "display_data"
    }
   ],
   "source": [
    "plt.figure()\n",
    "plt.ylabel('Cliente')  \n",
    "nuevo8['N'].plot(kind='bar',legend=True)\n",
    "plt.savefig('Ventas_Competencia_N.png')"
   ]
  },
  {
   "cell_type": "markdown",
   "metadata": {},
   "source": [
    "<hr>\n",
    "<h1> competencia vs cliente</h1>\n",
    "<hr>"
   ]
  },
  {
   "cell_type": "code",
   "execution_count": 66,
   "metadata": {},
   "outputs": [],
   "source": [
    "d9 = {'Competencia': ['Si', 'No'], \n",
    "     'max': [\n",
    "             final[final.CompetitionDistance_int>0].Customers.max(),\n",
    "             final[final.CompetitionDistance_int==0].Customers.max(),\n",
    "     ],\n",
    "     'min': [\n",
    "         final[final.CompetitionDistance_int>0].Customers.min(),\n",
    "         final[final.CompetitionDistance_int==0].Customers.min(),\n",
    "     ],\n",
    "     'promedio':[\n",
    "         final[final.CompetitionDistance_int>0].Customers.mean(),\n",
    "         final[final.CompetitionDistance_int==0].Customers.mean(),\n",
    "     ],\n",
    "      'N':[\n",
    "         final[final.CompetitionDistance_int>0].Customers.count(),\n",
    "         final[final.CompetitionDistance_int==0].Customers.count(),\n",
    "      ]\n",
    "    }\n",
    "nuevo9=pd.DataFrame(d9)\n",
    "nuevo9.set_index('Competencia', inplace=True)"
   ]
  },
  {
   "cell_type": "code",
   "execution_count": 67,
   "metadata": {},
   "outputs": [
    {
     "data": {
      "text/html": [
       "<div>\n",
       "<table border=\"1\" class=\"dataframe\">\n",
       "  <thead>\n",
       "    <tr style=\"text-align: right;\">\n",
       "      <th></th>\n",
       "      <th>N</th>\n",
       "      <th>max</th>\n",
       "      <th>min</th>\n",
       "      <th>promedio</th>\n",
       "    </tr>\n",
       "    <tr>\n",
       "      <th>Competencia</th>\n",
       "      <th></th>\n",
       "      <th></th>\n",
       "      <th></th>\n",
       "      <th></th>\n",
       "    </tr>\n",
       "  </thead>\n",
       "  <tbody>\n",
       "    <tr>\n",
       "      <th>Si</th>\n",
       "      <td>646649</td>\n",
       "      <td>7388</td>\n",
       "      <td>8</td>\n",
       "      <td>766.36</td>\n",
       "    </tr>\n",
       "    <tr>\n",
       "      <th>No</th>\n",
       "      <td>1660</td>\n",
       "      <td>1847</td>\n",
       "      <td>154</td>\n",
       "      <td>560.14</td>\n",
       "    </tr>\n",
       "  </tbody>\n",
       "</table>\n",
       "</div>"
      ],
      "text/plain": [
       "                  N   max  min  promedio\n",
       "Competencia                             \n",
       "Si           646649  7388    8    766.36\n",
       "No             1660  1847  154    560.14"
      ]
     },
     "execution_count": 67,
     "metadata": {},
     "output_type": "execute_result"
    }
   ],
   "source": [
    "nuevo9"
   ]
  },
  {
   "cell_type": "code",
   "execution_count": 68,
   "metadata": {},
   "outputs": [
    {
     "data": {
      "image/png": "[encoded data removed]",
      "text/plain": [
       "<Figure size 432x288 with 1 Axes>"
      ]
     },
     "metadata": {},
     "output_type": "display_data"
    }
   ],
   "source": [
    "plt.figure()\n",
    "plt.ylabel('Clientes') \n",
    "nuevo9['max'].plot(kind='bar',legend=True)\n",
    "plt.savefig('Clientes_Competencia_max.png')"
   ]
  },
  {
   "cell_type": "code",
   "execution_count": 69,
   "metadata": {},
   "outputs": [
    {
     "data": {
      "image/png": "[encoded data removed]",
      "text/plain": [
       "<Figure size 432x288 with 1 Axes>"
      ]
     },
     "metadata": {},
     "output_type": "display_data"
    }
   ],
   "source": [
    "plt.figure()\n",
    "plt.ylabel('Clientes')  \n",
    "nuevo9['min'].plot(kind='bar',legend=True)\n",
    "plt.savefig('clientes_Competencia_min.png')"
   ]
  },
  {
   "cell_type": "code",
   "execution_count": 70,
   "metadata": {},
   "outputs": [
    {
     "data": {
      "image/png": "[encoded data removed]",
      "text/plain": [
       "<Figure size 432x288 with 1 Axes>"
      ]
     },
     "metadata": {},
     "output_type": "display_data"
    }
   ],
   "source": [
    "plt.figure()\n",
    "plt.ylabel('Ventas')  \n",
    "nuevo9['promedio'].plot(kind='bar',legend=True)\n",
    "plt.savefig('Clientes_Competencia_promedio.png')"
   ]
  },
  {
   "cell_type": "code",
   "execution_count": 71,
   "metadata": {},
   "outputs": [
    {
     "data": {
      "image/png": "[encoded data removed]",
      "text/plain": [
       "<Figure size 432x288 with 1 Axes>"
      ]
     },
     "metadata": {},
     "output_type": "display_data"
    }
   ],
   "source": [
    "plt.figure()\n",
    "plt.ylabel('Clientes')  \n",
    "nuevo9['N'].plot(kind='bar',legend=True)\n",
    "plt.savefig('Clientes_Competencia_N.png')"
   ]
  },
  {
   "cell_type": "markdown",
   "metadata": {},
   "source": [
    "<hr><h1>Matriz dde correlacion</h1><hr>"
   ]
  },
  {
   "cell_type": "code",
   "execution_count": 72,
   "metadata": {},
   "outputs": [],
   "source": [
    "correlacion=final.corr()"
   ]
  },
  {
   "cell_type": "code",
   "execution_count": 73,
   "metadata": {},
   "outputs": [],
   "source": [
    "correlacion.to_csv('correlacion.csv')"
   ]
  },
  {
   "cell_type": "code",
   "execution_count": 74,
   "metadata": {},
   "outputs": [
    {
     "data": {
      "text/plain": [
       "<matplotlib.axes._subplots.AxesSubplot at 0x7f846332ee10>"
      ]
     },
     "execution_count": 74,
     "metadata": {},
     "output_type": "execute_result"
    },
    {
     "data": {
      "image/png": "[encoded data removed]",
      "text/plain": [
       "<Figure size 576x396 with 2 Axes>"
      ]
     },
     "metadata": {},
     "output_type": "display_data"
    }
   ],
   "source": [
    "import seaborn as sns\n",
    "sns.heatmap(correlacion)"
   ]
  },
  {
   "cell_type": "code",
   "execution_count": 76,
   "metadata": {},
   "outputs": [
    {
     "data": {
      "text/plain": [
       "Store                           -0.03\n",
       "Promo2                          -0.08\n",
       "tipo_store_a                     0.04\n",
       "tipo_store_b                    -0.04\n",
       "tipo_store_c                     0.01\n",
       "tipo_store_d                    -0.04\n",
       "tipo_assortment_a                0.10\n",
       "tipo_assortment_b               -0.06\n",
       "tipo_assortment_c               -0.09\n",
       "CompetitionDistance_int         -0.03\n",
       "CompetitionOpenSinceMonth_int    1.00\n",
       "CompetitionOpenSinceYear_int     0.79\n",
       "Promo2SinceYear_int             -0.08\n",
       "Promo2SinceWeek_int             -0.11\n",
       "PromoInterval_int               -0.07\n",
       "DayOfWeek                       -0.00\n",
       "Sales                           -0.01\n",
       "Customers                       -0.02\n",
       "Promo                            0.00\n",
       "SchoolHoliday                   -0.00\n",
       "StateHoliday_cerrado_int         0.00\n",
       "StateHoliday_public_int         -0.00\n",
       "StateHoliday_Easter_int         -0.00\n",
       "StateHoliday_Christmas_int      -0.00\n",
       "año                             -0.00\n",
       "mes                             -0.00\n",
       "dia                             -0.00\n",
       "Name: CompetitionOpenSinceMonth_int, dtype: float64"
      ]
     },
     "execution_count": 76,
     "metadata": {},
     "output_type": "execute_result"
    }
   ],
   "source": [
    "correlacion."
   ]
  },
  {
   "cell_type": "code",
   "execution_count": null,
   "metadata": {},
   "outputs": [],
   "source": []
  }
 ],
 "metadata": {
  "kernelspec": {
   "display_name": "Python 3",
   "language": "python",
   "name": "python3"
  },
  "language_info": {
   "codemirror_mode": {
    "name": "ipython",
    "version": 3
   },
   "file_extension": ".py",
   "mimetype": "text/x-python",
   "name": "python",
   "nbconvert_exporter": "python",
   "pygments_lexer": "ipython3",
   "version": "3.6.5"
  }
 },
 "nbformat": 4,
 "nbformat_minor": 2
}
