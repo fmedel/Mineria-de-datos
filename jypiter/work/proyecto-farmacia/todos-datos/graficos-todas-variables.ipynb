{
 "cells": [
  {
   "cell_type": "code",
   "execution_count": 1,
   "metadata": {},
   "outputs": [],
   "source": [
    "import pandas as pd"
   ]
  },
  {
   "cell_type": "code",
   "execution_count": 2,
   "metadata": {},
   "outputs": [],
   "source": [
    "import matplotlib.pyplot as plt"
   ]
  },
  {
   "cell_type": "code",
   "execution_count": 3,
   "metadata": {},
   "outputs": [],
   "source": [
    "f = open('../final.csv','r')\n",
    "final = pd.read_csv(f)\n",
    "final.drop('Unnamed: 0', axis=1, inplace=True)\n",
    "final.drop('Sales', axis=1, inplace=True)\n"
   ]
  },
  {
   "cell_type": "code",
   "execution_count": 4,
   "metadata": {},
   "outputs": [
    {
     "data": {
      "text/html": [
       "<div>\n",
       "<table border=\"1\" class=\"dataframe\">\n",
       "  <thead>\n",
       "    <tr style=\"text-align: right;\">\n",
       "      <th></th>\n",
       "      <th>Store</th>\n",
       "      <th>StoreType</th>\n",
       "      <th>Assortment</th>\n",
       "      <th>Promo2</th>\n",
       "      <th>CompetitionDistance_int</th>\n",
       "      <th>CompetitionOpenSinceMonth_int</th>\n",
       "      <th>CompetitionOpenSinceYear_int</th>\n",
       "      <th>Promo2SinceYear_int</th>\n",
       "      <th>Promo2SinceWeek_int</th>\n",
       "      <th>PromoInterval_int</th>\n",
       "      <th>...</th>\n",
       "      <th>SchoolHoliday</th>\n",
       "      <th>Open_int</th>\n",
       "      <th>StateHoliday_cerrado_int</th>\n",
       "      <th>StateHoliday_public_int</th>\n",
       "      <th>StateHoliday_Easter_int</th>\n",
       "      <th>StateHoliday_Christmas_int</th>\n",
       "      <th>año</th>\n",
       "      <th>mes</th>\n",
       "      <th>dia</th>\n",
       "      <th>Sales_rango</th>\n",
       "    </tr>\n",
       "  </thead>\n",
       "  <tbody>\n",
       "    <tr>\n",
       "      <th>0</th>\n",
       "      <td>1</td>\n",
       "      <td>3</td>\n",
       "      <td>1</td>\n",
       "      <td>0</td>\n",
       "      <td>1270</td>\n",
       "      <td>9</td>\n",
       "      <td>2008</td>\n",
       "      <td>0</td>\n",
       "      <td>0</td>\n",
       "      <td>0</td>\n",
       "      <td>...</td>\n",
       "      <td>1</td>\n",
       "      <td>1</td>\n",
       "      <td>1</td>\n",
       "      <td>0</td>\n",
       "      <td>0</td>\n",
       "      <td>0</td>\n",
       "      <td>2015</td>\n",
       "      <td>7</td>\n",
       "      <td>31</td>\n",
       "      <td>1</td>\n",
       "    </tr>\n",
       "    <tr>\n",
       "      <th>1</th>\n",
       "      <td>1</td>\n",
       "      <td>3</td>\n",
       "      <td>1</td>\n",
       "      <td>0</td>\n",
       "      <td>1270</td>\n",
       "      <td>9</td>\n",
       "      <td>2008</td>\n",
       "      <td>0</td>\n",
       "      <td>0</td>\n",
       "      <td>0</td>\n",
       "      <td>...</td>\n",
       "      <td>1</td>\n",
       "      <td>1</td>\n",
       "      <td>1</td>\n",
       "      <td>0</td>\n",
       "      <td>0</td>\n",
       "      <td>0</td>\n",
       "      <td>2015</td>\n",
       "      <td>7</td>\n",
       "      <td>30</td>\n",
       "      <td>1</td>\n",
       "    </tr>\n",
       "    <tr>\n",
       "      <th>2</th>\n",
       "      <td>1</td>\n",
       "      <td>3</td>\n",
       "      <td>1</td>\n",
       "      <td>0</td>\n",
       "      <td>1270</td>\n",
       "      <td>9</td>\n",
       "      <td>2008</td>\n",
       "      <td>0</td>\n",
       "      <td>0</td>\n",
       "      <td>0</td>\n",
       "      <td>...</td>\n",
       "      <td>1</td>\n",
       "      <td>1</td>\n",
       "      <td>1</td>\n",
       "      <td>0</td>\n",
       "      <td>0</td>\n",
       "      <td>0</td>\n",
       "      <td>2015</td>\n",
       "      <td>7</td>\n",
       "      <td>29</td>\n",
       "      <td>1</td>\n",
       "    </tr>\n",
       "    <tr>\n",
       "      <th>3</th>\n",
       "      <td>1</td>\n",
       "      <td>3</td>\n",
       "      <td>1</td>\n",
       "      <td>0</td>\n",
       "      <td>1270</td>\n",
       "      <td>9</td>\n",
       "      <td>2008</td>\n",
       "      <td>0</td>\n",
       "      <td>0</td>\n",
       "      <td>0</td>\n",
       "      <td>...</td>\n",
       "      <td>1</td>\n",
       "      <td>1</td>\n",
       "      <td>1</td>\n",
       "      <td>0</td>\n",
       "      <td>0</td>\n",
       "      <td>0</td>\n",
       "      <td>2015</td>\n",
       "      <td>7</td>\n",
       "      <td>28</td>\n",
       "      <td>1</td>\n",
       "    </tr>\n",
       "    <tr>\n",
       "      <th>4</th>\n",
       "      <td>1</td>\n",
       "      <td>3</td>\n",
       "      <td>1</td>\n",
       "      <td>0</td>\n",
       "      <td>1270</td>\n",
       "      <td>9</td>\n",
       "      <td>2008</td>\n",
       "      <td>0</td>\n",
       "      <td>0</td>\n",
       "      <td>0</td>\n",
       "      <td>...</td>\n",
       "      <td>1</td>\n",
       "      <td>1</td>\n",
       "      <td>1</td>\n",
       "      <td>0</td>\n",
       "      <td>0</td>\n",
       "      <td>0</td>\n",
       "      <td>2015</td>\n",
       "      <td>7</td>\n",
       "      <td>27</td>\n",
       "      <td>2</td>\n",
       "    </tr>\n",
       "  </tbody>\n",
       "</table>\n",
       "<p>5 rows × 23 columns</p>\n",
       "</div>"
      ],
      "text/plain": [
       "   Store  StoreType  Assortment  Promo2  CompetitionDistance_int  \\\n",
       "0      1          3           1       0                     1270   \n",
       "1      1          3           1       0                     1270   \n",
       "2      1          3           1       0                     1270   \n",
       "3      1          3           1       0                     1270   \n",
       "4      1          3           1       0                     1270   \n",
       "\n",
       "   CompetitionOpenSinceMonth_int  CompetitionOpenSinceYear_int  \\\n",
       "0                              9                          2008   \n",
       "1                              9                          2008   \n",
       "2                              9                          2008   \n",
       "3                              9                          2008   \n",
       "4                              9                          2008   \n",
       "\n",
       "   Promo2SinceYear_int  Promo2SinceWeek_int  PromoInterval_int     ...       \\\n",
       "0                    0                    0                  0     ...        \n",
       "1                    0                    0                  0     ...        \n",
       "2                    0                    0                  0     ...        \n",
       "3                    0                    0                  0     ...        \n",
       "4                    0                    0                  0     ...        \n",
       "\n",
       "   SchoolHoliday  Open_int  StateHoliday_cerrado_int  StateHoliday_public_int  \\\n",
       "0              1         1                         1                        0   \n",
       "1              1         1                         1                        0   \n",
       "2              1         1                         1                        0   \n",
       "3              1         1                         1                        0   \n",
       "4              1         1                         1                        0   \n",
       "\n",
       "   StateHoliday_Easter_int  StateHoliday_Christmas_int   año  mes  dia  \\\n",
       "0                        0                           0  2015    7   31   \n",
       "1                        0                           0  2015    7   30   \n",
       "2                        0                           0  2015    7   29   \n",
       "3                        0                           0  2015    7   28   \n",
       "4                        0                           0  2015    7   27   \n",
       "\n",
       "   Sales_rango  \n",
       "0            1  \n",
       "1            1  \n",
       "2            1  \n",
       "3            1  \n",
       "4            2  \n",
       "\n",
       "[5 rows x 23 columns]"
      ]
     },
     "execution_count": 4,
     "metadata": {},
     "output_type": "execute_result"
    }
   ],
   "source": [
    "final.head()"
   ]
  },
  {
   "cell_type": "code",
   "execution_count": 5,
   "metadata": {},
   "outputs": [],
   "source": [
    "def stadistica(df):\n",
    "    stack=[]\n",
    "    N=df.count()\n",
    "    stack.append(int(N))\n",
    "    minimo=df.min()\n",
    "    stack.append(int(minimo))\n",
    "    maximo=df.max()\n",
    "    stack.append(int(maximo))\n",
    "    media = df.mean()\n",
    "    stack.append(float(media))\n",
    "    mediana = df.median()\n",
    "    stack.append(float(mediana))\n",
    "    moda = df.mode()\n",
    "    stack.append(float(moda))\n",
    "    #Usamos quantile y el porcentaje.\n",
    "    p90 = df.quantile(0.9)\n",
    "    stack.append(int(p90))\n",
    "    p80 = df.quantile(0.8)\n",
    "    stack.append(int(p80))\n",
    "    p75 = df.quantile(0.75)\n",
    "    stack.append(int(p75))\n",
    "    p70 = df.quantile(0.7)\n",
    "    stack.append(int(p70))\n",
    "    p60 = df.quantile(0.6)\n",
    "    stack.append(int(p60))\n",
    "    p50 = df.quantile(0.5)\n",
    "    stack.append(int(p50))\n",
    "    p40 = df.quantile(0.4)\n",
    "    stack.append(int(p40))\n",
    "    p30 = df.quantile(0.3)\n",
    "    stack.append(int(p30))\n",
    "    p25 = df.quantile(0.25)\n",
    "    stack.append(int(p25))\n",
    "    p20 = df.quantile(0.2)\n",
    "    stack.append(int(p20))\n",
    "    p10 = df.quantile(0.1)\n",
    "    stack.append(int(p10))\n",
    "    std = df.std(ddof=0)#desviación típica\n",
    "    stack.append(float(std))\n",
    "    var = df.var(ddof=0)#varianza\n",
    "    stack.append(int(var))\n",
    "    rango = maximo-minimo #rango es la diferencia entre el máximo y el mínimo \n",
    "    stack.append(int(rango))\n",
    "    iqr = p75-p25 #rango intercuartílico o IQR , diferencia entre el tercer y el primer cuartil\n",
    "    stack.append(int(iqr))\n",
    "    cv = std/media #coeficiente de variación\n",
    "    stack.append(float(cv))\n",
    "    stack.append(int(df.sum()))\n",
    "    return stack\n",
    "def stadistica_str():\n",
    "    stack=[]\n",
    "    stack.append('N')\n",
    "    stack.append('minimo')\n",
    "    stack.append('maximo')\n",
    "    stack.append('media')\n",
    "    stack.append('mediana')\n",
    "    stack.append('moda')\n",
    "    stack.append('p90')\n",
    "    stack.append('p80')\n",
    "    stack.append('p75')\n",
    "    stack.append('p70')\n",
    "    stack.append('p60')\n",
    "    stack.append('p50')\n",
    "    stack.append('p40')\n",
    "    stack.append('p30')\n",
    "    stack.append('p25')\n",
    "    stack.append('p20')\n",
    "    stack.append('p10')\n",
    "    stack.append('std')\n",
    "    stack.append('var')\n",
    "    stack.append('rango')\n",
    "    stack.append('iqr')\n",
    "    stack.append('cv')\n",
    "    stack.append('suma')\n",
    "    return stack"
   ]
  },
  {
   "cell_type": "code",
   "execution_count": 6,
   "metadata": {},
   "outputs": [],
   "source": [
    "resultado=pd.DataFrame()\n",
    "resultado['nombre'] = stadistica_str()"
   ]
  },
  {
   "cell_type": "code",
   "execution_count": 8,
   "metadata": {},
   "outputs": [],
   "source": [
    "key=['Promo2','StoreType','Assortment','CompetitionDistance_int','Sales_rango', 'Customers','SchoolHoliday','StateHoliday_cerrado_int','StateHoliday_public_int','StateHoliday_Easter_int','StateHoliday_Christmas_int']\n",
    "for keys in key:\n",
    "    temporal= final[keys]\n",
    "    resultado[keys]=stadistica(temporal)"
   ]
  },
  {
   "cell_type": "code",
   "execution_count": 9,
   "metadata": {},
   "outputs": [],
   "source": [
    "pd.options.display.float_format = '{:.2f}'.format\n",
    "resultado.to_csv(\"resultados_estadisticos.csv\")"
   ]
  },
  {
   "cell_type": "code",
   "execution_count": 10,
   "metadata": {
    "scrolled": false
   },
   "outputs": [
    {
     "data": {
      "text/html": [
       "<div>\n",
       "<table border=\"1\" class=\"dataframe\">\n",
       "  <thead>\n",
       "    <tr style=\"text-align: right;\">\n",
       "      <th></th>\n",
       "      <th>nombre</th>\n",
       "      <th>Promo2</th>\n",
       "      <th>StoreType</th>\n",
       "      <th>Assortment</th>\n",
       "      <th>CompetitionDistance_int</th>\n",
       "      <th>Sales_rango</th>\n",
       "      <th>Customers</th>\n",
       "      <th>SchoolHoliday</th>\n",
       "      <th>StateHoliday_cerrado_int</th>\n",
       "      <th>StateHoliday_public_int</th>\n",
       "      <th>StateHoliday_Easter_int</th>\n",
       "      <th>StateHoliday_Christmas_int</th>\n",
       "    </tr>\n",
       "  </thead>\n",
       "  <tbody>\n",
       "    <tr>\n",
       "      <th>0</th>\n",
       "      <td>N</td>\n",
       "      <td>1017209.00</td>\n",
       "      <td>1017209.00</td>\n",
       "      <td>1017209.00</td>\n",
       "      <td>1017209.00</td>\n",
       "      <td>1017209.00</td>\n",
       "      <td>1017209.00</td>\n",
       "      <td>1017209.00</td>\n",
       "      <td>1017209.00</td>\n",
       "      <td>1017209.00</td>\n",
       "      <td>1017209.00</td>\n",
       "      <td>1017209.00</td>\n",
       "    </tr>\n",
       "    <tr>\n",
       "      <th>1</th>\n",
       "      <td>minimo</td>\n",
       "      <td>0.00</td>\n",
       "      <td>1.00</td>\n",
       "      <td>1.00</td>\n",
       "      <td>0.00</td>\n",
       "      <td>0.00</td>\n",
       "      <td>0.00</td>\n",
       "      <td>0.00</td>\n",
       "      <td>0.00</td>\n",
       "      <td>0.00</td>\n",
       "      <td>0.00</td>\n",
       "      <td>0.00</td>\n",
       "    </tr>\n",
       "    <tr>\n",
       "      <th>2</th>\n",
       "      <td>maximo</td>\n",
       "      <td>1.00</td>\n",
       "      <td>4.00</td>\n",
       "      <td>3.00</td>\n",
       "      <td>75860.00</td>\n",
       "      <td>3.00</td>\n",
       "      <td>7388.00</td>\n",
       "      <td>1.00</td>\n",
       "      <td>1.00</td>\n",
       "      <td>1.00</td>\n",
       "      <td>1.00</td>\n",
       "      <td>1.00</td>\n",
       "    </tr>\n",
       "    <tr>\n",
       "      <th>3</th>\n",
       "      <td>media</td>\n",
       "      <td>0.50</td>\n",
       "      <td>2.21</td>\n",
       "      <td>1.94</td>\n",
       "      <td>5415.98</td>\n",
       "      <td>1.50</td>\n",
       "      <td>633.15</td>\n",
       "      <td>0.18</td>\n",
       "      <td>0.97</td>\n",
       "      <td>0.02</td>\n",
       "      <td>0.01</td>\n",
       "      <td>0.00</td>\n",
       "    </tr>\n",
       "    <tr>\n",
       "      <th>4</th>\n",
       "      <td>mediana</td>\n",
       "      <td>1.00</td>\n",
       "      <td>1.00</td>\n",
       "      <td>1.00</td>\n",
       "      <td>2320.00</td>\n",
       "      <td>2.00</td>\n",
       "      <td>609.00</td>\n",
       "      <td>0.00</td>\n",
       "      <td>1.00</td>\n",
       "      <td>0.00</td>\n",
       "      <td>0.00</td>\n",
       "      <td>0.00</td>\n",
       "    </tr>\n",
       "    <tr>\n",
       "      <th>5</th>\n",
       "      <td>moda</td>\n",
       "      <td>1.00</td>\n",
       "      <td>1.00</td>\n",
       "      <td>1.00</td>\n",
       "      <td>250.00</td>\n",
       "      <td>3.00</td>\n",
       "      <td>0.00</td>\n",
       "      <td>0.00</td>\n",
       "      <td>1.00</td>\n",
       "      <td>0.00</td>\n",
       "      <td>0.00</td>\n",
       "      <td>0.00</td>\n",
       "    </tr>\n",
       "    <tr>\n",
       "      <th>6</th>\n",
       "      <td>p90</td>\n",
       "      <td>1.00</td>\n",
       "      <td>4.00</td>\n",
       "      <td>3.00</td>\n",
       "      <td>15710.00</td>\n",
       "      <td>3.00</td>\n",
       "      <td>1116.00</td>\n",
       "      <td>1.00</td>\n",
       "      <td>1.00</td>\n",
       "      <td>0.00</td>\n",
       "      <td>0.00</td>\n",
       "      <td>0.00</td>\n",
       "    </tr>\n",
       "    <tr>\n",
       "      <th>7</th>\n",
       "      <td>p80</td>\n",
       "      <td>1.00</td>\n",
       "      <td>4.00</td>\n",
       "      <td>3.00</td>\n",
       "      <td>8670.00</td>\n",
       "      <td>3.00</td>\n",
       "      <td>903.00</td>\n",
       "      <td>0.00</td>\n",
       "      <td>1.00</td>\n",
       "      <td>0.00</td>\n",
       "      <td>0.00</td>\n",
       "      <td>0.00</td>\n",
       "    </tr>\n",
       "    <tr>\n",
       "      <th>8</th>\n",
       "      <td>p75</td>\n",
       "      <td>1.00</td>\n",
       "      <td>4.00</td>\n",
       "      <td>3.00</td>\n",
       "      <td>6880.00</td>\n",
       "      <td>3.00</td>\n",
       "      <td>837.00</td>\n",
       "      <td>0.00</td>\n",
       "      <td>1.00</td>\n",
       "      <td>0.00</td>\n",
       "      <td>0.00</td>\n",
       "      <td>0.00</td>\n",
       "    </tr>\n",
       "    <tr>\n",
       "      <th>9</th>\n",
       "      <td>p70</td>\n",
       "      <td>1.00</td>\n",
       "      <td>4.00</td>\n",
       "      <td>3.00</td>\n",
       "      <td>5290.00</td>\n",
       "      <td>2.00</td>\n",
       "      <td>780.00</td>\n",
       "      <td>0.00</td>\n",
       "      <td>1.00</td>\n",
       "      <td>0.00</td>\n",
       "      <td>0.00</td>\n",
       "      <td>0.00</td>\n",
       "    </tr>\n",
       "    <tr>\n",
       "      <th>10</th>\n",
       "      <td>p60</td>\n",
       "      <td>1.00</td>\n",
       "      <td>3.00</td>\n",
       "      <td>3.00</td>\n",
       "      <td>3450.00</td>\n",
       "      <td>2.00</td>\n",
       "      <td>688.00</td>\n",
       "      <td>0.00</td>\n",
       "      <td>1.00</td>\n",
       "      <td>0.00</td>\n",
       "      <td>0.00</td>\n",
       "      <td>0.00</td>\n",
       "    </tr>\n",
       "    <tr>\n",
       "      <th>11</th>\n",
       "      <td>p50</td>\n",
       "      <td>1.00</td>\n",
       "      <td>1.00</td>\n",
       "      <td>1.00</td>\n",
       "      <td>2320.00</td>\n",
       "      <td>2.00</td>\n",
       "      <td>609.00</td>\n",
       "      <td>0.00</td>\n",
       "      <td>1.00</td>\n",
       "      <td>0.00</td>\n",
       "      <td>0.00</td>\n",
       "      <td>0.00</td>\n",
       "    </tr>\n",
       "    <tr>\n",
       "      <th>12</th>\n",
       "      <td>p40</td>\n",
       "      <td>0.00</td>\n",
       "      <td>1.00</td>\n",
       "      <td>1.00</td>\n",
       "      <td>1590.00</td>\n",
       "      <td>1.00</td>\n",
       "      <td>536.00</td>\n",
       "      <td>0.00</td>\n",
       "      <td>1.00</td>\n",
       "      <td>0.00</td>\n",
       "      <td>0.00</td>\n",
       "      <td>0.00</td>\n",
       "    </tr>\n",
       "    <tr>\n",
       "      <th>13</th>\n",
       "      <td>p30</td>\n",
       "      <td>0.00</td>\n",
       "      <td>1.00</td>\n",
       "      <td>1.00</td>\n",
       "      <td>1010.00</td>\n",
       "      <td>1.00</td>\n",
       "      <td>455.00</td>\n",
       "      <td>0.00</td>\n",
       "      <td>1.00</td>\n",
       "      <td>0.00</td>\n",
       "      <td>0.00</td>\n",
       "      <td>0.00</td>\n",
       "    </tr>\n",
       "    <tr>\n",
       "      <th>14</th>\n",
       "      <td>p25</td>\n",
       "      <td>0.00</td>\n",
       "      <td>1.00</td>\n",
       "      <td>1.00</td>\n",
       "      <td>700.00</td>\n",
       "      <td>1.00</td>\n",
       "      <td>405.00</td>\n",
       "      <td>0.00</td>\n",
       "      <td>1.00</td>\n",
       "      <td>0.00</td>\n",
       "      <td>0.00</td>\n",
       "      <td>0.00</td>\n",
       "    </tr>\n",
       "    <tr>\n",
       "      <th>15</th>\n",
       "      <td>p20</td>\n",
       "      <td>0.00</td>\n",
       "      <td>1.00</td>\n",
       "      <td>1.00</td>\n",
       "      <td>490.00</td>\n",
       "      <td>0.00</td>\n",
       "      <td>325.00</td>\n",
       "      <td>0.00</td>\n",
       "      <td>1.00</td>\n",
       "      <td>0.00</td>\n",
       "      <td>0.00</td>\n",
       "      <td>0.00</td>\n",
       "    </tr>\n",
       "    <tr>\n",
       "      <th>16</th>\n",
       "      <td>p10</td>\n",
       "      <td>0.00</td>\n",
       "      <td>1.00</td>\n",
       "      <td>1.00</td>\n",
       "      <td>240.00</td>\n",
       "      <td>0.00</td>\n",
       "      <td>0.00</td>\n",
       "      <td>0.00</td>\n",
       "      <td>1.00</td>\n",
       "      <td>0.00</td>\n",
       "      <td>0.00</td>\n",
       "      <td>0.00</td>\n",
       "    </tr>\n",
       "    <tr>\n",
       "      <th>17</th>\n",
       "      <td>std</td>\n",
       "      <td>0.50</td>\n",
       "      <td>1.37</td>\n",
       "      <td>0.99</td>\n",
       "      <td>7710.25</td>\n",
       "      <td>1.12</td>\n",
       "      <td>464.41</td>\n",
       "      <td>0.38</td>\n",
       "      <td>0.17</td>\n",
       "      <td>0.14</td>\n",
       "      <td>0.08</td>\n",
       "      <td>0.06</td>\n",
       "    </tr>\n",
       "    <tr>\n",
       "      <th>18</th>\n",
       "      <td>var</td>\n",
       "      <td>0.00</td>\n",
       "      <td>1.00</td>\n",
       "      <td>0.00</td>\n",
       "      <td>59447938.00</td>\n",
       "      <td>1.00</td>\n",
       "      <td>215678.00</td>\n",
       "      <td>0.00</td>\n",
       "      <td>0.00</td>\n",
       "      <td>0.00</td>\n",
       "      <td>0.00</td>\n",
       "      <td>0.00</td>\n",
       "    </tr>\n",
       "    <tr>\n",
       "      <th>19</th>\n",
       "      <td>rango</td>\n",
       "      <td>1.00</td>\n",
       "      <td>3.00</td>\n",
       "      <td>2.00</td>\n",
       "      <td>75860.00</td>\n",
       "      <td>3.00</td>\n",
       "      <td>7388.00</td>\n",
       "      <td>1.00</td>\n",
       "      <td>1.00</td>\n",
       "      <td>1.00</td>\n",
       "      <td>1.00</td>\n",
       "      <td>1.00</td>\n",
       "    </tr>\n",
       "    <tr>\n",
       "      <th>20</th>\n",
       "      <td>iqr</td>\n",
       "      <td>1.00</td>\n",
       "      <td>3.00</td>\n",
       "      <td>2.00</td>\n",
       "      <td>6180.00</td>\n",
       "      <td>2.00</td>\n",
       "      <td>432.00</td>\n",
       "      <td>0.00</td>\n",
       "      <td>0.00</td>\n",
       "      <td>0.00</td>\n",
       "      <td>0.00</td>\n",
       "      <td>0.00</td>\n",
       "    </tr>\n",
       "    <tr>\n",
       "      <th>21</th>\n",
       "      <td>cv</td>\n",
       "      <td>1.00</td>\n",
       "      <td>0.62</td>\n",
       "      <td>0.51</td>\n",
       "      <td>1.42</td>\n",
       "      <td>0.75</td>\n",
       "      <td>0.73</td>\n",
       "      <td>2.14</td>\n",
       "      <td>0.18</td>\n",
       "      <td>7.01</td>\n",
       "      <td>12.29</td>\n",
       "      <td>15.72</td>\n",
       "    </tr>\n",
       "    <tr>\n",
       "      <th>22</th>\n",
       "      <td>suma</td>\n",
       "      <td>509178.00</td>\n",
       "      <td>2245455.00</td>\n",
       "      <td>1968443.00</td>\n",
       "      <td>5509185710.00</td>\n",
       "      <td>1526295.00</td>\n",
       "      <td>644041755.00</td>\n",
       "      <td>181721.00</td>\n",
       "      <td>986159.00</td>\n",
       "      <td>20260.00</td>\n",
       "      <td>6690.00</td>\n",
       "      <td>4100.00</td>\n",
       "    </tr>\n",
       "  </tbody>\n",
       "</table>\n",
       "</div>"
      ],
      "text/plain": [
       "     nombre     Promo2  StoreType  Assortment  CompetitionDistance_int  \\\n",
       "0         N 1017209.00 1017209.00  1017209.00               1017209.00   \n",
       "1    minimo       0.00       1.00        1.00                     0.00   \n",
       "2    maximo       1.00       4.00        3.00                 75860.00   \n",
       "3     media       0.50       2.21        1.94                  5415.98   \n",
       "4   mediana       1.00       1.00        1.00                  2320.00   \n",
       "5      moda       1.00       1.00        1.00                   250.00   \n",
       "6       p90       1.00       4.00        3.00                 15710.00   \n",
       "7       p80       1.00       4.00        3.00                  8670.00   \n",
       "8       p75       1.00       4.00        3.00                  6880.00   \n",
       "9       p70       1.00       4.00        3.00                  5290.00   \n",
       "10      p60       1.00       3.00        3.00                  3450.00   \n",
       "11      p50       1.00       1.00        1.00                  2320.00   \n",
       "12      p40       0.00       1.00        1.00                  1590.00   \n",
       "13      p30       0.00       1.00        1.00                  1010.00   \n",
       "14      p25       0.00       1.00        1.00                   700.00   \n",
       "15      p20       0.00       1.00        1.00                   490.00   \n",
       "16      p10       0.00       1.00        1.00                   240.00   \n",
       "17      std       0.50       1.37        0.99                  7710.25   \n",
       "18      var       0.00       1.00        0.00              59447938.00   \n",
       "19    rango       1.00       3.00        2.00                 75860.00   \n",
       "20      iqr       1.00       3.00        2.00                  6180.00   \n",
       "21       cv       1.00       0.62        0.51                     1.42   \n",
       "22     suma  509178.00 2245455.00  1968443.00            5509185710.00   \n",
       "\n",
       "    Sales_rango    Customers  SchoolHoliday  StateHoliday_cerrado_int  \\\n",
       "0    1017209.00   1017209.00     1017209.00                1017209.00   \n",
       "1          0.00         0.00           0.00                      0.00   \n",
       "2          3.00      7388.00           1.00                      1.00   \n",
       "3          1.50       633.15           0.18                      0.97   \n",
       "4          2.00       609.00           0.00                      1.00   \n",
       "5          3.00         0.00           0.00                      1.00   \n",
       "6          3.00      1116.00           1.00                      1.00   \n",
       "7          3.00       903.00           0.00                      1.00   \n",
       "8          3.00       837.00           0.00                      1.00   \n",
       "9          2.00       780.00           0.00                      1.00   \n",
       "10         2.00       688.00           0.00                      1.00   \n",
       "11         2.00       609.00           0.00                      1.00   \n",
       "12         1.00       536.00           0.00                      1.00   \n",
       "13         1.00       455.00           0.00                      1.00   \n",
       "14         1.00       405.00           0.00                      1.00   \n",
       "15         0.00       325.00           0.00                      1.00   \n",
       "16         0.00         0.00           0.00                      1.00   \n",
       "17         1.12       464.41           0.38                      0.17   \n",
       "18         1.00    215678.00           0.00                      0.00   \n",
       "19         3.00      7388.00           1.00                      1.00   \n",
       "20         2.00       432.00           0.00                      0.00   \n",
       "21         0.75         0.73           2.14                      0.18   \n",
       "22   1526295.00 644041755.00      181721.00                 986159.00   \n",
       "\n",
       "    StateHoliday_public_int  StateHoliday_Easter_int  \\\n",
       "0                1017209.00               1017209.00   \n",
       "1                      0.00                     0.00   \n",
       "2                      1.00                     1.00   \n",
       "3                      0.02                     0.01   \n",
       "4                      0.00                     0.00   \n",
       "5                      0.00                     0.00   \n",
       "6                      0.00                     0.00   \n",
       "7                      0.00                     0.00   \n",
       "8                      0.00                     0.00   \n",
       "9                      0.00                     0.00   \n",
       "10                     0.00                     0.00   \n",
       "11                     0.00                     0.00   \n",
       "12                     0.00                     0.00   \n",
       "13                     0.00                     0.00   \n",
       "14                     0.00                     0.00   \n",
       "15                     0.00                     0.00   \n",
       "16                     0.00                     0.00   \n",
       "17                     0.14                     0.08   \n",
       "18                     0.00                     0.00   \n",
       "19                     1.00                     1.00   \n",
       "20                     0.00                     0.00   \n",
       "21                     7.01                    12.29   \n",
       "22                 20260.00                  6690.00   \n",
       "\n",
       "    StateHoliday_Christmas_int  \n",
       "0                   1017209.00  \n",
       "1                         0.00  \n",
       "2                         1.00  \n",
       "3                         0.00  \n",
       "4                         0.00  \n",
       "5                         0.00  \n",
       "6                         0.00  \n",
       "7                         0.00  \n",
       "8                         0.00  \n",
       "9                         0.00  \n",
       "10                        0.00  \n",
       "11                        0.00  \n",
       "12                        0.00  \n",
       "13                        0.00  \n",
       "14                        0.00  \n",
       "15                        0.00  \n",
       "16                        0.00  \n",
       "17                        0.06  \n",
       "18                        0.00  \n",
       "19                        1.00  \n",
       "20                        0.00  \n",
       "21                       15.72  \n",
       "22                     4100.00  "
      ]
     },
     "execution_count": 10,
     "metadata": {},
     "output_type": "execute_result"
    }
   ],
   "source": [
    "resultado"
   ]
  },
  {
   "cell_type": "markdown",
   "metadata": {},
   "source": [
    "<hr>\n",
    "<h1 id='1'> comparación distancia vs tipo store</h1>\n",
    "<hr>"
   ]
  },
  {
   "cell_type": "code",
   "execution_count": 11,
   "metadata": {},
   "outputs": [],
   "source": [
    "d = {'tipo store': ['a', 'b','c','d'], \n",
    "     'max': [\n",
    "         final[final.StoreType==1].CompetitionDistance_int.max(),\n",
    "         final[final.StoreType==2].CompetitionDistance_int.max(),\n",
    "         final[final.StoreType==3].CompetitionDistance_int.max(),\n",
    "         final[final.StoreType==4].CompetitionDistance_int.max()\n",
    "     ],\n",
    "     'min': [\n",
    "         final[final.StoreType==1].CompetitionDistance_int.min(),\n",
    "         final[final.StoreType==2].CompetitionDistance_int.min(),\n",
    "         final[final.StoreType==3].CompetitionDistance_int.min(),\n",
    "         final[final.StoreType==4].CompetitionDistance_int.min()\n",
    "     ],\n",
    "     'promedio': [\n",
    "         final[final.StoreType==1].CompetitionDistance_int.mean(),\n",
    "         final[final.StoreType==2].CompetitionDistance_int.mean(),\n",
    "         final[final.StoreType==3].CompetitionDistance_int.mean(),\n",
    "         final[final.StoreType==4].CompetitionDistance_int.mean()\n",
    "     ],\n",
    "     'N': [\n",
    "         final[final.StoreType==1].CompetitionDistance_int.count(),\n",
    "         final[final.StoreType==2].CompetitionDistance_int.count(),\n",
    "         final[final.StoreType==3].CompetitionDistance_int.count(),\n",
    "         final[final.StoreType==4].CompetitionDistance_int.count()\n",
    "     ]\n",
    "    }\n",
    "nuevo=pd.DataFrame(d)\n",
    "nuevo.set_index('tipo store', inplace=True)"
   ]
  },
  {
   "cell_type": "code",
   "execution_count": 12,
   "metadata": {},
   "outputs": [
    {
     "data": {
      "text/html": [
       "<div>\n",
       "<table border=\"1\" class=\"dataframe\">\n",
       "  <thead>\n",
       "    <tr style=\"text-align: right;\">\n",
       "      <th></th>\n",
       "      <th>N</th>\n",
       "      <th>max</th>\n",
       "      <th>min</th>\n",
       "      <th>promedio</th>\n",
       "    </tr>\n",
       "    <tr>\n",
       "      <th>tipo store</th>\n",
       "      <th></th>\n",
       "      <th></th>\n",
       "      <th></th>\n",
       "      <th></th>\n",
       "    </tr>\n",
       "  </thead>\n",
       "  <tbody>\n",
       "    <tr>\n",
       "      <th>a</th>\n",
       "      <td>551627</td>\n",
       "      <td>75860</td>\n",
       "      <td>0</td>\n",
       "      <td>5157.63</td>\n",
       "    </tr>\n",
       "    <tr>\n",
       "      <th>b</th>\n",
       "      <td>15830</td>\n",
       "      <td>3640</td>\n",
       "      <td>90</td>\n",
       "      <td>1066.06</td>\n",
       "    </tr>\n",
       "    <tr>\n",
       "      <th>c</th>\n",
       "      <td>136840</td>\n",
       "      <td>45740</td>\n",
       "      <td>40</td>\n",
       "      <td>3516.70</td>\n",
       "    </tr>\n",
       "    <tr>\n",
       "      <th>d</th>\n",
       "      <td>312912</td>\n",
       "      <td>48330</td>\n",
       "      <td>0</td>\n",
       "      <td>6922.06</td>\n",
       "    </tr>\n",
       "  </tbody>\n",
       "</table>\n",
       "</div>"
      ],
      "text/plain": [
       "                 N    max  min  promedio\n",
       "tipo store                              \n",
       "a           551627  75860    0   5157.63\n",
       "b            15830   3640   90   1066.06\n",
       "c           136840  45740   40   3516.70\n",
       "d           312912  48330    0   6922.06"
      ]
     },
     "execution_count": 12,
     "metadata": {},
     "output_type": "execute_result"
    }
   ],
   "source": [
    "nuevo"
   ]
  },
  {
   "cell_type": "code",
   "execution_count": 13,
   "metadata": {},
   "outputs": [
    {
     "data": {
      "image/png": "[encoded data removed]",
      "text/plain": [
       "<Figure size 432x288 with 1 Axes>"
      ]
     },
     "metadata": {},
     "output_type": "display_data"
    }
   ],
   "source": [
    "plt.figure()\n",
    "plt.ylabel('CompetitionDistance') \n",
    "plt.xlabel('tipo store')  \n",
    "nuevo['max'].plot(kind='bar',legend=True)\n",
    "plt.savefig('Distance_tipo_s_max.png')"
   ]
  },
  {
   "cell_type": "code",
   "execution_count": 14,
   "metadata": {},
   "outputs": [
    {
     "data": {
      "image/png": "[encoded data removed]",
      "text/plain": [
       "<Figure size 432x288 with 1 Axes>"
      ]
     },
     "metadata": {},
     "output_type": "display_data"
    }
   ],
   "source": [
    "plt.figure()\n",
    "plt.ylabel('CompetitionDistance')  \n",
    "nuevo['min'].plot(kind='bar',legend=True)\n",
    "plt.savefig('Distance_tipo_s_min.png')"
   ]
  },
  {
   "cell_type": "code",
   "execution_count": 15,
   "metadata": {},
   "outputs": [
    {
     "data": {
      "image/png": "[encoded data removed]",
      "text/plain": [
       "<Figure size 432x288 with 1 Axes>"
      ]
     },
     "metadata": {},
     "output_type": "display_data"
    }
   ],
   "source": [
    "plt.figure()\n",
    "plt.ylabel('CompetitionDistance')  \n",
    "nuevo['promedio'].plot(kind='bar',legend=True)\n",
    "plt.savefig('Distance_tipo_s_promedio.png')"
   ]
  },
  {
   "cell_type": "code",
   "execution_count": 16,
   "metadata": {},
   "outputs": [
    {
     "data": {
      "image/png": "[encoded data removed]",
      "text/plain": [
       "<Figure size 432x288 with 1 Axes>"
      ]
     },
     "metadata": {},
     "output_type": "display_data"
    }
   ],
   "source": [
    "plt.figure()\n",
    "plt.ylabel('CompetitionDistance')  \n",
    "nuevo['N'].plot(kind='bar',legend=True)\n",
    "plt.savefig('Distance_tipo_s_N.png')"
   ]
  },
  {
   "cell_type": "markdown",
   "metadata": {},
   "source": [
    "<hr>\n",
    "<h1> comparación distancia vs tipo assortment</h1>\n",
    "<hr>"
   ]
  },
  {
   "cell_type": "code",
   "execution_count": 17,
   "metadata": {},
   "outputs": [],
   "source": [
    "d2 = {'tipo assortment': ['a', 'b','c'], \n",
    "     'max': [\n",
    "         final[final.Assortment==1].CompetitionDistance_int.max(),\n",
    "         final[final.Assortment==2].CompetitionDistance_int.max(),\n",
    "         final[final.Assortment==3].CompetitionDistance_int.max()\n",
    "     ],\n",
    "     'min': [\n",
    "         final[final.Assortment==1].CompetitionDistance_int.min(),\n",
    "         final[final.Assortment==2].CompetitionDistance_int.min(),\n",
    "         final[final.Assortment==3].CompetitionDistance_int.min()\n",
    "     ],\n",
    "     'promedio': [\n",
    "         final[final.Assortment==1].CompetitionDistance_int.mean(),\n",
    "         final[final.Assortment==2].CompetitionDistance_int.mean(),\n",
    "         final[final.Assortment==3].CompetitionDistance_int.mean()\n",
    "     ],\n",
    "     'N': [\n",
    "         final[final.Assortment==1].CompetitionDistance_int.count(),\n",
    "         final[final.Assortment==2].CompetitionDistance_int.count(),\n",
    "         final[final.Assortment==3].CompetitionDistance_int.count()\n",
    "     ]\n",
    "    }\n",
    "nuevo2=pd.DataFrame(d2)\n",
    "nuevo2.set_index('tipo assortment', inplace=True)"
   ]
  },
  {
   "cell_type": "code",
   "execution_count": 18,
   "metadata": {},
   "outputs": [
    {
     "data": {
      "text/html": [
       "<div>\n",
       "<table border=\"1\" class=\"dataframe\">\n",
       "  <thead>\n",
       "    <tr style=\"text-align: right;\">\n",
       "      <th></th>\n",
       "      <th>N</th>\n",
       "      <th>max</th>\n",
       "      <th>min</th>\n",
       "      <th>promedio</th>\n",
       "    </tr>\n",
       "    <tr>\n",
       "      <th>tipo assortment</th>\n",
       "      <th></th>\n",
       "      <th></th>\n",
       "      <th></th>\n",
       "      <th></th>\n",
       "    </tr>\n",
       "  </thead>\n",
       "  <tbody>\n",
       "    <tr>\n",
       "      <th>a</th>\n",
       "      <td>537445</td>\n",
       "      <td>48330</td>\n",
       "      <td>0</td>\n",
       "      <td>4384.86</td>\n",
       "    </tr>\n",
       "    <tr>\n",
       "      <th>b</th>\n",
       "      <td>8294</td>\n",
       "      <td>3640</td>\n",
       "      <td>210</td>\n",
       "      <td>1190.82</td>\n",
       "    </tr>\n",
       "    <tr>\n",
       "      <th>c</th>\n",
       "      <td>471470</td>\n",
       "      <td>75860</td>\n",
       "      <td>0</td>\n",
       "      <td>6665.72</td>\n",
       "    </tr>\n",
       "  </tbody>\n",
       "</table>\n",
       "</div>"
      ],
      "text/plain": [
       "                      N    max  min  promedio\n",
       "tipo assortment                              \n",
       "a                537445  48330    0   4384.86\n",
       "b                  8294   3640  210   1190.82\n",
       "c                471470  75860    0   6665.72"
      ]
     },
     "execution_count": 18,
     "metadata": {},
     "output_type": "execute_result"
    }
   ],
   "source": [
    "nuevo2"
   ]
  },
  {
   "cell_type": "code",
   "execution_count": 19,
   "metadata": {},
   "outputs": [
    {
     "data": {
      "image/png": "[encoded data removed]",
      "text/plain": [
       "<Figure size 432x288 with 1 Axes>"
      ]
     },
     "metadata": {},
     "output_type": "display_data"
    }
   ],
   "source": [
    "plt.figure()\n",
    "plt.ylabel('CompetitionDistance') \n",
    "plt.xlabel('tipo store')  \n",
    "nuevo2['max'].plot(kind='bar',legend=True)\n",
    "plt.savefig('Distance_tipo_a_max.png')"
   ]
  },
  {
   "cell_type": "code",
   "execution_count": 20,
   "metadata": {},
   "outputs": [
    {
     "data": {
      "image/png": "[encoded data removed]",
      "text/plain": [
       "<Figure size 432x288 with 1 Axes>"
      ]
     },
     "metadata": {},
     "output_type": "display_data"
    }
   ],
   "source": [
    "plt.figure()\n",
    "plt.ylabel('CompetitionDistance')  \n",
    "nuevo2['min'].plot(kind='bar',legend=True)\n",
    "plt.savefig('Distance_tipo_a_min.png')"
   ]
  },
  {
   "cell_type": "code",
   "execution_count": 21,
   "metadata": {
    "scrolled": true
   },
   "outputs": [
    {
     "data": {
      "image/png": "[encoded data removed]",
      "text/plain": [
       "<Figure size 432x288 with 1 Axes>"
      ]
     },
     "metadata": {},
     "output_type": "display_data"
    }
   ],
   "source": [
    "plt.figure()\n",
    "plt.ylabel('CompetitionDistance')  \n",
    "nuevo2['promedio'].plot(kind='bar',legend=True)\n",
    "plt.savefig('Distance_tipo_a_promedio.png')"
   ]
  },
  {
   "cell_type": "code",
   "execution_count": 22,
   "metadata": {
    "scrolled": true
   },
   "outputs": [
    {
     "data": {
      "image/png": "[encoded data removed]",
      "text/plain": [
       "<Figure size 432x288 with 1 Axes>"
      ]
     },
     "metadata": {},
     "output_type": "display_data"
    }
   ],
   "source": [
    "plt.figure()\n",
    "plt.ylabel('CompetitionDistance')  \n",
    "nuevo2['N'].plot(kind='bar',legend=True)\n",
    "plt.savefig('Distance_tipo_a_N.png')"
   ]
  },
  {
   "cell_type": "markdown",
   "metadata": {},
   "source": [
    "<hr>\n",
    "<h1> comparación Sales vs tipo store</h1>\n",
    "<hr>"
   ]
  },
  {
   "cell_type": "code",
   "execution_count": 24,
   "metadata": {},
   "outputs": [],
   "source": [
    "d3 = {'tipo store': ['a', 'b','c','d'], \n",
    "     'max': [\n",
    "         final[final.StoreType==1].Sales_rango.max(),\n",
    "         final[final.StoreType==2].Sales_rango.max(),\n",
    "         final[final.StoreType==3].Sales_rango.max(),\n",
    "         final[final.StoreType==4].Sales_rango.max()\n",
    "     ],\n",
    "     'min': [\n",
    "         final[final.StoreType==1].Sales_rango.min(),\n",
    "         final[final.StoreType==2].Sales_rango.min(),\n",
    "         final[final.StoreType==3].Sales_rango.min(), \n",
    "         final[final.StoreType==4].Sales_rango.min()\n",
    "     ],\n",
    "     'promedio': [\n",
    "         final[final.StoreType==1].Sales_rango.mean(),\n",
    "         final[final.StoreType==2].Sales_rango.mean(),\n",
    "         final[final.StoreType==3].Sales_rango.mean(),\n",
    "         final[final.StoreType==4].Sales_rango.mean()\n",
    "     ],\n",
    "     'N': [\n",
    "         final[final.StoreType==1].Sales_rango.count(),\n",
    "         final[final.StoreType==2].Sales_rango.count(),\n",
    "         final[final.StoreType==3].Sales_rango.count(),\n",
    "         final[final.StoreType==4].Sales_rango.count()\n",
    "     ]\n",
    "    }\n",
    "nuevo3=pd.DataFrame(d3)\n",
    "nuevo3.set_index('tipo store', inplace=True)"
   ]
  },
  {
   "cell_type": "code",
   "execution_count": 25,
   "metadata": {},
   "outputs": [
    {
     "data": {
      "text/html": [
       "<div>\n",
       "<table border=\"1\" class=\"dataframe\">\n",
       "  <thead>\n",
       "    <tr style=\"text-align: right;\">\n",
       "      <th></th>\n",
       "      <th>N</th>\n",
       "      <th>max</th>\n",
       "      <th>min</th>\n",
       "      <th>promedio</th>\n",
       "    </tr>\n",
       "    <tr>\n",
       "      <th>tipo store</th>\n",
       "      <th></th>\n",
       "      <th></th>\n",
       "      <th></th>\n",
       "      <th></th>\n",
       "    </tr>\n",
       "  </thead>\n",
       "  <tbody>\n",
       "    <tr>\n",
       "      <th>a</th>\n",
       "      <td>551627</td>\n",
       "      <td>3</td>\n",
       "      <td>0</td>\n",
       "      <td>1.46</td>\n",
       "    </tr>\n",
       "    <tr>\n",
       "      <th>b</th>\n",
       "      <td>15830</td>\n",
       "      <td>3</td>\n",
       "      <td>0</td>\n",
       "      <td>2.33</td>\n",
       "    </tr>\n",
       "    <tr>\n",
       "      <th>c</th>\n",
       "      <td>136840</td>\n",
       "      <td>3</td>\n",
       "      <td>0</td>\n",
       "      <td>1.51</td>\n",
       "    </tr>\n",
       "    <tr>\n",
       "      <th>d</th>\n",
       "      <td>312912</td>\n",
       "      <td>3</td>\n",
       "      <td>0</td>\n",
       "      <td>1.52</td>\n",
       "    </tr>\n",
       "  </tbody>\n",
       "</table>\n",
       "</div>"
      ],
      "text/plain": [
       "                 N  max  min  promedio\n",
       "tipo store                            \n",
       "a           551627    3    0      1.46\n",
       "b            15830    3    0      2.33\n",
       "c           136840    3    0      1.51\n",
       "d           312912    3    0      1.52"
      ]
     },
     "execution_count": 25,
     "metadata": {},
     "output_type": "execute_result"
    }
   ],
   "source": [
    "nuevo3"
   ]
  },
  {
   "cell_type": "code",
   "execution_count": 26,
   "metadata": {},
   "outputs": [
    {
     "data": {
      "image/png": "[encoded data removed]",
      "text/plain": [
       "<Figure size 432x288 with 1 Axes>"
      ]
     },
     "metadata": {},
     "output_type": "display_data"
    }
   ],
   "source": [
    "plt.figure()\n",
    "plt.ylabel('sales') \n",
    "plt.xlabel('tipo store')  \n",
    "nuevo3['max'].plot(kind='bar',legend=True)\n",
    "plt.savefig('sales_tipo_s_max.png')"
   ]
  },
  {
   "cell_type": "code",
   "execution_count": 27,
   "metadata": {},
   "outputs": [
    {
     "data": {
      "image/png": "[encoded data removed]",
      "text/plain": [
       "<Figure size 432x288 with 1 Axes>"
      ]
     },
     "metadata": {},
     "output_type": "display_data"
    }
   ],
   "source": [
    "plt.figure()\n",
    "plt.ylabel('sales')  \n",
    "nuevo3['min'].plot(kind='bar',legend=True)\n",
    "plt.savefig('sales_tipo_s_min.png')"
   ]
  },
  {
   "cell_type": "code",
   "execution_count": 28,
   "metadata": {},
   "outputs": [
    {
     "data": {
      "image/png": "[encoded data removed]",
      "text/plain": [
       "<Figure size 432x288 with 1 Axes>"
      ]
     },
     "metadata": {},
     "output_type": "display_data"
    }
   ],
   "source": [
    "plt.figure()\n",
    "plt.ylabel('sales')  \n",
    "nuevo3['promedio'].plot(kind='bar',legend=True)\n",
    "plt.savefig('sales_tipo_s_promedio.png')"
   ]
  },
  {
   "cell_type": "code",
   "execution_count": 29,
   "metadata": {},
   "outputs": [
    {
     "data": {
      "image/png": "[encoded data removed]",
      "text/plain": [
       "<Figure size 432x288 with 1 Axes>"
      ]
     },
     "metadata": {},
     "output_type": "display_data"
    }
   ],
   "source": [
    "plt.figure()\n",
    "plt.ylabel('sales')  \n",
    "nuevo3['N'].plot(kind='bar',legend=True)\n",
    "plt.savefig('sales_tipo_s_N.png')"
   ]
  },
  {
   "cell_type": "markdown",
   "metadata": {},
   "source": [
    "<hr>\n",
    "<h1> comparación sales vs tipo assortment</h1>\n",
    "<hr>"
   ]
  },
  {
   "cell_type": "code",
   "execution_count": 30,
   "metadata": {},
   "outputs": [],
   "source": [
    "d4 = {'tipo assortment': ['a', 'b','c'],\n",
    "     'max': [\n",
    "         final[final.Assortment==1].Sales_rango.max(),\n",
    "         final[final.Assortment==2].Sales_rango.max(),\n",
    "         final[final.Assortment==3].Sales_rango.max()\n",
    "     ],\n",
    "     'min': [\n",
    "         final[final.Assortment==1].Sales_rango.min(),\n",
    "         final[final.Assortment==2].Sales_rango.min(),\n",
    "         final[final.Assortment==3].Sales_rango.min()\n",
    "            ],\n",
    "     'promedio': [\n",
    "         final[final.Assortment==1].Sales_rango.mean(),\n",
    "         final[final.Assortment==2].Sales_rango.mean(),\n",
    "         final[final.Assortment==3].Sales_rango.mean()\n",
    "     ],\n",
    "     'N': [\n",
    "         final[final.Assortment==1].Sales_rango.count(),\n",
    "         final[final.Assortment==2].Sales_rango.count(),\n",
    "         final[final.Assortment==3].Sales_rango.count()\n",
    "     ]\n",
    "    }\n",
    "nuevo4=pd.DataFrame(d4)\n",
    "nuevo4.set_index('tipo assortment', inplace=True)"
   ]
  },
  {
   "cell_type": "code",
   "execution_count": 31,
   "metadata": {},
   "outputs": [
    {
     "data": {
      "text/html": [
       "<div>\n",
       "<table border=\"1\" class=\"dataframe\">\n",
       "  <thead>\n",
       "    <tr style=\"text-align: right;\">\n",
       "      <th></th>\n",
       "      <th>N</th>\n",
       "      <th>max</th>\n",
       "      <th>min</th>\n",
       "      <th>promedio</th>\n",
       "    </tr>\n",
       "    <tr>\n",
       "      <th>tipo assortment</th>\n",
       "      <th></th>\n",
       "      <th></th>\n",
       "      <th></th>\n",
       "      <th></th>\n",
       "    </tr>\n",
       "  </thead>\n",
       "  <tbody>\n",
       "    <tr>\n",
       "      <th>a</th>\n",
       "      <td>537445</td>\n",
       "      <td>3</td>\n",
       "      <td>0</td>\n",
       "      <td>1.41</td>\n",
       "    </tr>\n",
       "    <tr>\n",
       "      <th>b</th>\n",
       "      <td>8294</td>\n",
       "      <td>3</td>\n",
       "      <td>0</td>\n",
       "      <td>2.15</td>\n",
       "    </tr>\n",
       "    <tr>\n",
       "      <th>c</th>\n",
       "      <td>471470</td>\n",
       "      <td>3</td>\n",
       "      <td>0</td>\n",
       "      <td>1.60</td>\n",
       "    </tr>\n",
       "  </tbody>\n",
       "</table>\n",
       "</div>"
      ],
      "text/plain": [
       "                      N  max  min  promedio\n",
       "tipo assortment                            \n",
       "a                537445    3    0      1.41\n",
       "b                  8294    3    0      2.15\n",
       "c                471470    3    0      1.60"
      ]
     },
     "execution_count": 31,
     "metadata": {},
     "output_type": "execute_result"
    }
   ],
   "source": [
    "nuevo4"
   ]
  },
  {
   "cell_type": "code",
   "execution_count": 32,
   "metadata": {},
   "outputs": [
    {
     "data": {
      "image/png": "[encoded data removed]",
      "text/plain": [
       "<Figure size 432x288 with 1 Axes>"
      ]
     },
     "metadata": {},
     "output_type": "display_data"
    }
   ],
   "source": [
    "plt.figure()\n",
    "plt.ylabel('Sales') \n",
    "plt.xlabel('tipo store')  \n",
    "nuevo4['max'].plot(kind='bar',legend=True)\n",
    "plt.savefig('sales_tipo_a_max.png')"
   ]
  },
  {
   "cell_type": "code",
   "execution_count": 33,
   "metadata": {},
   "outputs": [
    {
     "data": {
      "image/png": "[encoded data removed]",
      "text/plain": [
       "<Figure size 432x288 with 1 Axes>"
      ]
     },
     "metadata": {},
     "output_type": "display_data"
    }
   ],
   "source": [
    "plt.figure()\n",
    "plt.ylabel('sale')  \n",
    "nuevo2['min'].plot(kind='bar',legend=True)\n",
    "plt.savefig('sale_tipo_a_min.png')"
   ]
  },
  {
   "cell_type": "code",
   "execution_count": 34,
   "metadata": {
    "scrolled": true
   },
   "outputs": [
    {
     "data": {
      "image/png": "[encoded data removed]",
      "text/plain": [
       "<Figure size 432x288 with 1 Axes>"
      ]
     },
     "metadata": {},
     "output_type": "display_data"
    }
   ],
   "source": [
    "plt.figure()\n",
    "plt.ylabel('sales')  \n",
    "nuevo4['promedio'].plot(kind='bar',legend=True)\n",
    "plt.savefig('sale_tipo_a_promedio.png')"
   ]
  },
  {
   "cell_type": "code",
   "execution_count": 35,
   "metadata": {
    "scrolled": true
   },
   "outputs": [
    {
     "data": {
      "image/png": "[encoded data removed]",
      "text/plain": [
       "<Figure size 432x288 with 1 Axes>"
      ]
     },
     "metadata": {},
     "output_type": "display_data"
    }
   ],
   "source": [
    "plt.figure()\n",
    "plt.ylabel('sales')  \n",
    "nuevo4['N'].plot(kind='bar',legend=True)\n",
    "plt.savefig('sale_tipo_a_N.png')"
   ]
  },
  {
   "cell_type": "markdown",
   "metadata": {},
   "source": [
    "<hr>\n",
    "<h1> comparación Clientes vs tipo store</h1>\n",
    "<hr>"
   ]
  },
  {
   "cell_type": "code",
   "execution_count": 36,
   "metadata": {},
   "outputs": [],
   "source": [
    "d5 = {'tipo store': ['a', 'b','c','d'], \n",
    "     'max': [\n",
    "         final[final.StoreType==1].Customers.max(),\n",
    "         final[final.StoreType==2].Customers.max(),\n",
    "         final[final.StoreType==3].Customers.max(),\n",
    "         final[final.StoreType==4].Customers.max()\n",
    "     ],\n",
    "     'min': [\n",
    "         final[final.StoreType==1].Customers.min(),\n",
    "         final[final.StoreType==2].Customers.min(),\n",
    "         final[final.StoreType==3].Customers.min(),\n",
    "         final[final.StoreType==4].Customers.min()\n",
    "     ],\n",
    "     'promedio': [\n",
    "         final[final.StoreType==1].Customers.mean(),\n",
    "         final[final.StoreType==2].Customers.mean(),\n",
    "         final[final.StoreType==3].Customers.mean(),\n",
    "         final[final.StoreType==4].Customers.mean()\n",
    "     ],\n",
    "     'N': [\n",
    "         final[final.StoreType==1].Customers.count(),\n",
    "         final[final.StoreType==2].Customers.count(),\n",
    "         final[final.StoreType==3].Customers.count(),\n",
    "         final[final.StoreType==4].Customers.count()\n",
    "     ]\n",
    "    }\n",
    "nuevo5=pd.DataFrame(d5)\n",
    "nuevo5.set_index('tipo store', inplace=True)"
   ]
  },
  {
   "cell_type": "code",
   "execution_count": 37,
   "metadata": {},
   "outputs": [
    {
     "data": {
      "text/html": [
       "<div>\n",
       "<table border=\"1\" class=\"dataframe\">\n",
       "  <thead>\n",
       "    <tr style=\"text-align: right;\">\n",
       "      <th></th>\n",
       "      <th>N</th>\n",
       "      <th>max</th>\n",
       "      <th>min</th>\n",
       "      <th>promedio</th>\n",
       "    </tr>\n",
       "    <tr>\n",
       "      <th>tipo store</th>\n",
       "      <th></th>\n",
       "      <th></th>\n",
       "      <th></th>\n",
       "      <th></th>\n",
       "    </tr>\n",
       "  </thead>\n",
       "  <tbody>\n",
       "    <tr>\n",
       "      <th>a</th>\n",
       "      <td>551627</td>\n",
       "      <td>7388</td>\n",
       "      <td>0</td>\n",
       "      <td>659.03</td>\n",
       "    </tr>\n",
       "    <tr>\n",
       "      <th>b</th>\n",
       "      <td>15830</td>\n",
       "      <td>5494</td>\n",
       "      <td>0</td>\n",
       "      <td>1987.72</td>\n",
       "    </tr>\n",
       "    <tr>\n",
       "      <th>c</th>\n",
       "      <td>136840</td>\n",
       "      <td>3096</td>\n",
       "      <td>0</td>\n",
       "      <td>673.27</td>\n",
       "    </tr>\n",
       "    <tr>\n",
       "      <th>d</th>\n",
       "      <td>312912</td>\n",
       "      <td>2239</td>\n",
       "      <td>0</td>\n",
       "      <td>501.43</td>\n",
       "    </tr>\n",
       "  </tbody>\n",
       "</table>\n",
       "</div>"
      ],
      "text/plain": [
       "                 N   max  min  promedio\n",
       "tipo store                             \n",
       "a           551627  7388    0    659.03\n",
       "b            15830  5494    0   1987.72\n",
       "c           136840  3096    0    673.27\n",
       "d           312912  2239    0    501.43"
      ]
     },
     "execution_count": 37,
     "metadata": {},
     "output_type": "execute_result"
    }
   ],
   "source": [
    "nuevo5"
   ]
  },
  {
   "cell_type": "code",
   "execution_count": 38,
   "metadata": {},
   "outputs": [
    {
     "data": {
      "image/png": "[encoded data removed]",
      "text/plain": [
       "<Figure size 432x288 with 1 Axes>"
      ]
     },
     "metadata": {},
     "output_type": "display_data"
    }
   ],
   "source": [
    "plt.figure()\n",
    "plt.ylabel('Clientes') \n",
    "plt.xlabel('tipo store')  \n",
    "nuevo5['max'].plot(kind='bar',legend=True)\n",
    "plt.savefig('Clientes_tipo_s_max.png')"
   ]
  },
  {
   "cell_type": "code",
   "execution_count": 39,
   "metadata": {},
   "outputs": [
    {
     "data": {
      "image/png": "[encoded data removed]",
      "text/plain": [
       "<Figure size 432x288 with 1 Axes>"
      ]
     },
     "metadata": {},
     "output_type": "display_data"
    }
   ],
   "source": [
    "plt.figure()\n",
    "plt.ylabel('Clientes')  \n",
    "nuevo5['min'].plot(kind='bar',legend=True)\n",
    "plt.savefig('Clientes_tipo_s_min.png')"
   ]
  },
  {
   "cell_type": "code",
   "execution_count": 40,
   "metadata": {},
   "outputs": [
    {
     "data": {
      "image/png": "[encoded data removed]",
      "text/plain": [
       "<Figure size 432x288 with 1 Axes>"
      ]
     },
     "metadata": {},
     "output_type": "display_data"
    }
   ],
   "source": [
    "plt.figure()\n",
    "plt.ylabel('Clientes')  \n",
    "nuevo5['promedio'].plot(kind='bar',legend=True)\n",
    "plt.savefig('Clientes_tipo_s_promedio.png')"
   ]
  },
  {
   "cell_type": "code",
   "execution_count": 41,
   "metadata": {},
   "outputs": [
    {
     "data": {
      "image/png": "[encoded data removed]",
      "text/plain": [
       "<Figure size 432x288 with 1 Axes>"
      ]
     },
     "metadata": {},
     "output_type": "display_data"
    }
   ],
   "source": [
    "plt.figure()\n",
    "plt.ylabel('Clientes')  \n",
    "nuevo5['N'].plot(kind='bar',legend=True)\n",
    "plt.savefig('Clientes_tipo_s_N.png')"
   ]
  },
  {
   "cell_type": "markdown",
   "metadata": {},
   "source": [
    "<hr>\n",
    "<h1> comparación cliente vs tipo assortment</h1>\n",
    "<hr>"
   ]
  },
  {
   "cell_type": "code",
   "execution_count": 42,
   "metadata": {},
   "outputs": [],
   "source": [
    "d6 = {'tipo assortment': ['a', 'b','c'],\n",
    "     'max': [\n",
    "         final[final.Assortment==1].Customers.max(),\n",
    "         final[final.Assortment==2].Customers.max(),\n",
    "         final[final.Assortment==3].Customers.max()\n",
    "     ],\n",
    "     'min': [\n",
    "         final[final.Assortment==1].Customers.min(),\n",
    "         final[final.Assortment==2].Customers.min(),\n",
    "         final[final.Assortment==3].Customers.min()\n",
    "     ],\n",
    "     'promedio': [\n",
    "         final[final.Assortment==1].Customers.mean(),\n",
    "         final[final.Assortment==2].Customers.mean(),\n",
    "         final[final.Assortment==3].Customers.mean()\n",
    "     ],\n",
    "     'N': [\n",
    "         final[final.Assortment==1].Customers.count(),\n",
    "         final[final.Assortment==2].Customers.count(),\n",
    "         final[final.Assortment==3].Customers.count()\n",
    "     ]\n",
    "    }\n",
    "nuevo6=pd.DataFrame(d6)\n",
    "nuevo6.set_index('tipo assortment', inplace=True)"
   ]
  },
  {
   "cell_type": "code",
   "execution_count": 43,
   "metadata": {},
   "outputs": [
    {
     "data": {
      "text/html": [
       "<div>\n",
       "<table border=\"1\" class=\"dataframe\">\n",
       "  <thead>\n",
       "    <tr style=\"text-align: right;\">\n",
       "      <th></th>\n",
       "      <th>N</th>\n",
       "      <th>max</th>\n",
       "      <th>min</th>\n",
       "      <th>promedio</th>\n",
       "    </tr>\n",
       "    <tr>\n",
       "      <th>tipo assortment</th>\n",
       "      <th></th>\n",
       "      <th></th>\n",
       "      <th></th>\n",
       "      <th></th>\n",
       "    </tr>\n",
       "  </thead>\n",
       "  <tbody>\n",
       "    <tr>\n",
       "      <th>a</th>\n",
       "      <td>537445</td>\n",
       "      <td>7388</td>\n",
       "      <td>0</td>\n",
       "      <td>619.16</td>\n",
       "    </tr>\n",
       "    <tr>\n",
       "      <th>b</th>\n",
       "      <td>8294</td>\n",
       "      <td>4645</td>\n",
       "      <td>0</td>\n",
       "      <td>2046.36</td>\n",
       "    </tr>\n",
       "    <tr>\n",
       "      <th>c</th>\n",
       "      <td>471470</td>\n",
       "      <td>4911</td>\n",
       "      <td>0</td>\n",
       "      <td>624.22</td>\n",
       "    </tr>\n",
       "  </tbody>\n",
       "</table>\n",
       "</div>"
      ],
      "text/plain": [
       "                      N   max  min  promedio\n",
       "tipo assortment                             \n",
       "a                537445  7388    0    619.16\n",
       "b                  8294  4645    0   2046.36\n",
       "c                471470  4911    0    624.22"
      ]
     },
     "execution_count": 43,
     "metadata": {},
     "output_type": "execute_result"
    }
   ],
   "source": [
    "nuevo6"
   ]
  },
  {
   "cell_type": "code",
   "execution_count": 44,
   "metadata": {},
   "outputs": [
    {
     "data": {
      "image/png": "[encoded data removed]",
      "text/plain": [
       "<Figure size 432x288 with 1 Axes>"
      ]
     },
     "metadata": {},
     "output_type": "display_data"
    }
   ],
   "source": [
    "plt.figure()\n",
    "plt.ylabel('Cliente') \n",
    "plt.xlabel('tipo store')  \n",
    "nuevo6['max'].plot(kind='bar',legend=True)\n",
    "plt.savefig('cliente_tipo_a_max.png')"
   ]
  },
  {
   "cell_type": "code",
   "execution_count": 45,
   "metadata": {},
   "outputs": [
    {
     "data": {
      "image/png": "[encoded data removed]",
      "text/plain": [
       "<Figure size 432x288 with 1 Axes>"
      ]
     },
     "metadata": {},
     "output_type": "display_data"
    }
   ],
   "source": [
    "plt.figure()\n",
    "plt.ylabel('cliente')  \n",
    "nuevo6['min'].plot(kind='bar',legend=True)\n",
    "plt.savefig('cliente_tipo_a_min.png')"
   ]
  },
  {
   "cell_type": "code",
   "execution_count": 46,
   "metadata": {
    "scrolled": true
   },
   "outputs": [
    {
     "data": {
      "image/png": "[encoded data removed]",
      "text/plain": [
       "<Figure size 432x288 with 1 Axes>"
      ]
     },
     "metadata": {},
     "output_type": "display_data"
    }
   ],
   "source": [
    "plt.figure()\n",
    "plt.ylabel('Cliente')  \n",
    "nuevo6['promedio'].plot(kind='bar',legend=True)\n",
    "plt.savefig('cliente_tipo_a_promedio.png')"
   ]
  },
  {
   "cell_type": "code",
   "execution_count": 47,
   "metadata": {
    "scrolled": true
   },
   "outputs": [
    {
     "data": {
      "image/png": "[encoded data removed]",
      "text/plain": [
       "<Figure size 432x288 with 1 Axes>"
      ]
     },
     "metadata": {},
     "output_type": "display_data"
    }
   ],
   "source": [
    "plt.figure()\n",
    "plt.ylabel('Tiendas')  \n",
    "nuevo6['N'].plot(kind='bar',legend=True)\n",
    "plt.savefig('cliente_tipo_a_N.png')"
   ]
  },
  {
   "cell_type": "markdown",
   "metadata": {},
   "source": [
    "<hr>\n",
    "<h1> comparación Clientes vs dia</h1>\n",
    "<hr>"
   ]
  },
  {
   "cell_type": "code",
   "execution_count": 48,
   "metadata": {},
   "outputs": [],
   "source": [
    "d6 = {'Dia': ['Lu', 'Ma','Mi','Ju','Vi','Sa','Do'], \n",
    "     'max': [\n",
    "             final[final.DayOfWeek==1].Customers.max(),\n",
    "             final[final.DayOfWeek==2].Customers.max(),\n",
    "             final[final.DayOfWeek==3].Customers.max(),\n",
    "             final[final.DayOfWeek==4].Customers.max(),\n",
    "             final[final.DayOfWeek==5].Customers.max(),\n",
    "             final[final.DayOfWeek==6].Customers.max(),\n",
    "             final[final.DayOfWeek==7].Customers.max(),\n",
    "     ],\n",
    "     'min': [\n",
    "         final[final.DayOfWeek==1].Customers.min(),\n",
    "         final[final.DayOfWeek==2].Customers.min(),\n",
    "         final[final.DayOfWeek==3].Customers.min(), \n",
    "         final[final.DayOfWeek==4].Customers.min(),\n",
    "         final[final.DayOfWeek==5].Customers.min(),\n",
    "         final[final.DayOfWeek==6].Customers.min(),\n",
    "         final[final.DayOfWeek==7].Customers.min(), \n",
    "     ],\n",
    "     'promedio':[\n",
    "         final[final.DayOfWeek==1].Customers.mean(),\n",
    "         final[final.DayOfWeek==2].Customers.mean(),\n",
    "         final[final.DayOfWeek==3].Customers.mean(),\n",
    "         final[final.DayOfWeek==4].Customers.mean(),\n",
    "         final[final.DayOfWeek==5].Customers.mean(),\n",
    "         final[final.DayOfWeek==6].Customers.mean(),\n",
    "         final[final.DayOfWeek==7].Customers.mean()\n",
    "     ],\n",
    "         'N':[\n",
    "         final[final.DayOfWeek==1].Customers.count(),\n",
    "         final[final.DayOfWeek==2].Customers.count(),\n",
    "         final[final.DayOfWeek==3].Customers.count(),\n",
    "         final[final.DayOfWeek==4].Customers.count(),\n",
    "         final[final.DayOfWeek==5].Customers.count(),\n",
    "         final[final.DayOfWeek==6].Customers.count(),\n",
    "         final[final.DayOfWeek==7].Customers.count()\n",
    "     ]\n",
    "    }\n",
    "nuevo6=pd.DataFrame(d6)\n",
    "nuevo6.set_index('Dia', inplace=True)"
   ]
  },
  {
   "cell_type": "code",
   "execution_count": 49,
   "metadata": {},
   "outputs": [
    {
     "data": {
      "text/html": [
       "<div>\n",
       "<table border=\"1\" class=\"dataframe\">\n",
       "  <thead>\n",
       "    <tr style=\"text-align: right;\">\n",
       "      <th></th>\n",
       "      <th>N</th>\n",
       "      <th>max</th>\n",
       "      <th>min</th>\n",
       "      <th>promedio</th>\n",
       "    </tr>\n",
       "    <tr>\n",
       "      <th>Dia</th>\n",
       "      <th></th>\n",
       "      <th></th>\n",
       "      <th></th>\n",
       "      <th></th>\n",
       "    </tr>\n",
       "  </thead>\n",
       "  <tbody>\n",
       "    <tr>\n",
       "      <th>Lu</th>\n",
       "      <td>144730</td>\n",
       "      <td>5387</td>\n",
       "      <td>0</td>\n",
       "      <td>813.07</td>\n",
       "    </tr>\n",
       "    <tr>\n",
       "      <th>Ma</th>\n",
       "      <td>145664</td>\n",
       "      <td>7388</td>\n",
       "      <td>0</td>\n",
       "      <td>760.98</td>\n",
       "    </tr>\n",
       "    <tr>\n",
       "      <th>Mi</th>\n",
       "      <td>145665</td>\n",
       "      <td>5106</td>\n",
       "      <td>0</td>\n",
       "      <td>721.64</td>\n",
       "    </tr>\n",
       "    <tr>\n",
       "      <th>Ju</th>\n",
       "      <td>145845</td>\n",
       "      <td>5297</td>\n",
       "      <td>0</td>\n",
       "      <td>697.54</td>\n",
       "    </tr>\n",
       "    <tr>\n",
       "      <th>Vi</th>\n",
       "      <td>145845</td>\n",
       "      <td>5494</td>\n",
       "      <td>0</td>\n",
       "      <td>743.15</td>\n",
       "    </tr>\n",
       "    <tr>\n",
       "      <th>Sa</th>\n",
       "      <td>144730</td>\n",
       "      <td>4762</td>\n",
       "      <td>0</td>\n",
       "      <td>657.11</td>\n",
       "    </tr>\n",
       "    <tr>\n",
       "      <th>Do</th>\n",
       "      <td>144730</td>\n",
       "      <td>5145</td>\n",
       "      <td>0</td>\n",
       "      <td>35.79</td>\n",
       "    </tr>\n",
       "  </tbody>\n",
       "</table>\n",
       "</div>"
      ],
      "text/plain": [
       "          N   max  min  promedio\n",
       "Dia                             \n",
       "Lu   144730  5387    0    813.07\n",
       "Ma   145664  7388    0    760.98\n",
       "Mi   145665  5106    0    721.64\n",
       "Ju   145845  5297    0    697.54\n",
       "Vi   145845  5494    0    743.15\n",
       "Sa   144730  4762    0    657.11\n",
       "Do   144730  5145    0     35.79"
      ]
     },
     "execution_count": 49,
     "metadata": {},
     "output_type": "execute_result"
    }
   ],
   "source": [
    "nuevo6"
   ]
  },
  {
   "cell_type": "code",
   "execution_count": 50,
   "metadata": {},
   "outputs": [
    {
     "data": {
      "image/png": "[encoded data removed]",
      "text/plain": [
       "<Figure size 432x288 with 1 Axes>"
      ]
     },
     "metadata": {},
     "output_type": "display_data"
    }
   ],
   "source": [
    "plt.figure()\n",
    "plt.ylabel('Clientes') \n",
    "nuevo6['max'].plot(kind='bar',legend=True)\n",
    "plt.savefig('Clientes_dia_max.png')"
   ]
  },
  {
   "cell_type": "code",
   "execution_count": 51,
   "metadata": {},
   "outputs": [
    {
     "data": {
      "image/png": "[encoded data removed]",
      "text/plain": [
       "<Figure size 432x288 with 1 Axes>"
      ]
     },
     "metadata": {},
     "output_type": "display_data"
    }
   ],
   "source": [
    "plt.figure()\n",
    "plt.ylabel('Clientes')  \n",
    "nuevo6['min'].plot(kind='bar',legend=True)\n",
    "plt.savefig('Clientes_dia_min.png')"
   ]
  },
  {
   "cell_type": "code",
   "execution_count": 52,
   "metadata": {},
   "outputs": [
    {
     "data": {
      "image/png": "[encoded data removed]",
      "text/plain": [
       "<Figure size 432x288 with 1 Axes>"
      ]
     },
     "metadata": {},
     "output_type": "display_data"
    }
   ],
   "source": [
    "plt.figure()\n",
    "plt.ylabel('Clientes')  \n",
    "nuevo6['promedio'].plot(kind='bar',legend=True)\n",
    "plt.savefig('Clientes_dia_promedio.png')"
   ]
  },
  {
   "cell_type": "code",
   "execution_count": 53,
   "metadata": {},
   "outputs": [
    {
     "data": {
      "image/png": "[encoded data removed]",
      "text/plain": [
       "<Figure size 432x288 with 1 Axes>"
      ]
     },
     "metadata": {},
     "output_type": "display_data"
    }
   ],
   "source": [
    "plt.figure()\n",
    "plt.ylabel('Clientes')  \n",
    "nuevo6['N'].plot(kind='bar',legend=True)\n",
    "plt.savefig('Clientes_dia_N.png')"
   ]
  },
  {
   "cell_type": "markdown",
   "metadata": {},
   "source": [
    "<hr>\n",
    "<h1> comparación Dia vs ventas</h1>\n",
    "<hr>"
   ]
  },
  {
   "cell_type": "code",
   "execution_count": 55,
   "metadata": {},
   "outputs": [],
   "source": [
    "d7 = {'Dia': ['Lu', 'Ma','Mi','Ju','Vi','Sa','Do'], \n",
    "     'max': [\n",
    "             final[final.DayOfWeek==1].Sales_rango.max(),\n",
    "             final[final.DayOfWeek==2].Sales_rango.max(),\n",
    "             final[final.DayOfWeek==3].Sales_rango.max(),\n",
    "             final[final.DayOfWeek==4].Sales_rango.max(),\n",
    "             final[final.DayOfWeek==5].Sales_rango.max(),\n",
    "             final[final.DayOfWeek==6].Sales_rango.max(),\n",
    "             final[final.DayOfWeek==7].Sales_rango.max(),\n",
    "     ],\n",
    "     'min': [\n",
    "         final[final.DayOfWeek==1].Sales_rango.min(),\n",
    "         final[final.DayOfWeek==2].Sales_rango.min(),\n",
    "         final[final.DayOfWeek==3].Sales_rango.min(), \n",
    "         final[final.DayOfWeek==4].Sales_rango.min(),\n",
    "         final[final.DayOfWeek==5].Sales_rango.min(),\n",
    "         final[final.DayOfWeek==6].Sales_rango.min(),\n",
    "         final[final.DayOfWeek==7].Sales_rango.min(), \n",
    "     ],\n",
    "     'promedio':[\n",
    "         final[final.DayOfWeek==1].Sales_rango.mean(),\n",
    "         final[final.DayOfWeek==2].Sales_rango.mean(),\n",
    "         final[final.DayOfWeek==3].Sales_rango.mean(),\n",
    "         final[final.DayOfWeek==4].Sales_rango.mean(),\n",
    "         final[final.DayOfWeek==5].Sales_rango.mean(),\n",
    "         final[final.DayOfWeek==6].Sales_rango.mean(),\n",
    "         final[final.DayOfWeek==7].Sales_rango.mean()\n",
    "     ],\n",
    "      'N':[\n",
    "         final[final.DayOfWeek==1].Sales_rango.count(),\n",
    "         final[final.DayOfWeek==2].Sales_rango.count(),\n",
    "         final[final.DayOfWeek==3].Sales_rango.count(),\n",
    "         final[final.DayOfWeek==4].Sales_rango.count(),\n",
    "         final[final.DayOfWeek==5].Sales_rango.count(),\n",
    "         final[final.DayOfWeek==6].Sales_rango.count(),\n",
    "         final[final.DayOfWeek==7].Sales_rango.count()\n",
    "      ]\n",
    "    }\n",
    "nuevo7=pd.DataFrame(d7)\n",
    "nuevo7.set_index('Dia', inplace=True)"
   ]
  },
  {
   "cell_type": "code",
   "execution_count": 56,
   "metadata": {},
   "outputs": [
    {
     "data": {
      "text/html": [
       "<div>\n",
       "<table border=\"1\" class=\"dataframe\">\n",
       "  <thead>\n",
       "    <tr style=\"text-align: right;\">\n",
       "      <th></th>\n",
       "      <th>N</th>\n",
       "      <th>max</th>\n",
       "      <th>min</th>\n",
       "      <th>promedio</th>\n",
       "    </tr>\n",
       "    <tr>\n",
       "      <th>Dia</th>\n",
       "      <th></th>\n",
       "      <th></th>\n",
       "      <th></th>\n",
       "      <th></th>\n",
       "    </tr>\n",
       "  </thead>\n",
       "  <tbody>\n",
       "    <tr>\n",
       "      <th>Lu</th>\n",
       "      <td>144730</td>\n",
       "      <td>3</td>\n",
       "      <td>0</td>\n",
       "      <td>2.03</td>\n",
       "    </tr>\n",
       "    <tr>\n",
       "      <th>Ma</th>\n",
       "      <td>145664</td>\n",
       "      <td>3</td>\n",
       "      <td>0</td>\n",
       "      <td>1.84</td>\n",
       "    </tr>\n",
       "    <tr>\n",
       "      <th>Mi</th>\n",
       "      <td>145665</td>\n",
       "      <td>3</td>\n",
       "      <td>0</td>\n",
       "      <td>1.72</td>\n",
       "    </tr>\n",
       "    <tr>\n",
       "      <th>Ju</th>\n",
       "      <td>145845</td>\n",
       "      <td>3</td>\n",
       "      <td>0</td>\n",
       "      <td>1.65</td>\n",
       "    </tr>\n",
       "    <tr>\n",
       "      <th>Vi</th>\n",
       "      <td>145845</td>\n",
       "      <td>3</td>\n",
       "      <td>0</td>\n",
       "      <td>1.81</td>\n",
       "    </tr>\n",
       "    <tr>\n",
       "      <th>Sa</th>\n",
       "      <td>144730</td>\n",
       "      <td>3</td>\n",
       "      <td>0</td>\n",
       "      <td>1.41</td>\n",
       "    </tr>\n",
       "    <tr>\n",
       "      <th>Do</th>\n",
       "      <td>144730</td>\n",
       "      <td>3</td>\n",
       "      <td>0</td>\n",
       "      <td>0.04</td>\n",
       "    </tr>\n",
       "  </tbody>\n",
       "</table>\n",
       "</div>"
      ],
      "text/plain": [
       "          N  max  min  promedio\n",
       "Dia                            \n",
       "Lu   144730    3    0      2.03\n",
       "Ma   145664    3    0      1.84\n",
       "Mi   145665    3    0      1.72\n",
       "Ju   145845    3    0      1.65\n",
       "Vi   145845    3    0      1.81\n",
       "Sa   144730    3    0      1.41\n",
       "Do   144730    3    0      0.04"
      ]
     },
     "execution_count": 56,
     "metadata": {},
     "output_type": "execute_result"
    }
   ],
   "source": [
    "nuevo7"
   ]
  },
  {
   "cell_type": "code",
   "execution_count": 57,
   "metadata": {},
   "outputs": [
    {
     "data": {
      "image/png": "[encoded data removed]",
      "text/plain": [
       "<Figure size 432x288 with 1 Axes>"
      ]
     },
     "metadata": {},
     "output_type": "display_data"
    }
   ],
   "source": [
    "plt.figure()\n",
    "plt.ylabel('Ventas') \n",
    "nuevo7['max'].plot(kind='bar',legend=True)\n",
    "plt.savefig('Ventas_dia_max.png')"
   ]
  },
  {
   "cell_type": "code",
   "execution_count": 58,
   "metadata": {},
   "outputs": [
    {
     "data": {
      "image/png": "[encoded data removed]",
      "text/plain": [
       "<Figure size 432x288 with 1 Axes>"
      ]
     },
     "metadata": {},
     "output_type": "display_data"
    }
   ],
   "source": [
    "plt.figure()\n",
    "plt.ylabel('Ventas')  \n",
    "nuevo7['min'].plot(kind='bar',legend=True)\n",
    "plt.savefig('Ventas_dia_min.png')"
   ]
  },
  {
   "cell_type": "code",
   "execution_count": 59,
   "metadata": {},
   "outputs": [
    {
     "data": {
      "image/png": "[encoded data removed]",
      "text/plain": [
       "<Figure size 432x288 with 1 Axes>"
      ]
     },
     "metadata": {},
     "output_type": "display_data"
    }
   ],
   "source": [
    "plt.figure()\n",
    "plt.ylabel('Ventas')  \n",
    "nuevo7['promedio'].plot(kind='bar',legend=True)\n",
    "plt.savefig('Ventas_dia_promedio.png')"
   ]
  },
  {
   "cell_type": "code",
   "execution_count": 60,
   "metadata": {},
   "outputs": [
    {
     "data": {
      "image/png": "[encoded data removed]",
      "text/plain": [
       "<Figure size 432x288 with 1 Axes>"
      ]
     },
     "metadata": {},
     "output_type": "display_data"
    }
   ],
   "source": [
    "plt.figure()\n",
    "plt.ylabel('Cliente')  \n",
    "nuevo7['N'].plot(kind='bar',legend=True)\n",
    "plt.savefig('Ventas_dia_N.png')"
   ]
  },
  {
   "cell_type": "markdown",
   "metadata": {},
   "source": [
    "<h1> competencia vs ventas</h1>"
   ]
  },
  {
   "cell_type": "code",
   "execution_count": 61,
   "metadata": {},
   "outputs": [],
   "source": [
    "d8 = {'Competencia': ['Si', 'No'], \n",
    "     'max': [\n",
    "             final[final.CompetitionDistance_int>0].Sales_rango.max(),\n",
    "             final[final.CompetitionDistance_int==0].Sales_rango.max(),\n",
    "     ],\n",
    "     'min': [\n",
    "         final[final.CompetitionDistance_int>0].Sales_rango.min(),\n",
    "         final[final.CompetitionDistance_int==0].Sales_rango.min(),\n",
    "     ],\n",
    "     'promedio':[\n",
    "         final[final.CompetitionDistance_int>0].Sales_rango.mean(),\n",
    "         final[final.CompetitionDistance_int==0].Sales_rango.mean(),\n",
    "     ],\n",
    "      'N':[\n",
    "         final[final.CompetitionDistance_int>0].Sales_rango.count(),\n",
    "         final[final.CompetitionDistance_int==0].Sales_rango.count(),\n",
    "      ]\n",
    "    }\n",
    "nuevo8=pd.DataFrame(d8)\n",
    "nuevo8.set_index('Competencia', inplace=True)"
   ]
  },
  {
   "cell_type": "code",
   "execution_count": 62,
   "metadata": {},
   "outputs": [
    {
     "data": {
      "text/html": [
       "<div>\n",
       "<table border=\"1\" class=\"dataframe\">\n",
       "  <thead>\n",
       "    <tr style=\"text-align: right;\">\n",
       "      <th></th>\n",
       "      <th>N</th>\n",
       "      <th>max</th>\n",
       "      <th>min</th>\n",
       "      <th>promedio</th>\n",
       "    </tr>\n",
       "    <tr>\n",
       "      <th>Competencia</th>\n",
       "      <th></th>\n",
       "      <th></th>\n",
       "      <th></th>\n",
       "      <th></th>\n",
       "    </tr>\n",
       "  </thead>\n",
       "  <tbody>\n",
       "    <tr>\n",
       "      <th>Si</th>\n",
       "      <td>1014567</td>\n",
       "      <td>3</td>\n",
       "      <td>0</td>\n",
       "      <td>1.50</td>\n",
       "    </tr>\n",
       "    <tr>\n",
       "      <th>No</th>\n",
       "      <td>2642</td>\n",
       "      <td>3</td>\n",
       "      <td>0</td>\n",
       "      <td>1.04</td>\n",
       "    </tr>\n",
       "  </tbody>\n",
       "</table>\n",
       "</div>"
      ],
      "text/plain": [
       "                   N  max  min  promedio\n",
       "Competencia                             \n",
       "Si           1014567    3    0      1.50\n",
       "No              2642    3    0      1.04"
      ]
     },
     "execution_count": 62,
     "metadata": {},
     "output_type": "execute_result"
    }
   ],
   "source": [
    "nuevo8"
   ]
  },
  {
   "cell_type": "code",
   "execution_count": 63,
   "metadata": {},
   "outputs": [
    {
     "data": {
      "image/png": "[encoded data removed]",
      "text/plain": [
       "<Figure size 432x288 with 1 Axes>"
      ]
     },
     "metadata": {},
     "output_type": "display_data"
    }
   ],
   "source": [
    "plt.figure()\n",
    "plt.ylabel('Ventas') \n",
    "nuevo8['max'].plot(kind='bar',legend=True)\n",
    "plt.savefig('Ventas_Competencia_max.png')\n"
   ]
  },
  {
   "cell_type": "code",
   "execution_count": 64,
   "metadata": {},
   "outputs": [
    {
     "data": {
      "image/png": "[encoded data removed]",
      "text/plain": [
       "<Figure size 432x288 with 1 Axes>"
      ]
     },
     "metadata": {},
     "output_type": "display_data"
    }
   ],
   "source": [
    "plt.figure()\n",
    "plt.ylabel('Ventas')  \n",
    "nuevo8['min'].plot(kind='bar',legend=True)\n",
    "plt.savefig('Ventas_Competencia_min.png')"
   ]
  },
  {
   "cell_type": "code",
   "execution_count": 65,
   "metadata": {},
   "outputs": [
    {
     "data": {
      "image/png": "[encoded data removed]",
      "text/plain": [
       "<Figure size 432x288 with 1 Axes>"
      ]
     },
     "metadata": {},
     "output_type": "display_data"
    }
   ],
   "source": [
    "plt.figure()\n",
    "plt.ylabel('Ventas')  \n",
    "nuevo8['promedio'].plot(kind='bar',legend=True)\n",
    "plt.savefig('Ventas_Competencia_promedio.png')"
   ]
  },
  {
   "cell_type": "code",
   "execution_count": 66,
   "metadata": {},
   "outputs": [
    {
     "data": {
      "image/png": "[encoded data removed]",
      "text/plain": [
       "<Figure size 432x288 with 1 Axes>"
      ]
     },
     "metadata": {},
     "output_type": "display_data"
    }
   ],
   "source": [
    "plt.figure()\n",
    "plt.ylabel('Cliente')  \n",
    "nuevo8['N'].plot(kind='bar',legend=True)\n",
    "plt.savefig('Ventas_Competencia_N.png')"
   ]
  },
  {
   "cell_type": "markdown",
   "metadata": {},
   "source": [
    "<h1> competencia vs cliente</h1>"
   ]
  },
  {
   "cell_type": "code",
   "execution_count": 67,
   "metadata": {},
   "outputs": [],
   "source": [
    "d9 = {'Competencia': ['Si', 'No'], \n",
    "     'max': [\n",
    "             final[final.CompetitionDistance_int>0].Customers.max(),\n",
    "             final[final.CompetitionDistance_int==0].Customers.max(),\n",
    "     ],\n",
    "     'min': [\n",
    "         final[final.CompetitionDistance_int>0].Customers.min(),\n",
    "         final[final.CompetitionDistance_int==0].Customers.min(),\n",
    "     ],\n",
    "     'promedio':[\n",
    "         final[final.CompetitionDistance_int>0].Customers.mean(),\n",
    "         final[final.CompetitionDistance_int==0].Customers.mean(),\n",
    "     ],\n",
    "      'N':[\n",
    "         final[final.CompetitionDistance_int>0].Customers.count(),\n",
    "         final[final.CompetitionDistance_int==0].Customers.count(),\n",
    "      ]\n",
    "    }\n",
    "nuevo9=pd.DataFrame(d9)\n",
    "nuevo9.set_index('Competencia', inplace=True)"
   ]
  },
  {
   "cell_type": "code",
   "execution_count": 68,
   "metadata": {},
   "outputs": [
    {
     "data": {
      "text/html": [
       "<div>\n",
       "<table border=\"1\" class=\"dataframe\">\n",
       "  <thead>\n",
       "    <tr style=\"text-align: right;\">\n",
       "      <th></th>\n",
       "      <th>N</th>\n",
       "      <th>max</th>\n",
       "      <th>min</th>\n",
       "      <th>promedio</th>\n",
       "    </tr>\n",
       "    <tr>\n",
       "      <th>Competencia</th>\n",
       "      <th></th>\n",
       "      <th></th>\n",
       "      <th></th>\n",
       "      <th></th>\n",
       "    </tr>\n",
       "  </thead>\n",
       "  <tbody>\n",
       "    <tr>\n",
       "      <th>Si</th>\n",
       "      <td>1014567</td>\n",
       "      <td>7388</td>\n",
       "      <td>0</td>\n",
       "      <td>633.60</td>\n",
       "    </tr>\n",
       "    <tr>\n",
       "      <th>No</th>\n",
       "      <td>2642</td>\n",
       "      <td>1847</td>\n",
       "      <td>0</td>\n",
       "      <td>457.47</td>\n",
       "    </tr>\n",
       "  </tbody>\n",
       "</table>\n",
       "</div>"
      ],
      "text/plain": [
       "                   N   max  min  promedio\n",
       "Competencia                              \n",
       "Si           1014567  7388    0    633.60\n",
       "No              2642  1847    0    457.47"
      ]
     },
     "execution_count": 68,
     "metadata": {},
     "output_type": "execute_result"
    }
   ],
   "source": [
    "nuevo9"
   ]
  },
  {
   "cell_type": "code",
   "execution_count": 69,
   "metadata": {},
   "outputs": [
    {
     "data": {
      "image/png": "[encoded data removed]",
      "text/plain": [
       "<Figure size 432x288 with 1 Axes>"
      ]
     },
     "metadata": {},
     "output_type": "display_data"
    }
   ],
   "source": [
    "plt.figure()\n",
    "plt.ylabel('Clientes') \n",
    "nuevo9['max'].plot(kind='bar',legend=True)\n",
    "plt.savefig('Clientes_Competencia_max.png')"
   ]
  },
  {
   "cell_type": "code",
   "execution_count": 70,
   "metadata": {},
   "outputs": [
    {
     "data": {
      "image/png": "[encoded data removed]",
      "text/plain": [
       "<Figure size 432x288 with 1 Axes>"
      ]
     },
     "metadata": {},
     "output_type": "display_data"
    }
   ],
   "source": [
    "plt.figure()\n",
    "plt.ylabel('Clientes')  \n",
    "nuevo9['min'].plot(kind='bar',legend=True)\n",
    "plt.savefig('clientes_Competencia_min.png')"
   ]
  },
  {
   "cell_type": "code",
   "execution_count": 71,
   "metadata": {},
   "outputs": [
    {
     "data": {
      "image/png": "[encoded data removed]",
      "text/plain": [
       "<Figure size 432x288 with 1 Axes>"
      ]
     },
     "metadata": {},
     "output_type": "display_data"
    }
   ],
   "source": [
    "plt.figure()\n",
    "plt.ylabel('Ventas')  \n",
    "nuevo9['promedio'].plot(kind='bar',legend=True)\n",
    "plt.savefig('Clientes_Competencia_promedio.png')"
   ]
  },
  {
   "cell_type": "code",
   "execution_count": 72,
   "metadata": {},
   "outputs": [
    {
     "data": {
      "image/png": "[encoded data removed]",
      "text/plain": [
       "<Figure size 432x288 with 1 Axes>"
      ]
     },
     "metadata": {},
     "output_type": "display_data"
    }
   ],
   "source": [
    "plt.figure()\n",
    "plt.ylabel('Clientes')  \n",
    "nuevo9['N'].plot(kind='bar',legend=True)\n",
    "plt.savefig('Clientes_Competencia_N.png')"
   ]
  },
  {
   "cell_type": "markdown",
   "metadata": {},
   "source": [
    "<h1>Matriz de correlacion</h1>"
   ]
  },
  {
   "cell_type": "code",
   "execution_count": 73,
   "metadata": {},
   "outputs": [],
   "source": [
    "correlacion=final.corr()"
   ]
  },
  {
   "cell_type": "code",
   "execution_count": 74,
   "metadata": {},
   "outputs": [],
   "source": [
    "correlacion.to_csv('correlacion.csv')"
   ]
  },
  {
   "cell_type": "code",
   "execution_count": 75,
   "metadata": {},
   "outputs": [
    {
     "data": {
      "text/plain": [
       "<matplotlib.axes._subplots.AxesSubplot at 0x7fd7d5777cc0>"
      ]
     },
     "execution_count": 75,
     "metadata": {},
     "output_type": "execute_result"
    },
    {
     "data": {
      "image/png": "[encoded data removed]",
      "text/plain": [
       "<Figure size 576x396 with 2 Axes>"
      ]
     },
     "metadata": {},
     "output_type": "display_data"
    }
   ],
   "source": [
    "import seaborn as sns\n",
    "sns.heatmap(correlacion)"
   ]
  },
  {
   "cell_type": "code",
   "execution_count": 76,
   "metadata": {},
   "outputs": [
    {
     "data": {
      "text/plain": [
       "Store                           -0.00\n",
       "StoreType                        0.02\n",
       "Assortment                       0.08\n",
       "Promo2                          -0.08\n",
       "CompetitionDistance_int         -0.00\n",
       "CompetitionOpenSinceMonth_int   -0.01\n",
       "CompetitionOpenSinceYear_int    -0.00\n",
       "Promo2SinceYear_int             -0.08\n",
       "Promo2SinceWeek_int             -0.03\n",
       "PromoInterval_int               -0.07\n",
       "DayOfWeek                       -0.43\n",
       "Customers                        0.77\n",
       "Promo                            0.48\n",
       "SchoolHoliday                    0.08\n",
       "Open_int                         0.61\n",
       "StateHoliday_cerrado_int         0.23\n",
       "StateHoliday_public_int         -0.18\n",
       "StateHoliday_Easter_int         -0.11\n",
       "StateHoliday_Christmas_int      -0.08\n",
       "año                              0.03\n",
       "mes                              0.04\n",
       "dia                             -0.02\n",
       "Sales_rango                      1.00\n",
       "Name: Sales_rango, dtype: float64"
      ]
     },
     "execution_count": 76,
     "metadata": {},
     "output_type": "execute_result"
    }
   ],
   "source": [
    "correlacion.Sales_rango"
   ]
  },
  {
   "cell_type": "markdown",
   "metadata": {},
   "source": [
    "<hr>\n",
    "<hr>\n",
    "<hr>"
   ]
  },
  {
   "cell_type": "markdown",
   "metadata": {},
   "source": [
    "<hr>\n",
    "<hr>\n",
    "<hr>"
   ]
  },
  {
   "cell_type": "code",
   "execution_count": null,
   "metadata": {},
   "outputs": [],
   "source": []
  }
 ],
 "metadata": {
  "kernelspec": {
   "display_name": "Python 3",
   "language": "python",
   "name": "python3"
  },
  "language_info": {
   "codemirror_mode": {
    "name": "ipython",
    "version": 3
   },
   "file_extension": ".py",
   "mimetype": "text/x-python",
   "name": "python",
   "nbconvert_exporter": "python",
   "pygments_lexer": "ipython3",
   "version": "3.6.5"
  }
 },
 "nbformat": 4,
 "nbformat_minor": 2
}
