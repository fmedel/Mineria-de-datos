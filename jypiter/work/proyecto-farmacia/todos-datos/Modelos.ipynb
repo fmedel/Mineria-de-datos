{
 "cells": [
  {
   "cell_type": "code",
   "execution_count": 12,
   "metadata": {},
   "outputs": [],
   "source": [
    "from sklearn.metrics import confusion_matrix\n",
    "import matplotlib.pyplot as plt\n",
    "import numpy as np\n",
    "import itertools\n",
    "import pandas as pd\n",
    "from sklearn.cross_validation import train_test_split\n",
    "from sklearn.tree import DecisionTreeClassifier\n",
    "from sklearn.ensemble import RandomForestClassifier"
   ]
  },
  {
   "cell_type": "code",
   "execution_count": 100,
   "metadata": {},
   "outputs": [],
   "source": [
    "def plot_confusion_matrix(cm, classes,normalize=False,title='Matriz de confucion',cmap=plt.cm.Blues,ylabel=\"Resultado real\",xlabel=\"Resultados de la predicion\"):\n",
    "    if normalize:\n",
    "        cm = cm.astype('float') / cm.sum(axis=1)[:, np.newaxis]\n",
    "        print(\"Matriz de confucion normalizada \")\n",
    "    else:\n",
    "        print('Matriz de confuncio no normalizada')\n",
    "\n",
    "    print(cm)\n",
    "    plt.figure()\n",
    "    plt.imshow(cm, interpolation='nearest', cmap=cmap)\n",
    "    plt.title(title)\n",
    "    #plt.colorbar()\n",
    "    tick_marks = np.arange(len(classes))\n",
    "    plt.xticks(tick_marks, classes, rotation=45)\n",
    "    plt.yticks(tick_marks, classes)\n",
    "\n",
    "    fmt = '.2f' if normalize else 'd'\n",
    "    thresh = cm.max() / 2.\n",
    "    for i, j in itertools.product(range(cm.shape[0]), range(cm.shape[1])):\n",
    "        plt.text(j, i, format(cm[i, j], fmt),\n",
    "                 horizontalalignment=\"center\",\n",
    "                 color=\"white\" if cm[i, j] > thresh else \"black\")\n",
    "\n",
    "    plt.tight_layout()\n",
    "    plt.ylabel(ylabel)\n",
    "    plt.xlabel(xlabel)\n",
    "    plt.show()\n",
    "    # para entregar el % de la matriz de confucion\n",
    "    diagonal_index= 0\n",
    "    total=0\n",
    "    diagonal_total=0\n",
    "    error_clasificacion_total=0\n",
    "    for x in cnf_matrix:\n",
    "        index=0\n",
    "        for y in x:\n",
    "            if(diagonal_index==index):\n",
    "                diagonal_total=diagonal_total+y\n",
    "            else:\n",
    "                error_clasificacion_total=error_clasificacion_total+y\n",
    "            total=total+y\n",
    "            index=index+1\n",
    "        diagonal_index=diagonal_index+1\n",
    "    acuaracy =  diagonal_total/total\n",
    "    error_clasificacion=error_clasificacion_total/total\n",
    "    print(\"Porcentaje total de los aciertos \")\n",
    "    print (acuaracy)\n",
    "    return acuaracy,error_clasificacion"
   ]
  },
  {
   "cell_type": "markdown",
   "metadata": {},
   "source": [
    "<hr>"
   ]
  },
  {
   "cell_type": "code",
   "execution_count": 104,
   "metadata": {},
   "outputs": [],
   "source": [
    "f = open('../final.csv','r')\n",
    "final = pd.read_csv(f)\n",
    "final.drop('Unnamed: 0', axis=1, inplace=True)\n",
    "final.drop('Sales', axis=1, inplace=True)"
   ]
  },
  {
   "cell_type": "code",
   "execution_count": 149,
   "metadata": {},
   "outputs": [],
   "source": [
    "predictors = final[[\"StoreType\",\"Assortment\",\"CompetitionDistance_int\",\"Customers\",\"Open_int\"]] \n",
    "targets = final.Sales_rango"
   ]
  },
  {
   "cell_type": "code",
   "execution_count": 177,
   "metadata": {},
   "outputs": [],
   "source": [
    "pred_train, pred_test, tar_train, tar_test = train_test_split(predictors, targets, test_size=.1)"
   ]
  },
  {
   "cell_type": "code",
   "execution_count": 178,
   "metadata": {},
   "outputs": [],
   "source": [
    "temporal_y = tar_train.values\n",
    "temporal_x = pred_train.values"
   ]
  },
  {
   "cell_type": "markdown",
   "metadata": {},
   "source": [
    "<hr><h1>Arboles de deciones </h1><hr>"
   ]
  },
  {
   "cell_type": "code",
   "execution_count": 179,
   "metadata": {},
   "outputs": [],
   "source": [
    "clf = DecisionTreeClassifier(criterion='entropy', max_depth=5)\n",
    "clf = clf.fit(temporal_x, temporal_y)"
   ]
  },
  {
   "cell_type": "code",
   "execution_count": 180,
   "metadata": {},
   "outputs": [],
   "source": [
    "algo = clf.predict(pred_test) # 1 0"
   ]
  },
  {
   "cell_type": "code",
   "execution_count": 181,
   "metadata": {},
   "outputs": [],
   "source": [
    "labels=[0,1,2,3]\n",
    "labels_string=[\"malo\",\"regular\",\"bueno\",\"execlente\"]"
   ]
  },
  {
   "cell_type": "code",
   "execution_count": 182,
   "metadata": {},
   "outputs": [],
   "source": [
    "y_true = tar_test.values\n",
    "y_pred = algo\n",
    "cnf_matrix = confusion_matrix(y_true, y_pred, labels=labels)"
   ]
  },
  {
   "cell_type": "code",
   "execution_count": 183,
   "metadata": {},
   "outputs": [
    {
     "name": "stdout",
     "output_type": "stream",
     "text": [
      "Matriz de confuncio no normalizada\n",
      "[[22354  2938    52    34]\n",
      " [ 1432 17479  6033   544]\n",
      " [    2  4756 14683  5928]\n",
      " [    5   236  4390 20855]]\n"
     ]
    },
    {
     "data": {
      "image/png": "[encoded data removed]",
      "text/plain": [
       "<Figure size 432x288 with 1 Axes>"
      ]
     },
     "metadata": {},
     "output_type": "display_data"
    },
    {
     "name": "stdout",
     "output_type": "stream",
     "text": [
      "Porcentaje total de los aciertos \n",
      "0.740958110911\n"
     ]
    },
    {
     "data": {
      "text/plain": [
       "(0.74095811091121799, 0.25904188908878206)"
      ]
     },
     "execution_count": 183,
     "metadata": {},
     "output_type": "execute_result"
    }
   ],
   "source": [
    "plot_confusion_matrix(cnf_matrix, classes=labels_string, normalize=False,title='Matris de confuncion  normalizada')\n"
   ]
  },
  {
   "cell_type": "markdown",
   "metadata": {},
   "source": [
    "<hr><h1>Random Forest</h1><hr>"
   ]
  },
  {
   "cell_type": "code",
   "execution_count": 185,
   "metadata": {},
   "outputs": [],
   "source": [
    "classifier=RandomForestClassifier(n_estimators=50)"
   ]
  },
  {
   "cell_type": "code",
   "execution_count": 186,
   "metadata": {},
   "outputs": [],
   "source": [
    "classifier = classifier.fit(temporal_x, temporal_y)"
   ]
  },
  {
   "cell_type": "code",
   "execution_count": 187,
   "metadata": {},
   "outputs": [
    {
     "name": "stdout",
     "output_type": "stream",
     "text": [
      "Matriz de confuncio no normalizada\n",
      "[[22354  2938    52    34]\n",
      " [ 1432 17479  6033   544]\n",
      " [    2  4756 14683  5928]\n",
      " [    5   236  4390 20855]]\n"
     ]
    },
    {
     "data": {
      "image/png": "[encoded data removed]",
      "text/plain": [
       "<Figure size 432x288 with 1 Axes>"
      ]
     },
     "metadata": {},
     "output_type": "display_data"
    },
    {
     "name": "stdout",
     "output_type": "stream",
     "text": [
      "Porcentaje total de los aciertos \n",
      "0.740958110911\n"
     ]
    },
    {
     "data": {
      "text/plain": [
       "(0.74095811091121799, 0.25904188908878206)"
      ]
     },
     "execution_count": 187,
     "metadata": {},
     "output_type": "execute_result"
    }
   ],
   "source": [
    "algo = classifier.predict(pred_test) \n",
    "labels=[0,1,2,3]\n",
    "labels_string=[\"malo\",\"regular\",\"bueno\",\"execlente\"]\n",
    "y_true = tar_test.values\n",
    "y_pred = algo\n",
    "cnf_matrix = confusion_matrix(y_true, y_pred, labels=labels)\n",
    "plot_confusion_matrix(cnf_matrix, classes=labels_string, normalize=False,title='Matris de confuncion  normalizada')\n"
   ]
  },
  {
   "cell_type": "code",
   "execution_count": null,
   "metadata": {},
   "outputs": [],
   "source": []
  },
  {
   "cell_type": "code",
   "execution_count": null,
   "metadata": {},
   "outputs": [],
   "source": []
  }
 ],
 "metadata": {
  "kernelspec": {
   "display_name": "Python 3",
   "language": "python",
   "name": "python3"
  },
  "language_info": {
   "codemirror_mode": {
    "name": "ipython",
    "version": 3
   },
   "file_extension": ".py",
   "mimetype": "text/x-python",
   "name": "python",
   "nbconvert_exporter": "python",
   "pygments_lexer": "ipython3",
   "version": "3.6.5"
  }
 },
 "nbformat": 4,
 "nbformat_minor": 2
}
