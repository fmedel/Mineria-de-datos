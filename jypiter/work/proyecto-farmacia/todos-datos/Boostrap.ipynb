{
 "cells": [
  {
   "cell_type": "code",
   "execution_count": 25,
   "metadata": {},
   "outputs": [],
   "source": [
    "import pandas as pd\n",
    "from sklearn.metrics import confusion_matrix\n",
    "from sklearn.cross_validation import train_test_split\n",
    "from sklearn.tree import DecisionTreeClassifier , DecisionTreeRegressor\n",
    "from sklearn.ensemble import RandomForestClassifier , AdaBoostClassifier, GradientBoostingClassifier\n",
    "from sklearn.neural_network import MLPClassifier\n",
    "from sklearn.naive_bayes import GaussianNB\n",
    "from sklearn.linear_model import BayesianRidge,LinearRegression,SGDClassifier,LogisticRegression\n",
    "from sklearn.neighbors.nearest_centroid import NearestCentroid"
   ]
  },
  {
   "cell_type": "code",
   "execution_count": 26,
   "metadata": {},
   "outputs": [],
   "source": [
    "def acuaracy(cm):\n",
    "    diagonal_index= 0\n",
    "    total=0\n",
    "    diagonal_total=0\n",
    "    for x in cm:\n",
    "        index=0\n",
    "        for y in x:\n",
    "            if(diagonal_index==index):\n",
    "                diagonal_total=diagonal_total+y\n",
    "            total=total+y\n",
    "            index=index+1\n",
    "        diagonal_index=diagonal_index+1\n",
    "    acuaracy =  diagonal_total/total\n",
    "    return acuaracy"
   ]
  },
  {
   "cell_type": "code",
   "execution_count": 27,
   "metadata": {},
   "outputs": [],
   "source": [
    "def boostrap(modelos,modelo_strg,maxima_iteracion,tamanio_muestra,predictors,targets,labels):\n",
    "    Datos=[]\n",
    "    string=[\"modelo\",\"promedio\",\"minimo\",\"maximo\"]\n",
    "    Datos.append(string)\n",
    "    index=0;\n",
    "    for clf in modelos:\n",
    "        minimo =1;\n",
    "        maximo=-1;\n",
    "        promedio=0;\n",
    "        temporal=[]\n",
    "        for x in range(0,maxima_iteracion):\n",
    "            pred_train, pred_test, tar_train, tar_test = train_test_split(predictors, targets, test_size=tamanio_muestra)\n",
    "            temporal_y = tar_train.values\n",
    "            temporal_x = pred_train.values\n",
    "            clf = clf.fit(temporal_x, temporal_y)\n",
    "            y_true = tar_test.values\n",
    "            y_pred = clf.predict(pred_test)\n",
    "            try:\n",
    "                cnf_matrix = confusion_matrix(y_true, y_pred, labels=labels)\n",
    "            except:\n",
    "                y_pred2=[]\n",
    "                for x in y_pred:\n",
    "                    y_pred2.append(round(x))\n",
    "                cnf_matrix = confusion_matrix(y_true, y_pred2, labels=labels)\n",
    "            dato= acuaracy(cnf_matrix)\n",
    "            promedio=promedio+dato\n",
    "            if(dato<minimo):\n",
    "                minimo=dato\n",
    "            if(dato>maximo):\n",
    "                maximo=dato\n",
    "        temporal.append(modelo_strg[index])        \n",
    "        temporal.append(promedio/maxima_iteracion)\n",
    "        temporal.append(minimo)\n",
    "        temporal.append(maximo)\n",
    "        Datos.append(temporal)\n",
    "        index=index+1\n",
    "    return Datos "
   ]
  },
  {
   "cell_type": "markdown",
   "metadata": {},
   "source": [
    "<hr>"
   ]
  },
  {
   "cell_type": "code",
   "execution_count": 28,
   "metadata": {},
   "outputs": [],
   "source": [
    "f = open('../final.csv','r')\n",
    "final = pd.read_csv(f)\n",
    "final.drop('Unnamed: 0', axis=1, inplace=True)\n",
    "final.drop('Sales', axis=1, inplace=True)"
   ]
  },
  {
   "cell_type": "code",
   "execution_count": 29,
   "metadata": {},
   "outputs": [],
   "source": [
    "predictors = final[[\"StoreType\",\"Assortment\",\"CompetitionDistance_int\",\"Customers\",\"Open_int\"]]\n",
    "targets = final.Sales_rango \n",
    "labels=[0,1,2,3]"
   ]
  },
  {
   "cell_type": "markdown",
   "metadata": {},
   "source": [
    "<hr>"
   ]
  },
  {
   "cell_type": "code",
   "execution_count": 30,
   "metadata": {},
   "outputs": [],
   "source": [
    "#modelos\n",
    "AC = DecisionTreeClassifier(max_depth=5) \n",
    "AR = DecisionTreeRegressor(max_depth=5)\n",
    "RF = RandomForestClassifier(n_estimators=10,max_depth=5)\n",
    "RN = MLPClassifier(hidden_layer_sizes=(5,), max_iter=10)\n",
    "GN = GaussianNB()\n",
    "LN = LinearRegression()\n",
    "BR = BayesianRidge()\n",
    "SGD= SGDClassifier(loss=\"hinge\", penalty=\"l2\")\n",
    "NC = NearestCentroid()\n",
    "ADA = AdaBoostClassifier( n_estimators=10, learning_rate=1.5, random_state=1)\n",
    "GBRT = GradientBoostingClassifier(random_state=1, n_estimators=10,max_depth=5, learning_rate=0.01)\n",
    "RLOG = LogisticRegression()\n",
    "\n",
    "modelos=[AC,AR,RF,RN,GN,LN,BR,SGD,NC,ADA,GBRT,RLOG]\n",
    "modelos_string=[\"AC\",\"AR\",\"RF\",\"RN\",\"GN\",\"LN\",\"BR\",\"SGD\",\"NC\",\"ADA\",\"GBRT\",\"RLOG\"]"
   ]
  },
  {
   "cell_type": "code",
   "execution_count": 31,
   "metadata": {},
   "outputs": [
    {
     "name": "stderr",
     "output_type": "stream",
     "text": [
      "/opt/conda/lib/python3.6/site-packages/sklearn/neural_network/multilayer_perceptron.py:563: ConvergenceWarning: Stochastic Optimizer: Maximum iterations reached and the optimization hasn't converged yet.\n",
      "  % (), ConvergenceWarning)\n"
     ]
    },
    {
     "data": {
      "text/plain": [
       "[['modelo', 'promedio', 'minimo', 'maximo'],\n",
       " ['AC', 0.72537627431897056, 0.72337078872602512, 0.72746040640575693],\n",
       " ['AR', 0.73506748852252723, 0.73007540232597001, 0.74075166386488533],\n",
       " ['RF', 0.71476489613747418, 0.70638314605636987, 0.72261381622280552],\n",
       " ['RN', 0.50058100097325042, 0.3557377532662872, 0.59700553474700402],\n",
       " ['GN', 0.65120476597752686, 0.64950206938586919, 0.65219571179992331],\n",
       " ['LN', 0.59829961945591903, 0.59703466239230618, 0.59990380375966967],\n",
       " ['BR', 0.59798178709994865, 0.59487867382077364, 0.60009012166424669],\n",
       " ['SGD', 0.31676448324338136, 0.29162119916241486, 0.34642797455785923],\n",
       " ['NC', 0.36133738362776613, 0.34342957698017124, 0.38314605636987448],\n",
       " ['ADA', 0.70076778639612269, 0.69790898634500254, 0.7023230208118284],\n",
       " ['GBRT', 0.73480992125519806, 0.73209071873064557, 0.73766478898162624]]"
      ]
     },
     "execution_count": 31,
     "metadata": {},
     "output_type": "execute_result"
    }
   ],
   "source": [
    "boostrap(modelos,modelos_string,5,.1,predictors,targets,labels)"
   ]
  }
 ],
 "metadata": {
  "kernelspec": {
   "display_name": "Python 3",
   "language": "python",
   "name": "python3"
  },
  "language_info": {
   "codemirror_mode": {
    "name": "ipython",
    "version": 3
   },
   "file_extension": ".py",
   "mimetype": "text/x-python",
   "name": "python",
   "nbconvert_exporter": "python",
   "pygments_lexer": "ipython3",
   "version": "3.6.3"
  }
 },
 "nbformat": 4,
 "nbformat_minor": 2
}
