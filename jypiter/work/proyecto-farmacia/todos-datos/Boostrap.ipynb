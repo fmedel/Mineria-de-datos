{
 "cells": [
  {
   "cell_type": "code",
   "execution_count": 1,
   "metadata": {},
   "outputs": [
    {
     "name": "stderr",
     "output_type": "stream",
     "text": [
      "/opt/conda/lib/python3.6/site-packages/sklearn/cross_validation.py:44: DeprecationWarning: This module was deprecated in version 0.18 in favor of the model_selection module into which all the refactored classes and functions are moved. Also note that the interface of the new CV iterators are different from that of this module. This module will be removed in 0.20.\n",
      "  \"This module will be removed in 0.20.\", DeprecationWarning)\n"
     ]
    }
   ],
   "source": [
    "import pandas as pd\n",
    "from sklearn.metrics import confusion_matrix\n",
    "from sklearn.cross_validation import train_test_split\n",
    "from sklearn.tree import DecisionTreeClassifier , DecisionTreeRegressor\n",
    "from sklearn.ensemble import RandomForestClassifier\n",
    "from sklearn.neural_network import MLPClassifier\n",
    "from sklearn.naive_bayes import GaussianNB\n",
    "from sklearn.linear_model import BayesianRidge,LinearRegression,SGDClassifier\n",
    "from sklearn.neighbors.nearest_centroid import NearestCentroid"
   ]
  },
  {
   "cell_type": "code",
   "execution_count": 2,
   "metadata": {},
   "outputs": [],
   "source": [
    "def acuaracy(cm):\n",
    "    diagonal_index= 0\n",
    "    total=0\n",
    "    diagonal_total=0\n",
    "    for x in cm:\n",
    "        index=0\n",
    "        for y in x:\n",
    "            if(diagonal_index==index):\n",
    "                diagonal_total=diagonal_total+y\n",
    "            total=total+y\n",
    "            index=index+1\n",
    "        diagonal_index=diagonal_index+1\n",
    "    acuaracy =  diagonal_total/total\n",
    "    return acuaracy"
   ]
  },
  {
   "cell_type": "code",
   "execution_count": 8,
   "metadata": {},
   "outputs": [],
   "source": [
    "def boostrap(modelos,modelo_strg,maxima_iteracion,tamanio_muestra):\n",
    "    Datos=[]\n",
    "    string=[\"modelo\",\"promedio\",\"minimo\",\"maximo\"]\n",
    "    Datos.append(string)\n",
    "    index=0;\n",
    "    for clf in modelos:\n",
    "        minimo =1;\n",
    "        maximo=-1;\n",
    "        promedio=0;\n",
    "        temporal=[]\n",
    "        for x in range(0,maxima_iteracion):\n",
    "            pred_train, pred_test, tar_train, tar_test = train_test_split(predictors, targets, test_size=tamanio_muestra)\n",
    "            temporal_y = tar_train.values\n",
    "            temporal_x = pred_train.values\n",
    "            clf = clf.fit(temporal_x, temporal_y)\n",
    "            y_true = tar_test.values\n",
    "            y_pred = clf.predict(pred_test)\n",
    "            try:\n",
    "                cnf_matrix = confusion_matrix(y_true, y_pred, labels=labels)\n",
    "            except:\n",
    "                y_pred2=[]\n",
    "                for x in y_pred:\n",
    "                    y_pred2.append(round(x))\n",
    "                cnf_matrix = confusion_matrix(y_true, y_pred2, labels=labels)\n",
    "            dato= acuaracy(cnf_matrix)\n",
    "            promedio=promedio+dato\n",
    "            if(dato<minimo):\n",
    "                minimo=dato\n",
    "            if(dato>maximo):\n",
    "                maximo=dato\n",
    "        temporal.append(modelo_strg[index])        \n",
    "        temporal.append(promedio/maxima_iteracion)\n",
    "        temporal.append(minimo)\n",
    "        temporal.append(maximo)\n",
    "        Datos.append(temporal)\n",
    "        index=index+1\n",
    "    return Datos "
   ]
  },
  {
   "cell_type": "markdown",
   "metadata": {},
   "source": [
    "<hr>"
   ]
  },
  {
   "cell_type": "code",
   "execution_count": 4,
   "metadata": {},
   "outputs": [],
   "source": [
    "f = open('../final.csv','r')\n",
    "final = pd.read_csv(f)\n",
    "final.drop('Unnamed: 0', axis=1, inplace=True)\n",
    "final.drop('Sales', axis=1, inplace=True)"
   ]
  },
  {
   "cell_type": "code",
   "execution_count": 5,
   "metadata": {},
   "outputs": [],
   "source": [
    "predictors = final[[\"StoreType\",\"Assortment\",\"CompetitionDistance_int\",\"Customers\",\"Open_int\"]]\n",
    "targets = final.Sales_rango \n",
    "labels=[0,1,2,3]"
   ]
  },
  {
   "cell_type": "markdown",
   "metadata": {},
   "source": [
    "<hr>"
   ]
  },
  {
   "cell_type": "code",
   "execution_count": 9,
   "metadata": {},
   "outputs": [],
   "source": [
    "#modelos\n",
    "AC = DecisionTreeClassifier(max_depth=5) # \n",
    "AR = DecisionTreeRegressor(max_depth=5)\n",
    "RF = RandomForestClassifier(n_estimators=10,max_depth=5)\n",
    "RN = MLPClassifier(hidden_layer_sizes=(5,), max_iter=10)\n",
    "GN = GaussianNB()\n",
    "LN = LinearRegression()\n",
    "BR = BayesianRidge()\n",
    "SGD= SGDClassifier(loss=\"hinge\", penalty=\"l2\")\n",
    "NC = NearestCentroid()\n",
    "modelos=[AC,AR,RF,RN,GN,LN,BR,SGD,NC]\n",
    "modelos_string=[\"AC\",\"AR\",\"RF\",\"RN\",\"GN\",\"LN\",\"BR\",\"SGD\",\"NC\"]"
   ]
  },
  {
   "cell_type": "code",
   "execution_count": 10,
   "metadata": {},
   "outputs": [
    {
     "name": "stderr",
     "output_type": "stream",
     "text": [
      "/opt/conda/lib/python3.6/site-packages/sklearn/neural_network/multilayer_perceptron.py:563: ConvergenceWarning: Stochastic Optimizer: Maximum iterations reached and the optimization hasn't converged yet.\n",
      "  % (), ConvergenceWarning)\n"
     ]
    },
    {
     "data": {
      "text/plain": [
       "[['modelo', 'promedio', 'minimo', 'maximo'],\n",
       " ['AC', 0.72558960293351416, 0.72412776122924472, 0.72798143942745352],\n",
       " ['AR', 0.83536044671208509, 0.83365283471456242, 0.83694615664415406],\n",
       " ['RF', 0.71763057775680539, 0.70730724235900155, 0.72766685345208959],\n",
       " ['RN', 0.64048524886699898, 0.41582367456080849, 0.73195308736642384],\n",
       " ['GN', 0.65159603228438578, 0.64969868562047173, 0.65401441196999632],\n",
       " ['LN', 0.59807963628947536, 0.59510357815442561, 0.60167538427623801],\n",
       " ['BR', 0.59793858903211128, 0.59536177921908939, 0.60169533981944434],\n",
       " ['SGD', 0.40463227848723465, 0.27214636112503809, 0.47803305118903666],\n",
       " ['NC', 0.38276363779357264, 0.34967214242880035, 0.41636436920596531]]"
      ]
     },
     "execution_count": 10,
     "metadata": {},
     "output_type": "execute_result"
    }
   ],
   "source": [
    "boostrap(modelos,modelos_string,10,.1)"
   ]
  },
  {
   "cell_type": "code",
   "execution_count": null,
   "metadata": {},
   "outputs": [],
   "source": []
  }
 ],
 "metadata": {
  "kernelspec": {
   "display_name": "Python 3",
   "language": "python",
   "name": "python3"
  },
  "language_info": {
   "codemirror_mode": {
    "name": "ipython",
    "version": 3
   },
   "file_extension": ".py",
   "mimetype": "text/x-python",
   "name": "python",
   "nbconvert_exporter": "python",
   "pygments_lexer": "ipython3",
   "version": "3.6.5"
  }
 },
 "nbformat": 4,
 "nbformat_minor": 2
}
